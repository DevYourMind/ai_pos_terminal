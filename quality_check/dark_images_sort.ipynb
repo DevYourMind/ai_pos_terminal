{
 "cells": [
  {
   "cell_type": "code",
   "execution_count": 30,
   "metadata": {},
   "outputs": [],
   "source": [
    "from PIL import Image, ImageFile, ImageOps \n",
    "from pathlib import Path\n",
    "import numpy as np\n",
    "import os\n",
    "from tqdm import tqdm\n",
    "import pandas as pd\n",
    "import seaborn as sns\n",
    "import shutil"
   ]
  },
  {
   "cell_type": "code",
   "execution_count": 12,
   "metadata": {},
   "outputs": [],
   "source": [
    "ImageFile.LOAD_TRUNCATED_IMAGES = True"
   ]
  },
  {
   "cell_type": "code",
   "execution_count": 7,
   "metadata": {},
   "outputs": [],
   "source": [
    "path_data = Path('dark_check')\n",
    "images_filenames = []\n",
    "for dirpath, dirnames, filenames in os.walk(path_data):\n",
    "    if len(dirnames)!=0: continue\n",
    "    images_filenames.extend(\n",
    "        [str(Path(dirpath) / x) for x in filenames])"
   ]
  },
  {
   "cell_type": "code",
   "execution_count": 14,
   "metadata": {},
   "outputs": [
    {
     "name": "stderr",
     "output_type": "stream",
     "text": [
      "100%|██████████| 1272/1272 [00:27<00:00, 45.75it/s]\n"
     ]
    }
   ],
   "source": [
    "means = []\n",
    "for filename in tqdm(images_filenames):\n",
    "    img = ImageOps.grayscale(Image.open(filename))\n",
    "    mean = np.mean(img)\n",
    "    means.append(mean)"
   ]
  },
  {
   "cell_type": "code",
   "execution_count": 17,
   "metadata": {},
   "outputs": [],
   "source": [
    "df = pd.DataFrame({\n",
    "    'filename': images_filenames,\n",
    "    'dark_value': means\n",
    "})"
   ]
  },
  {
   "cell_type": "code",
   "execution_count": 21,
   "metadata": {},
   "outputs": [],
   "source": [
    "df['target_dark'] = df['filename'].apply(lambda x: '\\\\bright\\\\' not in x)"
   ]
  },
  {
   "cell_type": "code",
   "execution_count": 25,
   "metadata": {},
   "outputs": [
    {
     "data": {
      "text/plain": [
       "<seaborn.axisgrid.FacetGrid at 0x21374265270>"
      ]
     },
     "execution_count": 25,
     "metadata": {},
     "output_type": "execute_result"
    },
    {
     "data": {
      "image/png": "[encoded data removed]",
      "text/plain": [
       "<Figure size 591.986x500 with 1 Axes>"
      ]
     },
     "metadata": {},
     "output_type": "display_data"
    }
   ],
   "source": [
    "sns.displot(\n",
    "    data=df,\n",
    "    x='dark_value', hue='target_dark', bins=150)"
   ]
  },
  {
   "cell_type": "code",
   "execution_count": 27,
   "metadata": {},
   "outputs": [
    {
     "data": {
      "text/plain": [
       "count    156.000000\n",
       "mean      28.731172\n",
       "std       19.918801\n",
       "min        1.000152\n",
       "25%        9.098811\n",
       "50%       26.218320\n",
       "75%       45.352425\n",
       "max       98.830573\n",
       "Name: dark_value, dtype: float64"
      ]
     },
     "execution_count": 27,
     "metadata": {},
     "output_type": "execute_result"
    }
   ],
   "source": [
    "df.loc[df['target_dark']==1, 'dark_value'].describe()"
   ]
  },
  {
   "cell_type": "code",
   "execution_count": 28,
   "metadata": {},
   "outputs": [
    {
     "data": {
      "text/plain": [
       "count    1116.000000\n",
       "mean      104.817895\n",
       "std        26.682285\n",
       "min        25.662347\n",
       "25%        89.246837\n",
       "50%       105.419171\n",
       "75%       123.633526\n",
       "max       175.324251\n",
       "Name: dark_value, dtype: float64"
      ]
     },
     "execution_count": 28,
     "metadata": {},
     "output_type": "execute_result"
    }
   ],
   "source": [
    "df.loc[df['target_dark']==0, 'dark_value'].describe()"
   ]
  },
  {
   "cell_type": "code",
   "execution_count": 45,
   "metadata": {},
   "outputs": [],
   "source": [
    "path_cross = Path('dark_cross')\n",
    "if not os.path.exists(path_cross): os.makedirs(path_cross)\n",
    "for filename in df.loc[\n",
    "        (df['target_dark']==True) &\n",
    "        (df['dark_value']<=50),\n",
    "    'filename']:\n",
    "    shutil.copy(filename, path_cross)"
   ]
  },
  {
   "cell_type": "code",
   "execution_count": 2,
   "metadata": {},
   "outputs": [
    {
     "name": "stdout",
     "output_type": "stream",
     "text": [
      "90 89 6 6 4 23\n"
     ]
    }
   ],
   "source": [
    "n = input().split(' ')\n",
    "n.sort(reverse=True)\n",
    "n = ' '.join(n)\n",
    "print(n)"
   ]
  }
 ],
 "metadata": {
  "kernelspec": {
   "display_name": "Python 3",
   "language": "python",
   "name": "python3"
  },
  "language_info": {
   "codemirror_mode": {
    "name": "ipython",
    "version": 3
   },
   "file_extension": ".py",
   "mimetype": "text/x-python",
   "name": "python",
   "nbconvert_exporter": "python",
   "pygments_lexer": "ipython3",
   "version": "3.10.11"
  }
 },
 "nbformat": 4,
 "nbformat_minor": 2
}
