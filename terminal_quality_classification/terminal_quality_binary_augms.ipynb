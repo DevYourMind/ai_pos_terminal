{
 "cells": [
  {
   "cell_type": "markdown",
   "metadata": {},
   "source": [
    "Бинарная классификация:\n",
    "1. Терминал с дефектом\n",
    "2. Терминал без дефекта\n",
    "\n",
    "Картинки с дефектом аугментированы."
   ]
  },
  {
   "cell_type": "code",
   "execution_count": null,
   "metadata": {},
   "outputs": [],
   "source": []
  }
 ],
 "metadata": {
  "language_info": {
   "name": "python"
  },
  "orig_nbformat": 4
 },
 "nbformat": 4,
 "nbformat_minor": 2
}
