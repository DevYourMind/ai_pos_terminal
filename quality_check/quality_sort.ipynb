{
 "cells": [
  {
   "cell_type": "code",
   "execution_count": 1,
   "metadata": {},
   "outputs": [],
   "source": [
    "import pandas as pd\n",
    "import matplotlib.pyplot as plt\n",
    "import seaborn as sns\n",
    "from pathlib import Path\n",
    "import os"
   ]
  },
  {
   "cell_type": "code",
   "execution_count": 2,
   "metadata": {},
   "outputs": [],
   "source": [
    "path_photos = Path(r'D:\\projects\\ai_pos_terminal\\ai_pos_terminal\\data\\blurred_data')"
   ]
  },
  {
   "cell_type": "code",
   "execution_count": 3,
   "metadata": {},
   "outputs": [],
   "source": [
    "import cv2\n",
    "def variance_of_laplacian(image):\n",
    "\t# compute the Laplacian of the image and then return the focus\n",
    "\t# measure, which is simply the variance of the Laplacian\n",
    "\treturn cv2.Laplacian(image, cv2.CV_64F).var()"
   ]
  },
  {
   "cell_type": "code",
   "execution_count": 4,
   "metadata": {},
   "outputs": [],
   "source": [
    "filenames_images = []\n",
    "for dirpath, dirnames, filenames in os.walk(path_photos):\n",
    "    if len(dirnames)==0 and len(filenames):\n",
    "        filenames_images.extend([str(Path(dirpath) / x) for x in filenames])\n",
    "    # print(dirpath, dirnames, filenames)"
   ]
  },
  {
   "cell_type": "code",
   "execution_count": 38,
   "metadata": {},
   "outputs": [
    {
     "data": {
      "text/plain": [
       "'D:\\\\projects\\\\ai_pos_terminal\\\\ai_pos_terminal\\\\data\\\\blurred_data\\\\blurred\\\\╨Ч╨Э╨Ю0301516604_TS903153367-01d63991-db4b-471f-9b7d-0a07895aa1e0.jpg'"
      ]
     },
     "execution_count": 38,
     "metadata": {},
     "output_type": "execute_result"
    }
   ],
   "source": [
    "filenames_images[0]"
   ]
  },
  {
   "cell_type": "code",
   "execution_count": null,
   "metadata": {},
   "outputs": [],
   "source": [
    "'D:/projects/ai_pos_terminal/ai_pos_terminal/data/blurred_data/blurred/╨Ч╨Э╨Ю0301516604_TS903153367-01d63991-db4b-471f-9b7d-0a07895aa1e0.jpg'"
   ]
  },
  {
   "cell_type": "code",
   "execution_count": 5,
   "metadata": {},
   "outputs": [],
   "source": [
    "from PIL import Image\n",
    "import numpy as np\n",
    "from tqdm import tqdm"
   ]
  },
  {
   "cell_type": "code",
   "execution_count": 6,
   "metadata": {},
   "outputs": [
    {
     "name": "stderr",
     "output_type": "stream",
     "text": [
      "100%|██████████| 1521/1521 [01:15<00:00, 20.20it/s]\n"
     ]
    }
   ],
   "source": [
    "fms = []\n",
    "for imagePath in tqdm(filenames_images):\n",
    "\t# load the image, convert it to grayscale, and compute the\n",
    "\t# focus measure of the image using the Variance of Laplacian\n",
    "\t# method\n",
    "\t# image = cv2.imread(imagePath)\n",
    "\timage = Image.open(imagePath)\n",
    "\tgray = cv2.cvtColor(np.array(image), cv2.COLOR_BGR2GRAY)\n",
    "\tfm = variance_of_laplacian(gray)\n",
    "\tfms.append(fm)"
   ]
  },
  {
   "cell_type": "code",
   "execution_count": 7,
   "metadata": {},
   "outputs": [
    {
     "data": {
      "text/html": [
       "<div>\n",
       "<style scoped>\n",
       "    .dataframe tbody tr th:only-of-type {\n",
       "        vertical-align: middle;\n",
       "    }\n",
       "\n",
       "    .dataframe tbody tr th {\n",
       "        vertical-align: top;\n",
       "    }\n",
       "\n",
       "    .dataframe thead th {\n",
       "        text-align: right;\n",
       "    }\n",
       "</style>\n",
       "<table border=\"1\" class=\"dataframe\">\n",
       "  <thead>\n",
       "    <tr style=\"text-align: right;\">\n",
       "      <th></th>\n",
       "      <th>filename</th>\n",
       "      <th>fm</th>\n",
       "    </tr>\n",
       "  </thead>\n",
       "  <tbody>\n",
       "    <tr>\n",
       "      <th>0</th>\n",
       "      <td>D:\\projects\\ai_pos_terminal\\ai_pos_terminal\\da...</td>\n",
       "      <td>5.645239</td>\n",
       "    </tr>\n",
       "    <tr>\n",
       "      <th>1</th>\n",
       "      <td>D:\\projects\\ai_pos_terminal\\ai_pos_terminal\\da...</td>\n",
       "      <td>56.838169</td>\n",
       "    </tr>\n",
       "    <tr>\n",
       "      <th>2</th>\n",
       "      <td>D:\\projects\\ai_pos_terminal\\ai_pos_terminal\\da...</td>\n",
       "      <td>13.649360</td>\n",
       "    </tr>\n",
       "    <tr>\n",
       "      <th>3</th>\n",
       "      <td>D:\\projects\\ai_pos_terminal\\ai_pos_terminal\\da...</td>\n",
       "      <td>6.277778</td>\n",
       "    </tr>\n",
       "    <tr>\n",
       "      <th>4</th>\n",
       "      <td>D:\\projects\\ai_pos_terminal\\ai_pos_terminal\\da...</td>\n",
       "      <td>55.023866</td>\n",
       "    </tr>\n",
       "  </tbody>\n",
       "</table>\n",
       "</div>"
      ],
      "text/plain": [
       "                                            filename         fm\n",
       "0  D:\\projects\\ai_pos_terminal\\ai_pos_terminal\\da...   5.645239\n",
       "1  D:\\projects\\ai_pos_terminal\\ai_pos_terminal\\da...  56.838169\n",
       "2  D:\\projects\\ai_pos_terminal\\ai_pos_terminal\\da...  13.649360\n",
       "3  D:\\projects\\ai_pos_terminal\\ai_pos_terminal\\da...   6.277778\n",
       "4  D:\\projects\\ai_pos_terminal\\ai_pos_terminal\\da...  55.023866"
      ]
     },
     "execution_count": 7,
     "metadata": {},
     "output_type": "execute_result"
    }
   ],
   "source": [
    "df_data = pd.DataFrame(\n",
    "    {'filename': filenames_images, \n",
    "     'fm': fms})\n",
    "df_data.head()"
   ]
  },
  {
   "cell_type": "code",
   "execution_count": 26,
   "metadata": {},
   "outputs": [],
   "source": [
    "df_data.to_excel('consequent_data.xlsx')"
   ]
  },
  {
   "cell_type": "code",
   "execution_count": 63,
   "metadata": {},
   "outputs": [],
   "source": [
    "df_multiproc = pd.read_excel(r'D:\\projects\\ai_pos_terminal\\ai_pos_terminal\\dict_multiproc.xlsx', index_col=[0])"
   ]
  },
  {
   "cell_type": "code",
   "execution_count": 93,
   "metadata": {},
   "outputs": [],
   "source": [
    "df_data['fm_round'] = df_data['fm'].round(10)\n",
    "df_multiproc['fm_round'] = df_multiproc['fm'].round(10)"
   ]
  },
  {
   "cell_type": "code",
   "execution_count": 94,
   "metadata": {},
   "outputs": [
    {
     "data": {
      "text/plain": [
       "0.0"
      ]
     },
     "execution_count": 94,
     "metadata": {},
     "output_type": "execute_result"
    }
   ],
   "source": [
    "(df_data['fm_round'] - df_multiproc['fm_round']).sum()"
   ]
  },
  {
   "cell_type": "code",
   "execution_count": 61,
   "metadata": {},
   "outputs": [],
   "source": [
    "df_data['blurred'] = df_data['filename'].apply(lambda x: '\\\\blurred\\\\' in x)"
   ]
  },
  {
   "cell_type": "code",
   "execution_count": 67,
   "metadata": {},
   "outputs": [
    {
     "data": {
      "text/plain": [
       "<Axes: xlabel='fm', ylabel='Count'>"
      ]
     },
     "execution_count": 67,
     "metadata": {},
     "output_type": "execute_result"
    },
    {
     "data": {
      "image/png": "[encoded data removed]",
      "text/plain": [
       "<Figure size 640x480 with 1 Axes>"
      ]
     },
     "metadata": {},
     "output_type": "display_data"
    }
   ],
   "source": [
    "sns.histplot(\n",
    "    data=df_data, x='fm', hue='blurred', bins=350)"
   ]
  },
  {
   "cell_type": "code",
   "execution_count": 68,
   "metadata": {},
   "outputs": [
    {
     "data": {
      "text/plain": [
       "<Axes: xlabel='fm', ylabel='Count'>"
      ]
     },
     "execution_count": 68,
     "metadata": {},
     "output_type": "execute_result"
    },
    {
     "data": {
      "image/png": "[encoded data removed]",
      "text/plain": [
       "<Figure size 640x480 with 1 Axes>"
      ]
     },
     "metadata": {},
     "output_type": "display_data"
    }
   ],
   "source": [
    "sns.histplot(\n",
    "    data=df_data[df_data['fm']<125], x='fm', hue='blurred', bins=350)"
   ]
  },
  {
   "cell_type": "code",
   "execution_count": 63,
   "metadata": {},
   "outputs": [
    {
     "data": {
      "text/plain": [
       "count    267.000000\n",
       "mean      36.725180\n",
       "std       57.484179\n",
       "min        2.578075\n",
       "25%       16.298787\n",
       "50%       32.357905\n",
       "75%       49.915388\n",
       "max      911.212783\n",
       "Name: fm, dtype: float64"
      ]
     },
     "execution_count": 63,
     "metadata": {},
     "output_type": "execute_result"
    }
   ],
   "source": [
    "df_data.loc[df_data['blurred'], 'fm'].describe()"
   ]
  },
  {
   "cell_type": "code",
   "execution_count": 64,
   "metadata": {},
   "outputs": [
    {
     "data": {
      "text/plain": [
       "count    1254.000000\n",
       "mean      140.767601\n",
       "std       149.436423\n",
       "min         4.334036\n",
       "25%        58.302238\n",
       "50%        96.606697\n",
       "75%       174.057298\n",
       "max      1756.000194\n",
       "Name: fm, dtype: float64"
      ]
     },
     "execution_count": 64,
     "metadata": {},
     "output_type": "execute_result"
    }
   ],
   "source": [
    "df_data.loc[~df_data['blurred'], 'fm'].describe()"
   ]
  },
  {
   "cell_type": "code",
   "execution_count": 66,
   "metadata": {},
   "outputs": [
    {
     "data": {
      "text/plain": [
       "<Axes: xlabel='fm', ylabel='Count'>"
      ]
     },
     "execution_count": 66,
     "metadata": {},
     "output_type": "execute_result"
    },
    {
     "data": {
      "image/png": "[encoded data removed]",
      "text/plain": [
       "<Figure size 640x480 with 1 Axes>"
      ]
     },
     "metadata": {},
     "output_type": "display_data"
    }
   ],
   "source": [
    "sns.histplot(\n",
    "    data=df_data[df_data['fm']<17], x='fm', hue='blurred')"
   ]
  },
  {
   "cell_type": "code",
   "execution_count": 76,
   "metadata": {},
   "outputs": [
    {
     "name": "stderr",
     "output_type": "stream",
     "text": [
      "100%|██████████| 98/98 [00:00<00:00, 1966.08it/s]\n"
     ]
    }
   ],
   "source": [
    "import shutil\n",
    "data_filtered = df_data[df_data['fm']<17]\n",
    "path_filtered = Path('filtered')\n",
    "if not os.path.exists(path_filtered): os.makedirs(path_filtered)\n",
    "\n",
    "for filename in tqdm(data_filtered['filename']):\n",
    "    shutil.copy(filename, path_filtered)"
   ]
  },
  {
   "cell_type": "code",
   "execution_count": 79,
   "metadata": {},
   "outputs": [
    {
     "name": "stderr",
     "output_type": "stream",
     "text": [
      "100%|██████████| 26/26 [00:00<00:00, 1386.02it/s]\n"
     ]
    }
   ],
   "source": [
    "\n",
    "path_filtered = Path('false')\n",
    "if not os.path.exists(path_filtered): os.makedirs(path_filtered)\n",
    "for filename in tqdm(data_filtered.loc[~data_filtered['blurred'], 'filename']):\n",
    "    shutil.copy(filename, path_filtered)"
   ]
  },
  {
   "cell_type": "code",
   "execution_count": null,
   "metadata": {},
   "outputs": [],
   "source": [
    "def variance_of_laplacian(image):\n",
    "\t# compute the Laplacian of the image and then return the focus\n",
    "\t# measure, which is simply the variance of the Laplacian\n",
    "\treturn cv2.Laplacian(image, cv2.CV_64F).var()"
   ]
  },
  {
   "cell_type": "code",
   "execution_count": 80,
   "metadata": {},
   "outputs": [],
   "source": [
    "def foo(L, filename):\n",
    "\timage = Image.open(filename)\n",
    "\tgray = cv2.cvtColor(np.array(image), cv2.COLOR_BGR2GRAY)\n",
    "\tL.append(cv2.Laplacian(gray, cv2.CV_64F).var())\n",
    "\t# return cv2.Laplacian(gray, cv2.CV_64F).var()"
   ]
  },
  {
   "cell_type": "code",
   "execution_count": 83,
   "metadata": {},
   "outputs": [],
   "source": [
    "# import multiprocessing\n",
    "\n",
    "# def double(a):\n",
    "#     return a * 2\n",
    "\n",
    "# def driver_func():\n",
    "#     PROCESSES = 4\n",
    "#     with multiprocessing.Pool(PROCESSES) as pool:\n",
    "#         params = [(1, ), (2, ), (3, ), (4, )]\n",
    "#         results = [pool.apply_async(double, p) for p in params]\n",
    "\n",
    "#         for r in results:\n",
    "#             print('\\t', r.get())\n",
    "# driver_func()"
   ]
  },
  {
   "cell_type": "code",
   "execution_count": 81,
   "metadata": {},
   "outputs": [],
   "source": [
    "# from multiprocessing import Process, Manager\n",
    "\n",
    "# with Manager() as manager:\n",
    "#     L = manager.list()  # <-- can be shared between processes.\n",
    "#     processes = []\n",
    "\n",
    "#     for filename in filenames_images:\n",
    "#         p = Process(target=foo, args=(L,filename,))  # Passing the list\n",
    "#         p.start()\n",
    "#         processes.append(p)\n",
    "\n",
    "#     for p in processes:\n",
    "#         p.join()\n",
    "\n",
    "#     L = list(L) "
   ]
  },
  {
   "cell_type": "code",
   "execution_count": null,
   "metadata": {},
   "outputs": [],
   "source": [
    "fms = []\n",
    "for imagePath in tqdm(filenames_images):\n",
    "\t# load the image, convert it to grayscale, and compute the\n",
    "\t# focus measure of the image using the Variance of Laplacian\n",
    "\t# method\n",
    "\t# image = cv2.imread(imagePath)\n",
    "\timage = Image.open(imagePath)\n",
    "\tgray = cv2.cvtColor(np.array(image), cv2.COLOR_BGR2GRAY)\n",
    "\tfm = variance_of_laplacian(gray)\n",
    "\tfms.append(fm)"
   ]
  }
 ],
 "metadata": {
  "kernelspec": {
   "display_name": "Python 3",
   "language": "python",
   "name": "python3"
  },
  "language_info": {
   "codemirror_mode": {
    "name": "ipython",
    "version": 3
   },
   "file_extension": ".py",
   "mimetype": "text/x-python",
   "name": "python",
   "nbconvert_exporter": "python",
   "pygments_lexer": "ipython3",
   "version": "3.10.11"
  }
 },
 "nbformat": 4,
 "nbformat_minor": 2
}
