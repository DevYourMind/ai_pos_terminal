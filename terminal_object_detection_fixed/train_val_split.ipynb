{
 "cells": [
  {
   "cell_type": "markdown",
   "metadata": {},
   "source": [
    "Разделение выборки на train и val"
   ]
  },
  {
   "cell_type": "markdown",
   "metadata": {},
   "source": [
    "# Загрузка библиотек"
   ]
  },
  {
   "cell_type": "code",
   "execution_count": 2,
   "metadata": {},
   "outputs": [],
   "source": [
    "import pandas as pd\n",
    "import os\n",
    "import shutil\n",
    "from tqdm import tqdm\n",
    "from pathlib import Path\n",
    "from sklearn.model_selection import train_test_split"
   ]
  },
  {
   "cell_type": "code",
   "execution_count": 29,
   "metadata": {},
   "outputs": [],
   "source": [
    "RANDOM_STATE = 42"
   ]
  },
  {
   "cell_type": "markdown",
   "metadata": {},
   "source": [
    "# Создание папок с данными"
   ]
  },
  {
   "cell_type": "code",
   "execution_count": 26,
   "metadata": {},
   "outputs": [],
   "source": [
    "path_od_data = Path('../data/terminal_object_detection_data/')\n",
    "path_data = Path(path_od_data / 'model_data')\n",
    "if not os.path.exists(path_data):\n",
    "    os.makedirs(path_data)\n",
    "path_train = Path(path_data / 'train')\n",
    "if not os.path.exists(path_train):\n",
    "    os.makedirs(path_train)\n",
    "    os.makedirs(path_train / 'images')\n",
    "    os.makedirs(path_train / 'labels')\n",
    "path_val = Path(path_data / 'val')\n",
    "if not os.path.exists(path_val):\n",
    "    os.makedirs(path_val)\n",
    "    os.makedirs(path_val / 'images')\n",
    "    os.makedirs(path_val / 'labels')"
   ]
  },
  {
   "cell_type": "markdown",
   "metadata": {},
   "source": [
    "# Перемещение аугментированных \"ancticlass\" фотографий"
   ]
  },
  {
   "cell_type": "code",
   "execution_count": 11,
   "metadata": {},
   "outputs": [],
   "source": [
    "folders_augm = [x for x in os.listdir(path_od_data / 'photos') if 'augm' in x]"
   ]
  },
  {
   "cell_type": "code",
   "execution_count": 36,
   "metadata": {},
   "outputs": [
    {
     "name": "stderr",
     "output_type": "stream",
     "text": [
      "100%|██████████| 8/8 [09:54<00:00, 74.33s/it] \n"
     ]
    }
   ],
   "source": [
    "for folder in tqdm(folders_augm):\n",
    "    path_photo_folder = path_od_data / 'photos' / folder\n",
    "    for filename in os.listdir(path_photo_folder):\n",
    "        full_path_photo = path_photo_folder / filename\n",
    "        full_path_label = full_path_photo.__str__().replace('photos', 'yolo_annot').replace('.jpg', '.txt').replace('.jpeg', '.txt').replace('.png', '.txt')\n",
    "        shutil.copy(full_path_photo, path_train / 'images' / full_path_photo.__str__().split('\\\\')[-1])\n",
    "        shutil.copy(full_path_label, path_train / 'labels' / full_path_photo.__str__().split('\\\\')[-1])"
   ]
  },
  {
   "cell_type": "markdown",
   "metadata": {},
   "source": [
    "# Разделение исходных фотографий на train и val"
   ]
  },
  {
   "cell_type": "code",
   "execution_count": 3,
   "metadata": {},
   "outputs": [],
   "source": [
    "val_size = 0.15"
   ]
  },
  {
   "cell_type": "code",
   "execution_count": 9,
   "metadata": {},
   "outputs": [],
   "source": [
    "df_markup = pd.read_pickle('updated_markup.pkl')"
   ]
  },
  {
   "cell_type": "code",
   "execution_count": 7,
   "metadata": {},
   "outputs": [
    {
     "data": {
      "text/plain": [
       "array(['new_terminals', 'other', 'pc_screens', 'rack_new_terminal',\n",
       "       'receipts', 'stickers', 'terminals', 'terminals_receipt',\n",
       "       'terminals_side_view', 'wrong_photos_of_terminals'], dtype=object)"
      ]
     },
     "execution_count": 7,
     "metadata": {},
     "output_type": "execute_result"
    }
   ],
   "source": [
    "df_markup['flags'].unique()"
   ]
  },
  {
   "cell_type": "code",
   "execution_count": 10,
   "metadata": {},
   "outputs": [],
   "source": [
    "df_markup = df_markup.loc[\n",
    "    df_markup['flags'].isin([\n",
    "        'new_terminals', 'other', 'pc_screens', 'rack_new_terminal',\n",
    "       'receipts', 'stickers', 'terminals', 'terminals_side_view'\n",
    "    ])\n",
    "]"
   ]
  },
  {
   "cell_type": "code",
   "execution_count": 30,
   "metadata": {},
   "outputs": [],
   "source": [
    "train, val = train_test_split(df_markup, stratify=df_markup['flags'], test_size=val_size, random_state=RANDOM_STATE)"
   ]
  },
  {
   "cell_type": "code",
   "execution_count": 31,
   "metadata": {},
   "outputs": [
    {
     "name": "stderr",
     "output_type": "stream",
     "text": [
      "100%|██████████| 6796/6796 [01:01<00:00, 111.07it/s]\n",
      "100%|██████████| 1200/1200 [00:10<00:00, 116.73it/s]\n"
     ]
    }
   ],
   "source": [
    "for filename in tqdm(train['filename']):\n",
    "    shutil.copy(filename, path_train / 'images')\n",
    "    label_name = filename.replace('photos', 'yolo_annot').replace('.jpg', '.txt').replace('.jpeg', '.txt')\n",
    "    shutil.copy(filename, path_train / 'labels')\n",
    "\n",
    "for filename in tqdm(val['filename']):\n",
    "    shutil.copy(filename, path_val / 'images')\n",
    "    label_name = filename.replace('photos', 'yolo_annot').replace('.jpg', '.txt').replace('.jpeg', '.txt')\n",
    "    shutil.copy(filename, path_val / 'labels')"
   ]
  }
 ],
 "metadata": {
  "kernelspec": {
   "display_name": "Python 3",
   "language": "python",
   "name": "python3"
  },
  "language_info": {
   "codemirror_mode": {
    "name": "ipython",
    "version": 3
   },
   "file_extension": ".py",
   "mimetype": "text/x-python",
   "name": "python",
   "nbconvert_exporter": "python",
   "pygments_lexer": "ipython3",
   "version": "3.10.11"
  }
 },
 "nbformat": 4,
 "nbformat_minor": 2
}
