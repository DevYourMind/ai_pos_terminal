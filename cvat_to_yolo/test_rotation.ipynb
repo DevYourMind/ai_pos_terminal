{
 "cells": [
  {
   "cell_type": "code",
   "execution_count": 5,
   "metadata": {},
   "outputs": [],
   "source": [
    "import matplotlib.pyplot as plt\n",
    "import os\n",
    "from pathlib import Path\n",
    "from tqdm import tqdm\n",
    "from PIL import Image, ImageOps"
   ]
  },
  {
   "cell_type": "code",
   "execution_count": 33,
   "metadata": {},
   "outputs": [],
   "source": [
    "path_test = Path('test_data')\n",
    "path_images = path_test / 'images'\n",
    "path_labels = path_test / 'labels'\n",
    "path_labeled = Path('labeled')\n",
    "if not os.path.exists(path_labeled): os.makedirs(path_labeled)"
   ]
  },
  {
   "cell_type": "code",
   "execution_count": 35,
   "metadata": {},
   "outputs": [
    {
     "name": "stderr",
     "output_type": "stream",
     "text": [
      "100%|██████████| 35/35 [00:09<00:00,  3.86it/s]\n"
     ]
    }
   ],
   "source": [
    "colors = ['bo', 'ro', 'go', 'co']\n",
    "for image in tqdm(os.listdir(path_images)):\n",
    "    img = ImageOps.exif_transpose(\n",
    "        Image.open(path_images / image))\n",
    "    with open(path_labels / (image[:-4]+'.txt')) as file:\n",
    "        row = file.readlines()[0]\n",
    "    coords = [float(x) for x in row.split()[1:]]\n",
    "    xs_y = [float(val) for val in row.split()[1:]][::2]\n",
    "    ys_y = [float(val) for val in row.split()[1:]][1::2]\n",
    "    w, h = img.size\n",
    "    plt.figure(figsize=(15, 10), dpi=150)\n",
    "    plt.imshow(img)\n",
    "    for i, x in enumerate(xs_y):\n",
    "        plt.plot(xs_y[i]*w, ys_y[i]*h, colors[i], markersize=1) \n",
    "    plt.axis('off')\n",
    "    # plt.show()\n",
    "    plt.savefig(path_labeled / image)\n",
    "    plt.close()\n",
    "    # break"
   ]
  }
 ],
 "metadata": {
  "kernelspec": {
   "display_name": "Python 3",
   "language": "python",
   "name": "python3"
  },
  "language_info": {
   "codemirror_mode": {
    "name": "ipython",
    "version": 3
   },
   "file_extension": ".py",
   "mimetype": "text/x-python",
   "name": "python",
   "nbconvert_exporter": "python",
   "pygments_lexer": "ipython3",
   "version": "3.10.11"
  }
 },
 "nbformat": 4,
 "nbformat_minor": 2
}
