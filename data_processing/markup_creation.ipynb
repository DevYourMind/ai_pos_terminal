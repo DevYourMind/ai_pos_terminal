{
 "cells": [
  {
   "cell_type": "markdown",
   "metadata": {},
   "source": [
    "# Загрузка библиотек"
   ]
  },
  {
   "cell_type": "code",
   "execution_count": 1,
   "metadata": {},
   "outputs": [],
   "source": [
    "import os\n",
    "import random\n",
    "import numpy as np\n",
    "import pandas as pd\n",
    "from pathlib import Path\n",
    "from tqdm.notebook import tqdm"
   ]
  },
  {
   "cell_type": "code",
   "execution_count": 2,
   "metadata": {},
   "outputs": [],
   "source": [
    "RANDOM_STATE = 42\n",
    "random.seed(RANDOM_STATE)"
   ]
  },
  {
   "cell_type": "markdown",
   "metadata": {},
   "source": [
    "# Формирование датасета с метками"
   ]
  },
  {
   "cell_type": "code",
   "execution_count": 3,
   "metadata": {},
   "outputs": [],
   "source": [
    "def walk_through_dir(dir_path):\n",
    "  for dirpath, dirnames, filenames in os.walk(dir_path):\n",
    "    print(f\"There are {len(dirnames)} directories and {len(filenames)} unknown files\\tin '{dirpath}'.\")"
   ]
  },
  {
   "cell_type": "code",
   "execution_count": 4,
   "metadata": {},
   "outputs": [
    {
     "name": "stdout",
     "output_type": "stream",
     "text": [
      "There are 10 directories and 0 unknown files\tin '..\\data\\sorted_data_merged'.\n",
      "There are 0 directories and 385 unknown files\tin '..\\data\\sorted_data_merged\\anticlass'.\n",
      "There are 0 directories and 3080 unknown files\tin '..\\data\\sorted_data_merged\\anticlass_augm'.\n",
      "There are 0 directories and 1222 unknown files\tin '..\\data\\sorted_data_merged\\damaged'.\n",
      "There are 0 directories and 557 unknown files\tin '..\\data\\sorted_data_merged\\garbage'.\n",
      "There are 0 directories and 302 unknown files\tin '..\\data\\sorted_data_merged\\other'.\n",
      "There are 0 directories and 3308 unknown files\tin '..\\data\\sorted_data_merged\\receipts'.\n",
      "There are 0 directories and 100 unknown files\tin '..\\data\\sorted_data_merged\\receipt_damaged'.\n",
      "There are 0 directories and 577 unknown files\tin '..\\data\\sorted_data_merged\\receipt_undamaged'.\n",
      "There are 0 directories and 267 unknown files\tin '..\\data\\sorted_data_merged\\terminal'.\n",
      "There are 0 directories and 2472 unknown files\tin '..\\data\\sorted_data_merged\\undamaged'.\n"
     ]
    }
   ],
   "source": [
    "data_path = Path(\"../data/sorted_data_merged\")\n",
    "walk_through_dir(data_path)"
   ]
  },
  {
   "cell_type": "code",
   "execution_count": 5,
   "metadata": {},
   "outputs": [],
   "source": [
    "walk_through_dir(Path(\"../data/sorted_data_zharikov\"))"
   ]
  },
  {
   "cell_type": "code",
   "execution_count": 6,
   "metadata": {},
   "outputs": [],
   "source": [
    "walk_through_dir(Path(\"../data/sorted_data_smirnov\"))"
   ]
  },
  {
   "cell_type": "code",
   "execution_count": 7,
   "metadata": {},
   "outputs": [
    {
     "data": {
      "application/vnd.jupyter.widget-view+json": {
       "model_id": "bf80d3e2f03b4df6abe60b6a011faaaa",
       "version_major": 2,
       "version_minor": 0
      },
      "text/plain": [
       "0it [00:00, ?it/s]"
      ]
     },
     "metadata": {},
     "output_type": "display_data"
    },
    {
     "name": "stdout",
     "output_type": "stream",
     "text": [
      "..\\data\\sorted_data_merged\n",
      "..\\data\\sorted_data_merged\\anticlass\n",
      "..\\data\\sorted_data_merged\\anticlass_augm\n",
      "..\\data\\sorted_data_merged\\damaged\n",
      "..\\data\\sorted_data_merged\\garbage\n",
      "..\\data\\sorted_data_merged\\other\n",
      "..\\data\\sorted_data_merged\\receipts\n",
      "..\\data\\sorted_data_merged\\receipt_damaged\n",
      "..\\data\\sorted_data_merged\\receipt_undamaged\n",
      "..\\data\\sorted_data_merged\\terminal\n",
      "..\\data\\sorted_data_merged\\undamaged\n"
     ]
    }
   ],
   "source": [
    "# dataset with classes\n",
    "df_sorted_data = pd.DataFrame(\n",
    "    columns=[\n",
    "        'file_name', 'quality_photo', 'terminal', \n",
    "        'receipt', 'terminal_damaged', 'terminal_undamaged', \n",
    "        'terminal_unrecognized_defect', 'other', 'anticlass'\n",
    "    ]\n",
    ")\n",
    "row_size = len(df_sorted_data.columns)\n",
    "for dirpath, dirnames, filenames in tqdm(os.walk(data_path)):\n",
    "    print(dirpath)\n",
    "    if len(filenames)==0:\n",
    "        continue\n",
    "    df_temp = pd.DataFrame(\n",
    "        columns=df_sorted_data.columns,\n",
    "        data=np.concatenate((\n",
    "            np.reshape(filenames, (-1, 1)), \n",
    "            np.zeros(shape=(len(filenames), row_size-1))\n",
    "        ), axis=1)\n",
    "    )\n",
    "    splitted_dirpath = dirpath.split('\\\\')[-1]\n",
    "    df_temp['file_name'] = df_temp['file_name'].apply(lambda x: f'{dirpath}\\{x}')\n",
    "    df_temp['quality_photo'] = 1\n",
    "    df_temp['anticlass'] = 0\n",
    "    if any(x == splitted_dirpath for x in \n",
    "           ['anticlass', 'anticlass_augm']\n",
    "        ):\n",
    "        df_temp['anticlass'] = 1\n",
    "        df_sorted_data = pd.concat((df_sorted_data, df_temp))\n",
    "        continue\n",
    "    if 'garbage' == splitted_dirpath:\n",
    "        df_temp['quality_photo'] = 0\n",
    "        df_sorted_data = pd.concat((df_sorted_data, df_temp))\n",
    "        continue\n",
    "    if 'other' == splitted_dirpath:\n",
    "        df_temp['other'] = 1\n",
    "        df_sorted_data = pd.concat((df_sorted_data, df_temp))\n",
    "        continue\n",
    "    if any(x == splitted_dirpath for x in \n",
    "           ['damaged', 'receipt_damaged', 'receipt_undamaged', 'terminal', 'undamaged']\n",
    "        ):\n",
    "        df_temp['terminal'] = 1\n",
    "    if any(\n",
    "        x == splitted_dirpath for x in\n",
    "        ['receipts', 'receipt_damaged', 'receipt_undamaged']\n",
    "    ):\n",
    "        df_temp['receipt'] = 1\n",
    "    if any(\n",
    "        x == splitted_dirpath for x in\n",
    "        ['damaged', 'receipt_damaged']\n",
    "    ):\n",
    "        df_temp['terminal_damaged'] = 1\n",
    "    if any(\n",
    "        x == splitted_dirpath for x in\n",
    "        ['receipt_undamaged', 'undamaged']\n",
    "    ):\n",
    "        df_temp['terminal_undamaged'] = 1\n",
    "    if any(\n",
    "        x == splitted_dirpath for x in\n",
    "        ['terminal']\n",
    "    ):\n",
    "        df_temp['terminal_unrecognized_defect'] = 1\n",
    "    df_sorted_data = pd.concat((df_sorted_data, df_temp))\n",
    "df_sorted_data.reset_index(inplace=True, drop=True)"
   ]
  },
  {
   "cell_type": "code",
   "execution_count": 8,
   "metadata": {},
   "outputs": [],
   "source": [
    "df_sorted_data[df_sorted_data.columns[1:]] = df_sorted_data[\n",
    "    df_sorted_data.columns[1:]\n",
    "].astype(float).astype(int)"
   ]
  },
  {
   "cell_type": "markdown",
   "metadata": {},
   "source": [
    "## Проверки нелогичных сочетаний"
   ]
  },
  {
   "cell_type": "code",
   "execution_count": 9,
   "metadata": {},
   "outputs": [
    {
     "data": {
      "text/plain": [
       "(0, 9)"
      ]
     },
     "execution_count": 9,
     "metadata": {},
     "output_type": "execute_result"
    }
   ],
   "source": [
    "df_sorted_data.loc[\n",
    "    (df_sorted_data['terminal_damaged']==1) &\n",
    "    (df_sorted_data['terminal_undamaged']==1)\n",
    "].shape"
   ]
  },
  {
   "cell_type": "code",
   "execution_count": 10,
   "metadata": {},
   "outputs": [
    {
     "data": {
      "text/plain": [
       "file_name                       ..\\data\\sorted_data_merged\\other\\Без поврежден...\n",
       "quality_photo                                                                 302\n",
       "terminal                                                                        0\n",
       "receipt                                                                         0\n",
       "terminal_damaged                                                                0\n",
       "terminal_undamaged                                                              0\n",
       "terminal_unrecognized_defect                                                    0\n",
       "other                                                                         302\n",
       "anticlass                                                                       0\n",
       "dtype: object"
      ]
     },
     "execution_count": 10,
     "metadata": {},
     "output_type": "execute_result"
    }
   ],
   "source": [
    "df_sorted_data.loc[\n",
    "    df_sorted_data['other']==1\n",
    "].sum(axis=0)"
   ]
  },
  {
   "cell_type": "code",
   "execution_count": 11,
   "metadata": {},
   "outputs": [
    {
     "data": {
      "text/plain": [
       "(0, 9)"
      ]
     },
     "execution_count": 11,
     "metadata": {},
     "output_type": "execute_result"
    }
   ],
   "source": [
    "df_sorted_data.loc[\n",
    "    (df_sorted_data['terminal']==1) &\n",
    "    (df_sorted_data['terminal_damaged']==0) & \n",
    "    (df_sorted_data['terminal_undamaged']==0) & \n",
    "    (df_sorted_data['terminal_unrecognized_defect']==0)\n",
    "].shape"
   ]
  },
  {
   "cell_type": "code",
   "execution_count": 12,
   "metadata": {},
   "outputs": [
    {
     "data": {
      "text/plain": [
       "quality_photo                   0\n",
       "terminal                        0\n",
       "receipt                         0\n",
       "terminal_damaged                0\n",
       "terminal_undamaged              0\n",
       "terminal_unrecognized_defect    0\n",
       "other                           0\n",
       "anticlass                       0\n",
       "dtype: int64"
      ]
     },
     "execution_count": 12,
     "metadata": {},
     "output_type": "execute_result"
    }
   ],
   "source": [
    "df_sorted_data.loc[\n",
    "    df_sorted_data['quality_photo']==0\n",
    "].iloc[:, 1:].sum(axis=0)"
   ]
  },
  {
   "cell_type": "markdown",
   "metadata": {},
   "source": [
    "Проверки пройдены"
   ]
  },
  {
   "cell_type": "code",
   "execution_count": 13,
   "metadata": {},
   "outputs": [],
   "source": [
    "df_sorted_data.to_pickle('../data/common_files/df_markup.pkl')"
   ]
  },
  {
   "cell_type": "code",
   "execution_count": 14,
   "metadata": {},
   "outputs": [
    {
     "data": {
      "text/html": [
       "<div>\n",
       "<style scoped>\n",
       "    .dataframe tbody tr th:only-of-type {\n",
       "        vertical-align: middle;\n",
       "    }\n",
       "\n",
       "    .dataframe tbody tr th {\n",
       "        vertical-align: top;\n",
       "    }\n",
       "\n",
       "    .dataframe thead th {\n",
       "        text-align: right;\n",
       "    }\n",
       "</style>\n",
       "<table border=\"1\" class=\"dataframe\">\n",
       "  <thead>\n",
       "    <tr style=\"text-align: right;\">\n",
       "      <th></th>\n",
       "      <th>file_name</th>\n",
       "      <th>quality_photo</th>\n",
       "      <th>terminal</th>\n",
       "      <th>receipt</th>\n",
       "      <th>terminal_damaged</th>\n",
       "      <th>terminal_undamaged</th>\n",
       "      <th>terminal_unrecognized_defect</th>\n",
       "      <th>other</th>\n",
       "      <th>anticlass</th>\n",
       "    </tr>\n",
       "  </thead>\n",
       "  <tbody>\n",
       "    <tr>\n",
       "      <th>0</th>\n",
       "      <td>..\\data\\sorted_data_merged\\anticlass\\ЗНО030127...</td>\n",
       "      <td>1</td>\n",
       "      <td>0</td>\n",
       "      <td>0</td>\n",
       "      <td>0</td>\n",
       "      <td>0</td>\n",
       "      <td>0</td>\n",
       "      <td>0</td>\n",
       "      <td>1</td>\n",
       "    </tr>\n",
       "    <tr>\n",
       "      <th>1</th>\n",
       "      <td>..\\data\\sorted_data_merged\\anticlass\\ЗНО030127...</td>\n",
       "      <td>1</td>\n",
       "      <td>0</td>\n",
       "      <td>0</td>\n",
       "      <td>0</td>\n",
       "      <td>0</td>\n",
       "      <td>0</td>\n",
       "      <td>0</td>\n",
       "      <td>1</td>\n",
       "    </tr>\n",
       "    <tr>\n",
       "      <th>2</th>\n",
       "      <td>..\\data\\sorted_data_merged\\anticlass\\ЗНО030127...</td>\n",
       "      <td>1</td>\n",
       "      <td>0</td>\n",
       "      <td>0</td>\n",
       "      <td>0</td>\n",
       "      <td>0</td>\n",
       "      <td>0</td>\n",
       "      <td>0</td>\n",
       "      <td>1</td>\n",
       "    </tr>\n",
       "    <tr>\n",
       "      <th>3</th>\n",
       "      <td>..\\data\\sorted_data_merged\\anticlass\\ЗНО030128...</td>\n",
       "      <td>1</td>\n",
       "      <td>0</td>\n",
       "      <td>0</td>\n",
       "      <td>0</td>\n",
       "      <td>0</td>\n",
       "      <td>0</td>\n",
       "      <td>0</td>\n",
       "      <td>1</td>\n",
       "    </tr>\n",
       "    <tr>\n",
       "      <th>4</th>\n",
       "      <td>..\\data\\sorted_data_merged\\anticlass\\ЗНО030128...</td>\n",
       "      <td>1</td>\n",
       "      <td>0</td>\n",
       "      <td>0</td>\n",
       "      <td>0</td>\n",
       "      <td>0</td>\n",
       "      <td>0</td>\n",
       "      <td>0</td>\n",
       "      <td>1</td>\n",
       "    </tr>\n",
       "    <tr>\n",
       "      <th>...</th>\n",
       "      <td>...</td>\n",
       "      <td>...</td>\n",
       "      <td>...</td>\n",
       "      <td>...</td>\n",
       "      <td>...</td>\n",
       "      <td>...</td>\n",
       "      <td>...</td>\n",
       "      <td>...</td>\n",
       "      <td>...</td>\n",
       "    </tr>\n",
       "    <tr>\n",
       "      <th>12265</th>\n",
       "      <td>..\\data\\sorted_data_merged\\undamaged\\╨Ч╨Э╨Ю030...</td>\n",
       "      <td>1</td>\n",
       "      <td>1</td>\n",
       "      <td>0</td>\n",
       "      <td>0</td>\n",
       "      <td>1</td>\n",
       "      <td>0</td>\n",
       "      <td>0</td>\n",
       "      <td>0</td>\n",
       "    </tr>\n",
       "    <tr>\n",
       "      <th>12266</th>\n",
       "      <td>..\\data\\sorted_data_merged\\undamaged\\╨Ч╨Э╨Ю030...</td>\n",
       "      <td>1</td>\n",
       "      <td>1</td>\n",
       "      <td>0</td>\n",
       "      <td>0</td>\n",
       "      <td>1</td>\n",
       "      <td>0</td>\n",
       "      <td>0</td>\n",
       "      <td>0</td>\n",
       "    </tr>\n",
       "    <tr>\n",
       "      <th>12267</th>\n",
       "      <td>..\\data\\sorted_data_merged\\undamaged\\╨Ч╨Э╨Ю030...</td>\n",
       "      <td>1</td>\n",
       "      <td>1</td>\n",
       "      <td>0</td>\n",
       "      <td>0</td>\n",
       "      <td>1</td>\n",
       "      <td>0</td>\n",
       "      <td>0</td>\n",
       "      <td>0</td>\n",
       "    </tr>\n",
       "    <tr>\n",
       "      <th>12268</th>\n",
       "      <td>..\\data\\sorted_data_merged\\undamaged\\╨Ч╨Э╨Ю030...</td>\n",
       "      <td>1</td>\n",
       "      <td>1</td>\n",
       "      <td>0</td>\n",
       "      <td>0</td>\n",
       "      <td>1</td>\n",
       "      <td>0</td>\n",
       "      <td>0</td>\n",
       "      <td>0</td>\n",
       "    </tr>\n",
       "    <tr>\n",
       "      <th>12269</th>\n",
       "      <td>..\\data\\sorted_data_merged\\undamaged\\╨Ч╨Э╨Ю030...</td>\n",
       "      <td>1</td>\n",
       "      <td>1</td>\n",
       "      <td>0</td>\n",
       "      <td>0</td>\n",
       "      <td>1</td>\n",
       "      <td>0</td>\n",
       "      <td>0</td>\n",
       "      <td>0</td>\n",
       "    </tr>\n",
       "  </tbody>\n",
       "</table>\n",
       "<p>12270 rows × 9 columns</p>\n",
       "</div>"
      ],
      "text/plain": [
       "                                               file_name  quality_photo  \\\n",
       "0      ..\\data\\sorted_data_merged\\anticlass\\ЗНО030127...              1   \n",
       "1      ..\\data\\sorted_data_merged\\anticlass\\ЗНО030127...              1   \n",
       "2      ..\\data\\sorted_data_merged\\anticlass\\ЗНО030127...              1   \n",
       "3      ..\\data\\sorted_data_merged\\anticlass\\ЗНО030128...              1   \n",
       "4      ..\\data\\sorted_data_merged\\anticlass\\ЗНО030128...              1   \n",
       "...                                                  ...            ...   \n",
       "12265  ..\\data\\sorted_data_merged\\undamaged\\╨Ч╨Э╨Ю030...              1   \n",
       "12266  ..\\data\\sorted_data_merged\\undamaged\\╨Ч╨Э╨Ю030...              1   \n",
       "12267  ..\\data\\sorted_data_merged\\undamaged\\╨Ч╨Э╨Ю030...              1   \n",
       "12268  ..\\data\\sorted_data_merged\\undamaged\\╨Ч╨Э╨Ю030...              1   \n",
       "12269  ..\\data\\sorted_data_merged\\undamaged\\╨Ч╨Э╨Ю030...              1   \n",
       "\n",
       "       terminal  receipt  terminal_damaged  terminal_undamaged  \\\n",
       "0             0        0                 0                   0   \n",
       "1             0        0                 0                   0   \n",
       "2             0        0                 0                   0   \n",
       "3             0        0                 0                   0   \n",
       "4             0        0                 0                   0   \n",
       "...         ...      ...               ...                 ...   \n",
       "12265         1        0                 0                   1   \n",
       "12266         1        0                 0                   1   \n",
       "12267         1        0                 0                   1   \n",
       "12268         1        0                 0                   1   \n",
       "12269         1        0                 0                   1   \n",
       "\n",
       "       terminal_unrecognized_defect  other  anticlass  \n",
       "0                                 0      0          1  \n",
       "1                                 0      0          1  \n",
       "2                                 0      0          1  \n",
       "3                                 0      0          1  \n",
       "4                                 0      0          1  \n",
       "...                             ...    ...        ...  \n",
       "12265                             0      0          0  \n",
       "12266                             0      0          0  \n",
       "12267                             0      0          0  \n",
       "12268                             0      0          0  \n",
       "12269                             0      0          0  \n",
       "\n",
       "[12270 rows x 9 columns]"
      ]
     },
     "execution_count": 14,
     "metadata": {},
     "output_type": "execute_result"
    }
   ],
   "source": [
    "df_sorted_data"
   ]
  }
 ],
 "metadata": {
  "kernelspec": {
   "display_name": "Python 3",
   "language": "python",
   "name": "python3"
  },
  "language_info": {
   "codemirror_mode": {
    "name": "ipython",
    "version": 3
   },
   "file_extension": ".py",
   "mimetype": "text/x-python",
   "name": "python",
   "nbconvert_exporter": "python",
   "pygments_lexer": "ipython3",
   "version": "3.11.5"
  },
  "orig_nbformat": 4
 },
 "nbformat": 4,
 "nbformat_minor": 2
}
