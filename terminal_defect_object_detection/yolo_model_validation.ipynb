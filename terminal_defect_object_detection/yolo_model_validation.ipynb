{
 "cells": [
  {
   "cell_type": "markdown",
   "metadata": {},
   "source": [
    "# Загрузка библиотек"
   ]
  },
  {
   "cell_type": "code",
   "execution_count": 1,
   "metadata": {},
   "outputs": [],
   "source": [
    "import pandas as pd\n",
    "import os\n",
    "import numpy as np\n",
    "from ultralytics import YOLO\n",
    "import random\n",
    "import matplotlib.pyplot as plt\n",
    "from PIL import Image\n",
    "from tqdm import tqdm\n",
    "from pathlib import Path\n",
    "from IPython.display import clear_output"
   ]
  },
  {
   "cell_type": "code",
   "execution_count": 2,
   "metadata": {},
   "outputs": [],
   "source": [
    "RANDOM_STATE = 42\n",
    "\n",
    "seed = RANDOM_STATE\n",
    "np.random.seed(seed)\n",
    "random.seed(seed)\n",
    "# Set a fixed value for the hash seed\n",
    "os.environ[\"PYTHONHASHSEED\"] = str(seed)"
   ]
  },
  {
   "cell_type": "markdown",
   "metadata": {},
   "source": [
    "# Подготовка датасета для валидации"
   ]
  },
  {
   "cell_type": "code",
   "execution_count": 3,
   "metadata": {},
   "outputs": [],
   "source": [
    "df_test = pd.read_csv('csvs/test.csv', sep=';', index_col=[0]).reset_index(drop=True)\n",
    "df_test = df_test.loc[\n",
    "    (df_test['terminal']==1) &\n",
    "    (df_test['file_name'].apply(lambda x: 'augm' not in x)) &\n",
    "    (df_test['file_name'].apply(lambda x: 'ЗНО' in x))\n",
    "]\n",
    "df_test_damaged = df_test.loc[\n",
    "    df_test['terminal_damaged']==1\n",
    "].sample(100)\n",
    "df_test_undamaged = df_test.loc[\n",
    "    df_test['terminal_undamaged']==1\n",
    "].sample(100)\n",
    "df_test = pd.concat(\n",
    "    (df_test_damaged, df_test_undamaged)\n",
    ")"
   ]
  },
  {
   "cell_type": "markdown",
   "metadata": {},
   "source": [
    "# Формирование папки с прогнозами"
   ]
  },
  {
   "cell_type": "code",
   "execution_count": 4,
   "metadata": {},
   "outputs": [],
   "source": [
    "model = YOLO('runs/detect/train3/weights/best.pt')"
   ]
  },
  {
   "cell_type": "code",
   "execution_count": 10,
   "metadata": {},
   "outputs": [],
   "source": [
    "val_folder = Path('val_photos_threshold40')\n",
    "if not os.path.exists(val_folder):\n",
    "    os.makedirs(val_folder)\n",
    "for image_data in tqdm(df_test.iterrows()):\n",
    "    # image_data = df_test.iloc[0]\n",
    "    image_path = image_data[1]['file_name']\n",
    "    damaged_flag = image_data[1]['terminal_damaged']\n",
    "    results = model.predict(image_path)\n",
    "    fig, ax = plt.subplots(1, 2, figsize=(19, 10))\n",
    "    ax[0].imshow(Image.open(f'{image_path}'))\n",
    "    ax[1].imshow(Image.open(image_path))\n",
    "    for i, box in enumerate(results[0].boxes):\n",
    "        x1, y1, x2, y2 = box.xyxy[0].tolist()\n",
    "        cls = int(box.cls)\n",
    "        conf = float(box.conf)\n",
    "        if conf<0.4:\n",
    "            continue\n",
    "        rect = plt.Rectangle((x1, y1), x2 - x1, y2 - y1, fill=False, linewidth=2, edgecolor='red')\n",
    "        ax[1].add_patch(rect)\n",
    "        ax[1].text(x1, y1 - 10, f'{results[0].names[int(cls)]} {(conf):.2f}', color='white', fontsize=9,\n",
    "                bbox=dict(facecolor='red', alpha=0.5))\n",
    "    damage_status = 'Terminal is not damaged'\n",
    "    if damaged_flag:\n",
    "        damage_status = 'Terminal is damaged'\n",
    "    ax[0].set_title(f\"Original Image\\n{damage_status}\")\n",
    "    ax[0].set_axis_off()\n",
    "    ax[1].set_title('Damage Detection')\n",
    "    ax[1].set_axis_off()\n",
    "    file_name = val_folder / image_path.split('\\\\')[-1]\n",
    "    plt.savefig(file_name)\n",
    "    plt.close(fig)\n",
    "clear_output()"
   ]
  }
 ],
 "metadata": {
  "kernelspec": {
   "display_name": "Python 3",
   "language": "python",
   "name": "python3"
  },
  "language_info": {
   "codemirror_mode": {
    "name": "ipython",
    "version": 3
   },
   "file_extension": ".py",
   "mimetype": "text/x-python",
   "name": "python",
   "nbconvert_exporter": "python",
   "pygments_lexer": "ipython3",
   "version": "3.10.11"
  }
 },
 "nbformat": 4,
 "nbformat_minor": 2
}
