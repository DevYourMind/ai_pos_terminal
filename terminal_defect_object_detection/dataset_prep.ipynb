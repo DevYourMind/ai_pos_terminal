{
 "cells": [
  {
   "cell_type": "markdown",
   "metadata": {},
   "source": [
    "Формирование train и test датасетов для сравнения подходов:<br>Бинарная классификация/Object detection визуальных дефектов терминала."
   ]
  },
  {
   "cell_type": "markdown",
   "metadata": {},
   "source": [
    "Классификация дефектов терминала:\n",
    "1. Клавиатура:\n",
    "    1. Грязь на клавиатуре (key_dirt)\n",
    "    2. Потертости клавиш на клавиатуре (key_attrition)\n",
    "2. Экран:\n",
    "    1. Грязь на экране (screen_dirt)\n",
    "    2. Протертый экран (screen_attrition)\n",
    "    3. Царапина на экране (screen_scratch)\n",
    "3. Корпус:\n",
    "    1. Грязь на корпусе (body_dirt) \n",
    "    2. Потертости корпуса (body_attrition)\n",
    "    3. Царапина на корпусе (body_scratch)"
   ]
  },
  {
   "cell_type": "markdown",
   "metadata": {},
   "source": [
    "# Загрузка библиотек"
   ]
  },
  {
   "cell_type": "code",
   "execution_count": 19,
   "metadata": {},
   "outputs": [],
   "source": [
    "import pandas as pd\n",
    "import numpy as np\n",
    "import os\n",
    "import random\n",
    "import shutil"
   ]
  },
  {
   "cell_type": "code",
   "execution_count": 13,
   "metadata": {},
   "outputs": [],
   "source": [
    "RANDOM_STATE = 42\n",
    "\n",
    "seed = RANDOM_STATE\n",
    "np.random.seed(seed)\n",
    "random.seed(seed)\n",
    "# Set a fixed value for the hash seed\n",
    "os.environ[\"PYTHONHASHSEED\"] = str(seed)"
   ]
  },
  {
   "cell_type": "markdown",
   "metadata": {},
   "source": [
    "# Подготовка датасета"
   ]
  },
  {
   "cell_type": "code",
   "execution_count": 40,
   "metadata": {},
   "outputs": [],
   "source": [
    "df_train = pd.read_csv('csvs/train.csv', sep=';', index_col=[0]).reset_index(drop=True)\n",
    "df_test = pd.read_csv('csvs/test.csv', sep=';', index_col=[0]).reset_index(drop=True)"
   ]
  },
  {
   "cell_type": "code",
   "execution_count": 41,
   "metadata": {},
   "outputs": [],
   "source": [
    "df_train = df_train.loc[\n",
    "    (df_train['terminal']==1) &\n",
    "    (df_train['terminal_damaged']==1) &\n",
    "    (df_train['file_name'].apply(lambda x: 'augm' not in x)) &\n",
    "    (df_train['file_name'].apply(lambda x: '╨Ч╨Э╨Ю' in x or 'ЗНО' in x))\n",
    "].sample(300)\n",
    "df_test = df_test.loc[\n",
    "    (df_test['terminal']==1) &\n",
    "    (df_test['file_name'].apply(lambda x: 'augm' not in x)) &\n",
    "    (df_test['file_name'].apply(lambda x: 'ЗНО' in x))\n",
    "]\n",
    "df_test_undamaged = df_test.loc[\n",
    "    df_test['terminal_undamaged']==1\n",
    "].sample(50)\n",
    "df_test_damaged = df_test.loc[\n",
    "    df_test['terminal_damaged']==1\n",
    "].sample(50)"
   ]
  },
  {
   "cell_type": "code",
   "execution_count": 42,
   "metadata": {},
   "outputs": [],
   "source": [
    "for file in df_train['file_name']:\n",
    "    shutil.copy(file, '../data/object_detection_data/train_data/')\n",
    "\n",
    "for file in df_test_undamaged['file_name']:\n",
    "    shutil.copy(file, '../data/object_detection_data/test_undamaged_data/')\n",
    "\n",
    "for file in df_test_damaged['file_name']:\n",
    "    shutil.copy(file, '../data/object_detection_data/test_damaged_data/')"
   ]
  }
 ],
 "metadata": {
  "kernelspec": {
   "display_name": "Python 3",
   "language": "python",
   "name": "python3"
  },
  "language_info": {
   "codemirror_mode": {
    "name": "ipython",
    "version": 3
   },
   "file_extension": ".py",
   "mimetype": "text/x-python",
   "name": "python",
   "nbconvert_exporter": "python",
   "pygments_lexer": "ipython3",
   "version": "3.10.11"
  },
  "orig_nbformat": 4
 },
 "nbformat": 4,
 "nbformat_minor": 2
}
