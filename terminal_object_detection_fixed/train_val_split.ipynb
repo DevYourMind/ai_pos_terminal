{
 "cells": [
  {
   "cell_type": "markdown",
   "metadata": {},
   "source": [
    "Разделение выборки на train и val"
   ]
  },
  {
   "cell_type": "markdown",
   "metadata": {},
   "source": [
    "# Загрузка библиотек"
   ]
  },
  {
   "cell_type": "code",
   "execution_count": 1,
   "metadata": {},
   "outputs": [],
   "source": [
    "import pandas as pd\n",
    "import os\n",
    "import shutil\n",
    "from tqdm import tqdm\n",
    "from pathlib import Path\n",
    "from sklearn.model_selection import train_test_split"
   ]
  },
  {
   "cell_type": "code",
   "execution_count": 2,
   "metadata": {},
   "outputs": [],
   "source": [
    "RANDOM_STATE = 42"
   ]
  },
  {
   "cell_type": "markdown",
   "metadata": {},
   "source": [
    "# Создание папок с данными"
   ]
  },
  {
   "cell_type": "code",
   "execution_count": 3,
   "metadata": {},
   "outputs": [],
   "source": [
    "path_od_data = Path('../data/terminal_object_detection_data/')\n",
    "path_data = Path(path_od_data / 'model_data')\n",
    "if not os.path.exists(path_data):\n",
    "    os.makedirs(path_data)\n",
    "path_train = Path(path_data / 'train')\n",
    "if not os.path.exists(path_train):\n",
    "    os.makedirs(path_train)\n",
    "    os.makedirs(path_train / 'images')\n",
    "    os.makedirs(path_train / 'labels')\n",
    "path_val = Path(path_data / 'val')\n",
    "if not os.path.exists(path_val):\n",
    "    os.makedirs(path_val)\n",
    "    os.makedirs(path_val / 'images')\n",
    "    os.makedirs(path_val / 'labels')"
   ]
  },
  {
   "cell_type": "markdown",
   "metadata": {},
   "source": [
    "# Перемещение аугментированных \"ancticlass\" фотографий"
   ]
  },
  {
   "cell_type": "code",
   "execution_count": 4,
   "metadata": {},
   "outputs": [],
   "source": [
    "folders_augm = [x for x in os.listdir(path_od_data / 'photos') if 'augm' in x]"
   ]
  },
  {
   "cell_type": "code",
   "execution_count": 5,
   "metadata": {},
   "outputs": [
    {
     "name": "stderr",
     "output_type": "stream",
     "text": [
      "100%|██████████| 771/771 [00:00<00:00, 950.02it/s]\n",
      "100%|██████████| 3176/3176 [00:02<00:00, 1205.21it/s]\n",
      "100%|██████████| 4792/4792 [00:04<00:00, 1128.72it/s]\n",
      "100%|██████████| 768/768 [00:00<00:00, 1116.50it/s]\n",
      "100%|██████████| 28832/28832 [00:26<00:00, 1108.24it/s]\n",
      "100%|██████████| 1520/1520 [00:01<00:00, 1154.23it/s]\n",
      "100%|██████████| 6981/6981 [00:08<00:00, 831.67it/s]\n",
      "100%|██████████| 3424/3424 [00:03<00:00, 1058.63it/s]\n"
     ]
    }
   ],
   "source": [
    "for folder in folders_augm:\n",
    "    path_photo_folder = path_od_data / 'photos' / folder\n",
    "    for filename in tqdm(os.listdir(path_photo_folder)):\n",
    "        full_path_photo = path_photo_folder / filename\n",
    "        full_path_label = full_path_photo.__str__().replace('photos', 'yolo_annot').replace('.jpg', '.txt').replace('.jpeg', '.txt').replace('.png', '.txt')\n",
    "        shutil.copy(full_path_photo, path_train / 'images' / full_path_photo.__str__().split('\\\\')[-1])\n",
    "        shutil.copy(full_path_label, path_train / 'labels' / full_path_label.__str__().split('\\\\')[-1])"
   ]
  },
  {
   "cell_type": "markdown",
   "metadata": {},
   "source": [
    "# Разделение исходных фотографий на train и val"
   ]
  },
  {
   "cell_type": "code",
   "execution_count": 3,
   "metadata": {},
   "outputs": [],
   "source": [
    "val_size = 0.15"
   ]
  },
  {
   "cell_type": "code",
   "execution_count": 4,
   "metadata": {},
   "outputs": [],
   "source": [
    "df_markup = pd.read_pickle('markup.pkl')"
   ]
  },
  {
   "cell_type": "code",
   "execution_count": 5,
   "metadata": {},
   "outputs": [
    {
     "data": {
      "text/plain": [
       "array(['terminals_augm', 'receipts', 'receipts_augm', 'pc_screens_augm',\n",
       "       'stickers_augm', 'new_terminals_augm', 'terminals_side_view_augm',\n",
       "       'other_augm', 'terminals', 'pc_screens', 'rack_new_terminal_augm',\n",
       "       'new_terminals', 'terminals_side_view', 'other', 'stickers',\n",
       "       'terminals_receipt', 'rack_new_terminal',\n",
       "       'wrong_photos_of_terminals'], dtype=object)"
      ]
     },
     "execution_count": 5,
     "metadata": {},
     "output_type": "execute_result"
    }
   ],
   "source": [
    "df_markup['flags'].unique()"
   ]
  },
  {
   "cell_type": "code",
   "execution_count": 6,
   "metadata": {},
   "outputs": [],
   "source": [
    "df_markup = df_markup.loc[\n",
    "    df_markup['flags'].isin([\n",
    "        'new_terminals', 'other', 'pc_screens', 'rack_new_terminal',\n",
    "       'receipts', 'stickers', 'terminals', 'terminals_side_view'\n",
    "    ])\n",
    "]"
   ]
  },
  {
   "cell_type": "code",
   "execution_count": 7,
   "metadata": {},
   "outputs": [],
   "source": [
    "train, val = train_test_split(df_markup, stratify=df_markup['flags'], test_size=val_size, random_state=RANDOM_STATE)\n",
    "val.to_pickle('df_val.pkl')"
   ]
  },
  {
   "cell_type": "code",
   "execution_count": 11,
   "metadata": {},
   "outputs": [
    {
     "name": "stderr",
     "output_type": "stream",
     "text": [
      "100%|██████████| 2221/2221 [00:05<00:00, 426.41it/s]\n",
      "100%|██████████| 392/392 [00:00<00:00, 396.16it/s]\n"
     ]
    }
   ],
   "source": [
    "for filename in tqdm(train['filename']):\n",
    "    shutil.copy(filename, path_train / 'images')\n",
    "    label_name = filename.replace('photos', 'yolo_annot').replace('.jpg', '.txt').replace('.jpeg', '.txt')\n",
    "    shutil.copy(label_name, path_train / 'labels')\n",
    "\n",
    "for filename in tqdm(val['filename']):\n",
    "    shutil.copy(filename, path_val / 'images')\n",
    "    label_name = filename.replace('photos', 'yolo_annot').replace('.jpg', '.txt').replace('.jpeg', '.txt')\n",
    "    shutil.copy(label_name, path_val / 'labels')"
   ]
  }
 ],
 "metadata": {
  "kernelspec": {
   "display_name": "Python 3",
   "language": "python",
   "name": "python3"
  },
  "language_info": {
   "codemirror_mode": {
    "name": "ipython",
    "version": 3
   },
   "file_extension": ".py",
   "mimetype": "text/x-python",
   "name": "python",
   "nbconvert_exporter": "python",
   "pygments_lexer": "ipython3",
   "version": "3.11.6"
  }
 },
 "nbformat": 4,
 "nbformat_minor": 2
}
