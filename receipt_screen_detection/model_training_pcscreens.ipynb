{
 "cells": [
  {
   "cell_type": "markdown",
   "metadata": {},
   "source": [
    "Обучение модели классификации"
   ]
  },
  {
   "cell_type": "markdown",
   "metadata": {},
   "source": [
    "# Загрузка библиотек"
   ]
  },
  {
   "cell_type": "code",
   "execution_count": 26,
   "metadata": {},
   "outputs": [],
   "source": [
    "import os\n",
    "import torch\n",
    "import numpy as np\n",
    "import pandas as pd\n",
    "import seaborn as sns\n",
    "from tqdm import tqdm\n",
    "import matplotlib.pyplot as plt\n",
    "from PIL import Image, ImageFile\n",
    "from torchvision import transforms\n",
    "from torch.optim import lr_scheduler\n",
    "from IPython.display import clear_output\n",
    "from torch.utils.data import DataLoader, Dataset\n",
    "from sklearn.model_selection import train_test_split\n",
    "from sklearn.metrics import f1_score, precision_score, recall_score, confusion_matrix, classification_report, accuracy_score"
   ]
  },
  {
   "cell_type": "code",
   "execution_count": 27,
   "metadata": {},
   "outputs": [],
   "source": [
    "from torchvision.models import mobilenet_v3_large, MobileNet_V3_Large_Weights"
   ]
  },
  {
   "cell_type": "code",
   "execution_count": 28,
   "metadata": {},
   "outputs": [],
   "source": [
    "ImageFile.LOAD_TRUNCATED_IMAGES = True"
   ]
  },
  {
   "cell_type": "code",
   "execution_count": 29,
   "metadata": {},
   "outputs": [],
   "source": [
    "RANDOM_STATE = 42"
   ]
  },
  {
   "cell_type": "code",
   "execution_count": 30,
   "metadata": {},
   "outputs": [
    {
     "data": {
      "text/plain": [
       "device(type='cuda', index=0)"
      ]
     },
     "execution_count": 30,
     "metadata": {},
     "output_type": "execute_result"
    }
   ],
   "source": [
    "device = torch.device('cuda:0' if torch.cuda.is_available() else 'cpu')\n",
    "device"
   ]
  },
  {
   "cell_type": "markdown",
   "metadata": {},
   "source": [
    "# Загрузка данных"
   ]
  },
  {
   "cell_type": "code",
   "execution_count": 31,
   "metadata": {},
   "outputs": [],
   "source": [
    "# # colab data unar\n",
    "\n",
    "# !sudo apt install unar\n",
    "# !unar 'drive/MyDrive/sorted_data_merged.rar'"
   ]
  },
  {
   "cell_type": "markdown",
   "metadata": {},
   "source": [
    "# Формирование выборки для обучения и теста"
   ]
  },
  {
   "cell_type": "code",
   "execution_count": 32,
   "metadata": {},
   "outputs": [],
   "source": [
    "df_markup = pd.read_pickle('df_markup.pkl')"
   ]
  },
  {
   "cell_type": "code",
   "execution_count": 33,
   "metadata": {},
   "outputs": [],
   "source": [
    "TEST_SIZE = 0.5"
   ]
  },
  {
   "cell_type": "code",
   "execution_count": 34,
   "metadata": {},
   "outputs": [],
   "source": [
    "df_markup.loc[\n",
    "    df_markup['target']!='pc_screen', 'target'\n",
    "] = 'other'"
   ]
  },
  {
   "cell_type": "code",
   "execution_count": 35,
   "metadata": {},
   "outputs": [],
   "source": [
    "flag_augm = df_markup['filename'].apply(lambda x: 'augm' in x)\n",
    "train_augm = df_markup.loc[\n",
    "    flag_augm\n",
    "]\n",
    "df_markup = df_markup.loc[~flag_augm]\n",
    "train, test = train_test_split(\n",
    "    df_markup, stratify=df_markup['target'], \n",
    "    random_state=RANDOM_STATE, test_size=TEST_SIZE)\n",
    "train = pd.concat((train, train_augm))"
   ]
  },
  {
   "cell_type": "code",
   "execution_count": 36,
   "metadata": {},
   "outputs": [
    {
     "data": {
      "text/plain": [
       "target\n",
       "pc_screen    7181\n",
       "other        2389\n",
       "Name: count, dtype: int64"
      ]
     },
     "execution_count": 36,
     "metadata": {},
     "output_type": "execute_result"
    }
   ],
   "source": [
    "train['target'].value_counts()"
   ]
  },
  {
   "cell_type": "code",
   "execution_count": 37,
   "metadata": {},
   "outputs": [
    {
     "data": {
      "text/plain": [
       "target\n",
       "other        2389\n",
       "pc_screen     182\n",
       "Name: count, dtype: int64"
      ]
     },
     "execution_count": 37,
     "metadata": {},
     "output_type": "execute_result"
    }
   ],
   "source": [
    "test['target'].value_counts()"
   ]
  },
  {
   "cell_type": "code",
   "execution_count": 38,
   "metadata": {},
   "outputs": [],
   "source": [
    "normalize = transforms.Normalize(mean=[0.485, 0.456, 0.406],\n",
    "                                 std=[0.229, 0.224, 0.225])\n",
    "\n",
    "# Augment train data\n",
    "train_transforms = transforms.Compose([\n",
    "    transforms.Resize((512, 512)),\n",
    "    transforms.RandomCrop((500, 500)),\n",
    "    transforms.RandomHorizontalFlip(p=1),\n",
    "    transforms.ToTensor(),\n",
    "    normalize\n",
    "])\n",
    "\n",
    "# Don't augment test data, only reshape\n",
    "test_transforms = transforms.Compose([\n",
    "    transforms.Resize((512, 512)),\n",
    "    transforms.ToTensor(),\n",
    "    normalize\n",
    "])"
   ]
  },
  {
   "cell_type": "code",
   "execution_count": 39,
   "metadata": {},
   "outputs": [],
   "source": [
    "dict_label = {\n",
    "    'other': 0,\n",
    "    'pc_screen': 1\n",
    "}"
   ]
  },
  {
   "cell_type": "code",
   "execution_count": 40,
   "metadata": {},
   "outputs": [],
   "source": [
    "class CustomDataset(Dataset):\n",
    "    def __init__(self, dataframe, target_column, transform=None, filename=False):\n",
    "        self.data = dataframe\n",
    "        self.transform = transform\n",
    "        self.target_column = target_column\n",
    "        self.filename = filename\n",
    "\n",
    "    def __len__(self):\n",
    "        return len(self.data)\n",
    "\n",
    "    def __getitem__(self, idx):\n",
    "        label = dict_label[self.data.iloc[idx][self.target_column]]\n",
    "        file_name = self.data.iloc[idx]['filename']\n",
    "        img = Image.open(file_name).convert('RGB')\n",
    "        if self.transform:\n",
    "            img = self.transform(img)\n",
    "        if self.filename:\n",
    "            return img, label, file_name\n",
    "        return img, label"
   ]
  },
  {
   "cell_type": "code",
   "execution_count": 41,
   "metadata": {},
   "outputs": [],
   "source": [
    "NUM_WORKERS = 0\n",
    "BATCH_SIZE = 32\n",
    "\n",
    "train_dataset = CustomDataset(train, target_column='target', transform=train_transforms)\n",
    "train_dataloader = DataLoader(train_dataset, batch_size=BATCH_SIZE, num_workers=NUM_WORKERS)\n",
    "\n",
    "test_dataset = CustomDataset(test, target_column='target', transform=test_transforms)\n",
    "test_dataloader = DataLoader(test_dataset, batch_size=BATCH_SIZE, num_workers=NUM_WORKERS)"
   ]
  },
  {
   "cell_type": "markdown",
   "metadata": {},
   "source": [
    "# Обучение модели"
   ]
  },
  {
   "cell_type": "code",
   "execution_count": 42,
   "metadata": {},
   "outputs": [],
   "source": [
    "models_dir = 'models'\n",
    "if not os.path.exists(models_dir):\n",
    "    os.makedirs(models_dir)"
   ]
  },
  {
   "cell_type": "code",
   "execution_count": 43,
   "metadata": {},
   "outputs": [],
   "source": [
    "sns.set_style('whitegrid')\n",
    "plt.rcParams.update({'font.size': 15})\n",
    "\n",
    "\n",
    "def plot_losses(train_losses,\n",
    "            test_losses,\n",
    "            train_accuracies,\n",
    "            test_accuracies,\n",
    "            train_f1s,\n",
    "            test_f1s,\n",
    "            train_precisions,\n",
    "            test_precisions,\n",
    "            train_recalls,\n",
    "            test_recalls):\n",
    "    clear_output()\n",
    "    fig, axs = plt.subplots(2, 3, figsize=(20, 10))\n",
    "    plt.rcParams['font.size'] = '12'\n",
    "    axs[0, 0].plot(range(1, len(train_losses) + 1), train_losses, label='train', marker='o')\n",
    "    axs[0, 0].plot(range(1, len(test_losses) + 1), test_losses, label='test', marker='o')\n",
    "    axs[0, 0].set_ylabel('Loss')\n",
    "    axs[0, 0].legend()\n",
    "\n",
    "    axs[0, 1].plot(range(1, len(train_accuracies) + 1), train_accuracies, label='train', marker='o')\n",
    "    axs[0, 1].plot(range(1, len(test_accuracies) + 1), test_accuracies, label='test', marker='o')\n",
    "    axs[0, 1].set_ylabel('Accuracy')\n",
    "    axs[0, 1].legend()\n",
    "\n",
    "    axs[0, 2].plot(range(1, len(train_f1s) + 1), train_f1s, label='train', marker='o')\n",
    "    axs[0, 2].plot(range(1, len(test_f1s) + 1), test_f1s, label='test', marker='o')\n",
    "    axs[0, 2].set_ylabel('F1')\n",
    "    axs[0, 2].legend()\n",
    "\n",
    "    axs[1, 0].plot(range(1, len(train_precisions) + 1), train_precisions, label='train', marker='o')\n",
    "    axs[1, 0].plot(range(1, len(test_precisions) + 1), test_precisions, label='test', marker='o')\n",
    "    axs[1, 0].set_ylabel('Precision')\n",
    "    axs[1, 0].legend()\n",
    "\n",
    "    axs[1, 1].plot(range(1, len(train_recalls) + 1), train_recalls, label='train', marker='o')\n",
    "    axs[1, 1].plot(range(1, len(test_recalls) + 1), test_recalls, label='test', marker='o')\n",
    "    axs[1, 1].set_ylabel('Recall')\n",
    "    axs[1, 1].legend()\n",
    "\n",
    "    # for ax in axs:\n",
    "    #     ax.set_xlabel('epoch')\n",
    "    #     ax.legend()\n",
    "    plt.legend()\n",
    "    plt.xlabel(\"Epoch\")\n",
    "    plt.show()\n",
    "\n",
    "def training_epoch(model, optimizer, criterion, train_loader, tqdm_desc):\n",
    "    train_loss, train_accuracy, train_f1, train_precision, train_recall = 0.0, 0.0, 0.0, 0.0, 0.0\n",
    "    model.train()\n",
    "    for images, labels in tqdm(train_loader, desc=tqdm_desc):\n",
    "        images = images.to(device)  # images: batch_size x num_channels x height x width\n",
    "        # labels = labels.type(torch.LongTensor)\n",
    "        labels = labels.to(device)  # labels: batch_size\n",
    "\n",
    "        optimizer.zero_grad()\n",
    "        logits = model(images)  # logits: batch_size x num_classes\n",
    "        loss = criterion(logits, labels)\n",
    "        loss.backward()\n",
    "        optimizer.step()\n",
    "\n",
    "        train_loss += loss.item() * images.shape[0]\n",
    "        train_accuracy += (logits.argmax(dim=1) == labels).sum().item()\n",
    "\n",
    "        # Calculate F1-score\n",
    "        predictions = logits.argmax(dim=1)\n",
    "        train_f1 += f1_score(labels.cpu().numpy(), predictions.cpu().numpy(), average='macro')\n",
    "        train_precision += precision_score(labels.cpu().numpy(), predictions.cpu().numpy(), average='macro')\n",
    "        train_recall += recall_score(labels.cpu().numpy(), predictions.cpu().numpy(), average='macro')\n",
    "\n",
    "    train_loss /= len(train_loader.dataset)\n",
    "    train_accuracy /= len(train_loader.dataset)\n",
    "    train_f1 /= len(train_loader)\n",
    "    train_precision /= len(train_loader)\n",
    "    train_recall /= len(train_loader)\n",
    "\n",
    "    return train_loss, train_accuracy, train_f1, train_precision, train_recall\n",
    "\n",
    "\n",
    "@torch.no_grad()\n",
    "def validation_epoch(model, criterion, test_loader, tqdm_desc):\n",
    "    test_loss, test_accuracy, test_f1, test_precision, test_recall = 0.0, 0.0, 0.0, 0.0, 0.0\n",
    "    model.eval()\n",
    "    for images, labels in tqdm(test_loader, desc=tqdm_desc):\n",
    "        images = images.to(device)  # images: batch_size x num_channels x height x width\n",
    "        # labels = labels.type(torch.LongTensor)\n",
    "        labels = labels.to(device)  # labels: batch_size\n",
    "        logits = model(images)  # logits: batch_size x num_classes\n",
    "        loss = criterion(logits, labels)\n",
    "\n",
    "        test_loss += loss.item() * images.shape[0]\n",
    "        test_accuracy += (logits.argmax(dim=1) == labels).sum().item()\n",
    "        # Calculate F1-score\n",
    "        predictions = logits.argmax(dim=1)\n",
    "        test_f1 += f1_score(labels.cpu().numpy(), predictions.cpu().numpy(), average='macro')\n",
    "        test_precision += precision_score(labels.cpu().numpy(), predictions.cpu().numpy(), average='macro')\n",
    "        test_recall += recall_score(labels.cpu().numpy(), predictions.cpu().numpy(), average='macro')\n",
    "\n",
    "    test_loss /= len(test_loader.dataset)\n",
    "    test_accuracy /= len(test_loader.dataset)\n",
    "    test_f1 /= len(test_loader)\n",
    "    test_precision /= len(test_loader)\n",
    "    test_recall /= len(test_loader)\n",
    "\n",
    "    return test_loss, test_accuracy, test_f1, test_precision, test_recall\n",
    "\n",
    "\n",
    "def train(model, optimizer, scheduler, criterion, train_loader, test_loader, num_epochs, target='receipt'):\n",
    "    train_losses, train_accuracies, train_f1s, train_precisions, train_recalls = [], [], [], [], []\n",
    "    test_losses, test_accuracies, test_f1s, test_precisions, test_recalls = [], [], [], [], []\n",
    "\n",
    "    for epoch in range(1, num_epochs + 1):\n",
    "        train_loss, train_accuracy, train_f1, train_precision, train_recall = training_epoch(\n",
    "            model, optimizer, criterion, train_loader,\n",
    "            tqdm_desc=f'Training {epoch}/{num_epochs}'\n",
    "        )\n",
    "        test_loss, test_accuracy, test_f1, test_precision, test_recall = validation_epoch(\n",
    "            model, criterion, test_loader,\n",
    "            tqdm_desc=f'Validating {epoch}/{num_epochs}'\n",
    "        )\n",
    "\n",
    "        if scheduler is not None:\n",
    "            scheduler.step()\n",
    "\n",
    "        train_losses += [train_loss]\n",
    "        train_accuracies += [train_accuracy]\n",
    "        train_f1s += [train_f1]\n",
    "        train_precisions += [train_precision]\n",
    "        train_recalls += [train_recall]\n",
    "\n",
    "        test_losses += [test_loss]\n",
    "        test_accuracies += [test_accuracy]\n",
    "        test_f1s += [test_f1]\n",
    "        test_precisions += [test_precision]\n",
    "        test_recalls += [test_recall]\n",
    "        plot_losses(\n",
    "            train_losses,\n",
    "            test_losses,\n",
    "            train_accuracies,\n",
    "            test_accuracies,\n",
    "            train_f1s,\n",
    "            test_f1s,\n",
    "            train_precisions,\n",
    "            test_precisions,\n",
    "            train_recalls,\n",
    "            test_recalls\n",
    "          )\n",
    "        torch.save(model, models_dir+f'/model_{target}_ep{epoch}.pth')\n",
    "        torch.save({\n",
    "            'epoch': epoch,\n",
    "            'model_state_dict': model.state_dict(),\n",
    "            'optimizer_state_dict': optimizer.state_dict(),\n",
    "            'train_loss': train_losses[-1],\n",
    "            'test_loss': test_losses[-1],\n",
    "            'train_accuracy': train_accuracies[-1],\n",
    "            'test_accuracy': test_accuracies[-1],\n",
    "            'train_f1': train_f1s[-1],\n",
    "            'test_f1': test_f1s[-1],\n",
    "            'train_precision': train_precisions[-1],\n",
    "            'test_precision': test_precisions[-1],\n",
    "            'train_recall': train_recalls[-1],\n",
    "            'test_recall': test_recalls[-1]\n",
    "        }, models_dir+f'/model_{target}_ep{epoch}.pth')\n",
    "\n",
    "    return train_losses, test_losses, train_accuracies, test_accuracies, train_f1s, test_f1s, train_precisions, test_precisions, train_recalls, test_recalls"
   ]
  },
  {
   "cell_type": "code",
   "execution_count": 44,
   "metadata": {},
   "outputs": [],
   "source": [
    "model_pcscreen = mobilenet_v3_large(weights=MobileNet_V3_Large_Weights.DEFAULT)\n",
    "model_pcscreen.classifier[3] = torch.nn.Linear(1280, 2)"
   ]
  },
  {
   "cell_type": "code",
   "execution_count": 45,
   "metadata": {},
   "outputs": [],
   "source": [
    "num_epochs = 40\n",
    "model_pcscreen = model_pcscreen.to(device)\n",
    "optimizer = torch.optim.SGD(model_pcscreen.parameters(), lr=0.01, momentum=0.9)\n",
    "criterion = torch.nn.CrossEntropyLoss()\n",
    "scheduler = torch.optim.lr_scheduler.CosineAnnealingLR(optimizer, num_epochs)"
   ]
  },
  {
   "cell_type": "code",
   "execution_count": null,
   "metadata": {},
   "outputs": [],
   "source": [
    "train_losses, test_losses, train_accuracies, test_accuracies, train_f1s, test_f1s, train_precisions, test_precisions, train_recalls, test_recalls = train(\n",
    "    model_pcscreen, optimizer, scheduler, criterion, train_dataloader, test_dataloader, num_epochs, target='pc_screen'\n",
    ")"
   ]
  },
  {
   "cell_type": "markdown",
   "metadata": {},
   "source": [
    "# Валидация"
   ]
  },
  {
   "cell_type": "code",
   "execution_count": null,
   "metadata": {},
   "outputs": [
    {
     "name": "stderr",
     "output_type": "stream",
     "text": [
      "100%|██████████| 41/41 [00:23<00:00,  1.74it/s]\n"
     ]
    }
   ],
   "source": [
    "all_labels, all_preds_pcscreen = [], []\n",
    "for images, labels in tqdm(test_dataloader):\n",
    "    images = images.to(device)  # images: batch_size x num_channels x height x width\n",
    "    predictions_pcscreen = model_pcscreen(images).argmax(dim=1)\n",
    "    all_labels.append(labels)\n",
    "    all_preds_pcscreen.append(predictions_pcscreen)"
   ]
  },
  {
   "cell_type": "code",
   "execution_count": null,
   "metadata": {},
   "outputs": [
    {
     "data": {
      "text/html": [
       "<div>\n",
       "<style scoped>\n",
       "    .dataframe tbody tr th:only-of-type {\n",
       "        vertical-align: middle;\n",
       "    }\n",
       "\n",
       "    .dataframe tbody tr th {\n",
       "        vertical-align: top;\n",
       "    }\n",
       "\n",
       "    .dataframe thead th {\n",
       "        text-align: right;\n",
       "    }\n",
       "</style>\n",
       "<table border=\"1\" class=\"dataframe\">\n",
       "  <thead>\n",
       "    <tr style=\"text-align: right;\">\n",
       "      <th></th>\n",
       "      <th>labels</th>\n",
       "      <th>predictions_pcscreen</th>\n",
       "    </tr>\n",
       "  </thead>\n",
       "  <tbody>\n",
       "    <tr>\n",
       "      <th>0</th>\n",
       "      <td>0</td>\n",
       "      <td>1</td>\n",
       "    </tr>\n",
       "    <tr>\n",
       "      <th>1</th>\n",
       "      <td>0</td>\n",
       "      <td>1</td>\n",
       "    </tr>\n",
       "    <tr>\n",
       "      <th>2</th>\n",
       "      <td>0</td>\n",
       "      <td>1</td>\n",
       "    </tr>\n",
       "    <tr>\n",
       "      <th>3</th>\n",
       "      <td>0</td>\n",
       "      <td>1</td>\n",
       "    </tr>\n",
       "    <tr>\n",
       "      <th>4</th>\n",
       "      <td>0</td>\n",
       "      <td>1</td>\n",
       "    </tr>\n",
       "  </tbody>\n",
       "</table>\n",
       "</div>"
      ],
      "text/plain": [
       "   labels  predictions_pcscreen\n",
       "0       0                     1\n",
       "1       0                     1\n",
       "2       0                     1\n",
       "3       0                     1\n",
       "4       0                     1"
      ]
     },
     "execution_count": 24,
     "metadata": {},
     "output_type": "execute_result"
    }
   ],
   "source": [
    "all_preds_pcscreen = [torch.Tensor.cpu(x).numpy() for x in all_preds_pcscreen]\n",
    "df_val = pd.DataFrame({\n",
    "    'labels': np.hstack(all_labels),\n",
    "    'predictions_pcscreen': np.hstack(all_preds_pcscreen)\n",
    "})\n",
    "df_val.head()"
   ]
  },
  {
   "cell_type": "code",
   "execution_count": null,
   "metadata": {},
   "outputs": [
    {
     "data": {
      "image/png": "[encoded data removed]",
      "text/plain": [
       "<Figure size 800x600 with 2 Axes>"
      ]
     },
     "metadata": {},
     "output_type": "display_data"
    }
   ],
   "source": [
    "cm = confusion_matrix(\n",
    "    df_val['labels'], \n",
    "    df_val['predictions_pcscreen'], \n",
    "    labels=[0, 1]\n",
    ")\n",
    "class_names = ['Не экран', 'Экран']\n",
    "plt.figure(figsize=(8, 6))\n",
    "sns.heatmap(cm, annot=True, fmt='d', cmap='Blues', xticklabels=class_names, yticklabels=class_names)\n",
    "plt.title('Confusion Matrix')\n",
    "plt.xlabel('Прогнозы модели')\n",
    "plt.ylabel('Настоящие метки')\n",
    "plt.show()"
   ]
  }
 ],
 "metadata": {
  "kernelspec": {
   "display_name": "Python 3",
   "language": "python",
   "name": "python3"
  },
  "language_info": {
   "codemirror_mode": {
    "name": "ipython",
    "version": 3
   },
   "file_extension": ".py",
   "mimetype": "text/x-python",
   "name": "python",
   "nbconvert_exporter": "python",
   "pygments_lexer": "ipython3",
   "version": "3.11.6"
  }
 },
 "nbformat": 4,
 "nbformat_minor": 2
}
