{
 "cells": [
  {
   "cell_type": "markdown",
   "metadata": {},
   "source": [
    "Создание антикласса с терминалом Kozen P12"
   ]
  },
  {
   "cell_type": "markdown",
   "metadata": {},
   "source": [
    "# Загрузка библиотек"
   ]
  },
  {
   "cell_type": "code",
   "execution_count": 14,
   "metadata": {},
   "outputs": [],
   "source": [
    "import hashlib\n",
    "import imagehash\n",
    "import pandas as pd\n",
    "from PIL import Image\n",
    "from tqdm import tqdm\n",
    "from collections import Counter\n",
    "from matplotlib import pyplot as plt"
   ]
  },
  {
   "cell_type": "code",
   "execution_count": 13,
   "metadata": {},
   "outputs": [],
   "source": [
    "from PIL import ImageFile\n",
    "ImageFile.LOAD_TRUNCATED_IMAGES = True"
   ]
  },
  {
   "cell_type": "code",
   "execution_count": 9,
   "metadata": {},
   "outputs": [],
   "source": [
    "import os\n",
    "import shutil\n",
    "import numpy as np\n",
    "import pandas as pd\n",
    "from PIL import Image\n",
    "from tqdm import tqdm\n",
    "from pathlib import Path\n",
    "from ultralytics import YOLO\n",
    "import matplotlib.pyplot as plt\n",
    "from IPython.display import clear_output"
   ]
  },
  {
   "cell_type": "markdown",
   "metadata": {},
   "source": [
    "# Обработка фото моделью Terminal Object Detection"
   ]
  },
  {
   "cell_type": "code",
   "execution_count": 10,
   "metadata": {},
   "outputs": [],
   "source": [
    "model_od = YOLO(r'D:\\projects\\ai_pos_terminal\\ai_pos_terminal\\terminal_object_detection_fixed\\model_terminal_detection.pt')"
   ]
  },
  {
   "cell_type": "code",
   "execution_count": 7,
   "metadata": {},
   "outputs": [],
   "source": [
    "path_kozenp12_original = Path(r'D:\\projects\\ai_pos_terminal\\ai_pos_terminal\\data\\terminal_object_detection_data\\photos\\new_terminals')\n",
    "path_kozenp12_cropped = Path('cropped_kozenp12')\n",
    "if not os.path.exists(path_kozenp12_cropped):\n",
    "    os.makedirs(path_kozenp12_cropped)"
   ]
  },
  {
   "cell_type": "code",
   "execution_count": 12,
   "metadata": {},
   "outputs": [],
   "source": [
    "hash_size = 8\n",
    "def phash(image: Image.Image, hash_size: int) -> str:\n",
    "    return str(\n",
    "        hashlib.sha256(\n",
    "            bytearray(\n",
    "                imagehash.phash(\n",
    "                    image, hash_size=hash_size\n",
    "                ).hash.flatten().astype(int).tolist())\n",
    "            ).hexdigest())"
   ]
  },
  {
   "cell_type": "code",
   "execution_count": 17,
   "metadata": {},
   "outputs": [
    {
     "name": "stderr",
     "output_type": "stream",
     "text": [
      "100%|██████████| 292/292 [00:05<00:00, 49.31it/s]\n"
     ]
    }
   ],
   "source": [
    "filenames, hashes = [], []\n",
    "for filename in tqdm(os.listdir(path_kozenp12_original)):\n",
    "    file = (path_kozenp12_original / filename).__str__()\n",
    "    filenames.append(file)\n",
    "    image = Image.open(file)\n",
    "    file_hash = phash(image, hash_size)\n",
    "    hashes.append(file_hash)"
   ]
  },
  {
   "cell_type": "code",
   "execution_count": 19,
   "metadata": {},
   "outputs": [],
   "source": [
    "df_data = pd.DataFrame(\n",
    "    {\n",
    "        'filename': filenames,\n",
    "        'phash': hashes\n",
    "    }\n",
    ")"
   ]
  },
  {
   "cell_type": "code",
   "execution_count": 20,
   "metadata": {},
   "outputs": [],
   "source": [
    "df_data.drop_duplicates(subset=['phash'], inplace=True)\n",
    "df_data.reset_index(inplace=True, drop=True)"
   ]
  },
  {
   "cell_type": "code",
   "execution_count": 22,
   "metadata": {},
   "outputs": [
    {
     "name": "stderr",
     "output_type": "stream",
     "text": [
      "100%|██████████| 257/257 [00:00<00:00, 601.34it/s]\n"
     ]
    }
   ],
   "source": [
    "for filename in tqdm(df_data['filename']):\n",
    "    shutil.copy(filename,\n",
    "                r'D:\\projects\\ai_pos_terminal\\ai_pos_terminal\\data\\object_detection_data\\new_terminals')"
   ]
  }
 ],
 "metadata": {
  "kernelspec": {
   "display_name": "Python 3",
   "language": "python",
   "name": "python3"
  },
  "language_info": {
   "codemirror_mode": {
    "name": "ipython",
    "version": 3
   },
   "file_extension": ".py",
   "mimetype": "text/x-python",
   "name": "python",
   "nbconvert_exporter": "python",
   "pygments_lexer": "ipython3",
   "version": "3.10.11"
  }
 },
 "nbformat": 4,
 "nbformat_minor": 2
}
