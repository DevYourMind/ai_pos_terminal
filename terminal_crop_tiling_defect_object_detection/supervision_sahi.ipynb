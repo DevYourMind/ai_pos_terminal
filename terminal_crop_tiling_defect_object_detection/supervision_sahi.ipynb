{
 "cells": [
  {
   "cell_type": "code",
   "execution_count": 7,
   "metadata": {},
   "outputs": [],
   "source": [
    "import supervision as sv\n",
    "import numpy as np\n",
    "import cv2\n",
    "from ultralytics import YOLO\n",
    "import pandas as pd\n",
    "from PIL import Image\n",
    "from tqdm import tqdm\n",
    "import matplotlib.pyplot as plt\n",
    "from IPython.display import clear_output"
   ]
  },
  {
   "cell_type": "code",
   "execution_count": 2,
   "metadata": {},
   "outputs": [],
   "source": [
    "model_defect_od = YOLO('../terminal_crop_defect_object_detection/best_defect_od_crop.pt')\n",
    "\n",
    "def callback(x: np.ndarray) -> sv.Detections:\n",
    "    result = model_defect_od(x, verbose=False)[0]\n",
    "    return sv.Detections.from_ultralytics(result)"
   ]
  },
  {
   "cell_type": "code",
   "execution_count": 3,
   "metadata": {},
   "outputs": [],
   "source": [
    "model_terminal_od = YOLO('../terminal_object_detection/best.pt')"
   ]
  },
  {
   "cell_type": "code",
   "execution_count": 4,
   "metadata": {},
   "outputs": [],
   "source": [
    "df = pd.read_pickle('../data/common_files/df_markup.pkl')\n",
    "df = df[\n",
    "    (df['terminal']==1) &\n",
    "    (df['file_name'].apply(lambda x: 'augm' not in x))\n",
    "]"
   ]
  },
  {
   "cell_type": "code",
   "execution_count": 5,
   "metadata": {},
   "outputs": [],
   "source": [
    "sample_images = df['file_name'].sample(60).values"
   ]
  },
  {
   "cell_type": "code",
   "execution_count": null,
   "metadata": {},
   "outputs": [],
   "source": [
    "for sample_image in tqdm(sample_images):\n",
    "    image = Image.open(sample_image)\n",
    "    results_terminal_od = model_terminal_od.predict(image, verbose=False)\n",
    "    try:\n",
    "        x1, y1, x2, y2 = results_terminal_od[0].boxes.xyxy[0].tolist()\n",
    "    except:\n",
    "        continue\n",
    "    cropped_im = image.crop((x1, y1, x2, y2))\n",
    "    cropped_im = cv2.cvtColor(np.array(cropped_im), cv2.COLOR_RGB2BGR)\n",
    "    slicer = sv.InferenceSlicer(callback=callback)\n",
    "    sliced_detections = slicer(image=cropped_im)\n",
    "    box_annotator = sv.BoxAnnotator()\n",
    "    sliced_image = box_annotator.annotate(cropped_im.copy(), \n",
    "                                          detections=sliced_detections, \n",
    "                                          labels=['body_attrition', 'body_dirt', 'body_scratch', 'key_attrition', 'key_dirt', 'screen_attrition', 'screen_dirt', 'screen_scratch']\n",
    "                                          )\n",
    "    im = Image.fromarray(sliced_image)\n",
    "    im.save('sahi_examples/'+sample_image.split('\\\\')[-1])\n",
    "    sv.plot_image(sliced_image)\n",
    "    plt.show()\n",
    "clear_output()"
   ]
  },
  {
   "cell_type": "markdown",
   "metadata": {},
   "source": [
    "Эксперимент неудачный, качество прогнозов очень низкое :("
   ]
  }
 ],
 "metadata": {
  "kernelspec": {
   "display_name": "Python 3",
   "language": "python",
   "name": "python3"
  },
  "language_info": {
   "codemirror_mode": {
    "name": "ipython",
    "version": 3
   },
   "file_extension": ".py",
   "mimetype": "text/x-python",
   "name": "python",
   "nbconvert_exporter": "python",
   "pygments_lexer": "ipython3",
   "version": "3.10.11"
  }
 },
 "nbformat": 4,
 "nbformat_minor": 2
}
