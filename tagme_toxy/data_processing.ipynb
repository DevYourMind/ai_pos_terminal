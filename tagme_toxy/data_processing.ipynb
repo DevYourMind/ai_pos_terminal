{
 "cells": [
  {
   "cell_type": "markdown",
   "metadata": {},
   "source": [
    "Преобразование данных от tagme в привычной формат"
   ]
  },
  {
   "cell_type": "code",
   "execution_count": 1,
   "metadata": {},
   "outputs": [],
   "source": [
    "import json\n",
    "import os"
   ]
  },
  {
   "cell_type": "code",
   "execution_count": 12,
   "metadata": {},
   "outputs": [],
   "source": [
    "# Opening JSON file\n",
    "with open('example.json') as json_file:\n",
    "    via_data = json.load(json_file)"
   ]
  },
  {
   "cell_type": "code",
   "execution_count": 13,
   "metadata": {},
   "outputs": [
    {
     "data": {
      "text/plain": [
       "dict_keys(['_via_settings', '_via_img_metadata', '_via_attributes', '_via_data_format_version', '_via_image_id_list'])"
      ]
     },
     "execution_count": 13,
     "metadata": {},
     "output_type": "execute_result"
    }
   ],
   "source": [
    "via_data.keys()"
   ]
  },
  {
   "cell_type": "code",
   "execution_count": 15,
   "metadata": {},
   "outputs": [],
   "source": [
    "# Opening JSON file\n",
    "with open('Детекция дефектов на POS-терминалах_check.json') as json_file:\n",
    "    tagme_data = json.load(json_file)"
   ]
  },
  {
   "cell_type": "code",
   "execution_count": 5,
   "metadata": {},
   "outputs": [],
   "source": [
    "dict_result = {}"
   ]
  },
  {
   "cell_type": "code",
   "execution_count": 7,
   "metadata": {},
   "outputs": [],
   "source": [
    "# 'true' -> true\n",
    "dict_result['_via_settings'] = {\n",
    "    \"ui\": {\n",
    "      \"annotation_editor_height\": 25,\n",
    "      \"annotation_editor_fontsize\": 0.6000000000000001,\n",
    "      \"leftsidebar_width\": 18,\n",
    "      \"image_grid\": {\n",
    "        \"img_height\": 80,\n",
    "        \"rshape_fill\": \"none\",\n",
    "        \"rshape_fill_opacity\": 0.3,\n",
    "        \"rshape_stroke\": \"yellow\",\n",
    "        \"rshape_stroke_width\": 2,\n",
    "        \"show_region_shape\": 'true',\n",
    "        \"show_image_policy\": \"all\"\n",
    "      },\n",
    "      \"image\": {\n",
    "        \"region_label\": \"__via_region_id__\",\n",
    "        \"region_color\": \"class_anotation\",\n",
    "        \"region_label_font\": \"10px Sans\",\n",
    "        \"on_image_annotation_editor_placement\": \"NEAR_REGION\"\n",
    "      }\n",
    "    },\n",
    "    \"core\": {\n",
    "      \"buffer_size\": 18,\n",
    "      \"filepath\": {},\n",
    "      \"default_filepath\": \"\"\n",
    "    },\n",
    "    \"project\": {\n",
    "      \"name\": \"defect_object_detection\"\n",
    "    }\n",
    "  }"
   ]
  },
  {
   "cell_type": "code",
   "execution_count": 8,
   "metadata": {},
   "outputs": [],
   "source": [
    "# pictures info\n",
    "# dict_result['_via_attributes'] = "
   ]
  },
  {
   "cell_type": "code",
   "execution_count": 9,
   "metadata": {},
   "outputs": [],
   "source": [
    "# 'true' -> true\n",
    "dict_result['_via_attributes'] = {\n",
    "    \"region\": {\n",
    "      \"class_anotation\": {\n",
    "        \"type\": \"radio\",\n",
    "        \"description\": \"\",\n",
    "        \"options\": {\n",
    "          \"key_dirt\": \"Грязь на клавише\",\n",
    "          \"key_attrition\": \"Затертая клавиша\",\n",
    "          \"screen_dirt\": \"Грязь на экране\",\n",
    "          \"screen_attrition\": \"Затертый экран\",\n",
    "          \"screen_scratch\": \"Царапина на экране\",\n",
    "          \"body_dirt\": \"Грязь на корпусе\",\n",
    "          \"body_attrition\": \"Потертости корпуса\",\n",
    "          \"body_scratch\": \"Царапина на корпусе\"\n",
    "        },\n",
    "        \"default_options\": {\n",
    "          \"key_dirt\": 'true'\n",
    "        }\n",
    "      }\n",
    "    },\n",
    "    \"file\": {}\n",
    "  }"
   ]
  },
  {
   "cell_type": "code",
   "execution_count": null,
   "metadata": {},
   "outputs": [],
   "source": [
    "dict_result['_via_attributes'] = \"2.0.10\""
   ]
  },
  {
   "cell_type": "code",
   "execution_count": null,
   "metadata": {},
   "outputs": [],
   "source": [
    "dict_result['_via_image_id_list'] = os.listdir('sample')"
   ]
  }
 ],
 "metadata": {
  "kernelspec": {
   "display_name": "Python 3",
   "language": "python",
   "name": "python3"
  },
  "language_info": {
   "codemirror_mode": {
    "name": "ipython",
    "version": 3
   },
   "file_extension": ".py",
   "mimetype": "text/x-python",
   "name": "python",
   "nbconvert_exporter": "python",
   "pygments_lexer": "ipython3",
   "version": "3.10.11"
  }
 },
 "nbformat": 4,
 "nbformat_minor": 2
}
