{
 "cells": [
  {
   "cell_type": "markdown",
   "metadata": {},
   "source": [
    "# Загрузка библиотек"
   ]
  },
  {
   "cell_type": "code",
   "execution_count": 1,
   "metadata": {},
   "outputs": [],
   "source": [
    "import torch\n",
    "import numpy as np\n",
    "from ultralytics import YOLO\n",
    "import os\n",
    "import time\n",
    "from PIL import Image\n",
    "import onnxruntime as onnx\n",
    "from pathlib import Path\n",
    "from IPython.display import clear_output\n",
    "from tqdm import tqdm\n",
    "import onnxruntime as ort\n",
    "import pandas as pd"
   ]
  },
  {
   "cell_type": "markdown",
   "metadata": {},
   "source": [
    "# Загрузка моделей и данных"
   ]
  },
  {
   "cell_type": "code",
   "execution_count": 2,
   "metadata": {},
   "outputs": [],
   "source": [
    "path_models = Path('models')\n",
    "model_terminal_od_onnx = YOLO(path_models / 'model_terminal_od.onnx', task='detect')\n",
    "model_defect_od_onnx = YOLO(path_models / 'model_defect_od_crop.onnx', task='detect')\n",
    "\n",
    "model_terminal_od_pt = YOLO(path_models / 'model_terminal_od.pt')\n",
    "model_defect_od_pt = YOLO(path_models / 'model_defect_od_crop.pt')"
   ]
  },
  {
   "cell_type": "code",
   "execution_count": 3,
   "metadata": {},
   "outputs": [],
   "source": [
    "model_defect_od_onnx_fixed = ort.InferenceSession(\n",
    "    path_models / 'model_defect_od_crop.onnx', \n",
    "    providers=['CPUExecutionProvider']\n",
    ")\n",
    "model_terminal_od_onnx_fixed = ort.InferenceSession(\n",
    "    path_models / 'model_terminal_od.onnx', \n",
    "    providers=['CPUExecutionProvider']\n",
    ")"
   ]
  },
  {
   "cell_type": "code",
   "execution_count": 9,
   "metadata": {},
   "outputs": [
    {
     "name": "stdout",
     "output_type": "stream",
     "text": [
      "Количество семплов: 273\n"
     ]
    }
   ],
   "source": [
    "path_filenames = Path('samples')\n",
    "filenames = [path_filenames / x for x in os.listdir(path_filenames)]\n",
    "print(f'Количество семплов: {len(filenames)}')"
   ]
  },
  {
   "cell_type": "code",
   "execution_count": 4,
   "metadata": {},
   "outputs": [
    {
     "name": "stderr",
     "output_type": "stream",
     "text": [
      "Loading models\\model_terminal_od.onnx for ONNX Runtime inference...\n",
      "Loading models\\model_defect_od_crop.onnx for ONNX Runtime inference...\n"
     ]
    }
   ],
   "source": [
    "# models heat-up\n",
    "temp = model_terminal_od_onnx(filenames[0], imgsz=640, verbose=False)\n",
    "temp = model_defect_od_onnx(filenames[0], imgsz=1280, verbose=False)\n",
    "\n",
    "temp = model_terminal_od_pt(filenames[0], imgsz=640, verbose=False)\n",
    "temp = model_defect_od_pt(filenames[0], imgsz=1280, verbose=False)\n",
    "del temp"
   ]
  },
  {
   "cell_type": "markdown",
   "metadata": {},
   "source": [
    "# Options comparison"
   ]
  },
  {
   "cell_type": "code",
   "execution_count": 156,
   "metadata": {},
   "outputs": [],
   "source": [
    "n_iters = 200\n",
    "df_speed_comparison = pd.DataFrame()"
   ]
  },
  {
   "cell_type": "markdown",
   "metadata": {},
   "source": [
    "## Pytorch model inference"
   ]
  },
  {
   "cell_type": "code",
   "execution_count": 182,
   "metadata": {},
   "outputs": [],
   "source": [
    "duration_pt = [0] * n_iters"
   ]
  },
  {
   "cell_type": "code",
   "execution_count": 183,
   "metadata": {},
   "outputs": [
    {
     "name": "stderr",
     "output_type": "stream",
     "text": [
      "100%|██████████| 200/200 [00:52<00:00,  3.83it/s]"
     ]
    },
    {
     "name": "stdout",
     "output_type": "stream",
     "text": [
      "CPU times: total: 16.1 s\n",
      "Wall time: 52.2 s\n"
     ]
    },
    {
     "name": "stderr",
     "output_type": "stream",
     "text": [
      "\n"
     ]
    }
   ],
   "source": [
    "%%time\n",
    "for i in tqdm(range(n_iters)):\n",
    "    start = time.time()\n",
    "    sample_file = filenames[i]\n",
    "    model_terminal_od_pt(sample_file, imgsz=640, verbose=False)\n",
    "    end = time.time()\n",
    "    duration_pt[i] = end - start"
   ]
  },
  {
   "cell_type": "code",
   "execution_count": 186,
   "metadata": {},
   "outputs": [
    {
     "data": {
      "text/html": [
       "<div>\n",
       "<style scoped>\n",
       "    .dataframe tbody tr th:only-of-type {\n",
       "        vertical-align: middle;\n",
       "    }\n",
       "\n",
       "    .dataframe tbody tr th {\n",
       "        vertical-align: top;\n",
       "    }\n",
       "\n",
       "    .dataframe thead th {\n",
       "        text-align: right;\n",
       "    }\n",
       "</style>\n",
       "<table border=\"1\" class=\"dataframe\">\n",
       "  <thead>\n",
       "    <tr style=\"text-align: right;\">\n",
       "      <th></th>\n",
       "      <th>pt</th>\n",
       "    </tr>\n",
       "  </thead>\n",
       "  <tbody>\n",
       "    <tr>\n",
       "      <th>count</th>\n",
       "      <td>200.000000</td>\n",
       "    </tr>\n",
       "    <tr>\n",
       "      <th>mean</th>\n",
       "      <td>0.260425</td>\n",
       "    </tr>\n",
       "    <tr>\n",
       "      <th>std</th>\n",
       "      <td>0.020674</td>\n",
       "    </tr>\n",
       "    <tr>\n",
       "      <th>min</th>\n",
       "      <td>0.206111</td>\n",
       "    </tr>\n",
       "    <tr>\n",
       "      <th>25%</th>\n",
       "      <td>0.249782</td>\n",
       "    </tr>\n",
       "    <tr>\n",
       "      <th>50%</th>\n",
       "      <td>0.264422</td>\n",
       "    </tr>\n",
       "    <tr>\n",
       "      <th>75%</th>\n",
       "      <td>0.273562</td>\n",
       "    </tr>\n",
       "    <tr>\n",
       "      <th>max</th>\n",
       "      <td>0.315854</td>\n",
       "    </tr>\n",
       "  </tbody>\n",
       "</table>\n",
       "</div>"
      ],
      "text/plain": [
       "               pt\n",
       "count  200.000000\n",
       "mean     0.260425\n",
       "std      0.020674\n",
       "min      0.206111\n",
       "25%      0.249782\n",
       "50%      0.264422\n",
       "75%      0.273562\n",
       "max      0.315854"
      ]
     },
     "execution_count": 186,
     "metadata": {},
     "output_type": "execute_result"
    }
   ],
   "source": [
    "df_speed_comparison['pt'] = duration_pt\n",
    "df_speed_comparison.describe()"
   ]
  },
  {
   "cell_type": "markdown",
   "metadata": {},
   "source": [
    "## ONNX model inference"
   ]
  },
  {
   "cell_type": "code",
   "execution_count": 162,
   "metadata": {},
   "outputs": [],
   "source": [
    "def iou(box1,box2):\n",
    "    return intersection(box1,box2)/union(box1,box2)\n",
    "\n",
    "def union(box1,box2):\n",
    "    box1_x1,box1_y1,box1_x2,box1_y2 = box1[:4]\n",
    "    box2_x1,box2_y1,box2_x2,box2_y2 = box2[:4]\n",
    "    box1_area = (box1_x2-box1_x1)*(box1_y2-box1_y1)\n",
    "    box2_area = (box2_x2-box2_x1)*(box2_y2-box2_y1)\n",
    "    return box1_area + box2_area - intersection(box1,box2)\n",
    "\n",
    "def intersection(box1,box2):\n",
    "    box1_x1,box1_y1,box1_x2,box1_y2 = box1[:4]\n",
    "    box2_x1,box2_y1,box2_x2,box2_y2 = box2[:4]\n",
    "    x1 = max(box1_x1,box2_x1)\n",
    "    y1 = max(box1_y1,box2_y1)\n",
    "    x2 = min(box1_x2,box2_x2)\n",
    "    y2 = min(box1_y2,box2_y2)\n",
    "    return (x2-x1)*(y2-y1)"
   ]
  },
  {
   "cell_type": "code",
   "execution_count": 190,
   "metadata": {},
   "outputs": [],
   "source": [
    "duration_onnx = [0] * n_iters"
   ]
  },
  {
   "cell_type": "code",
   "execution_count": 191,
   "metadata": {},
   "outputs": [
    {
     "name": "stderr",
     "output_type": "stream",
     "text": [
      "100%|██████████| 200/200 [00:45<00:00,  4.41it/s]"
     ]
    },
    {
     "name": "stdout",
     "output_type": "stream",
     "text": [
      "CPU times: total: 8min 37s\n",
      "Wall time: 45.4 s\n"
     ]
    },
    {
     "name": "stderr",
     "output_type": "stream",
     "text": [
      "\n"
     ]
    }
   ],
   "source": [
    "%%time\n",
    "for i in tqdm(range(n_iters)):\n",
    "    start = time.time()\n",
    "    sample_file = filenames[i]\n",
    "    img = Image.open(\n",
    "        sample_file\n",
    "    )\n",
    "    img_width, img_height = img.size\n",
    "    img_terminal = img.resize((640, 640)).convert(\"RGB\")\n",
    "    img_terminal = (np.array(img_terminal).transpose(2, 0, 1).reshape(1, 3, 640, 640)/255.0).astype(np.float32)\n",
    "\n",
    "    outputs = model_terminal_od_onnx_fixed.run(\n",
    "        [\"output0\"], {\"images\":img_terminal}\n",
    "    )\n",
    "    output = outputs[0][0].transpose()\n",
    "    filtered_rows = output[\n",
    "        output[:, 4:].max(axis=1) > 0.5\n",
    "    ]\n",
    "    filtered_rows = filtered_rows[\n",
    "        filtered_rows[:, 4].argsort()\n",
    "    ]\n",
    "    x1s = (filtered_rows[:, 0] - filtered_rows[:, 2]/2) / 640 * img_width\n",
    "    y1s = (filtered_rows[:, 1] - filtered_rows[:, 3]/2) / 640 * img_height\n",
    "    x2s = (filtered_rows[:, 0] + filtered_rows[:, 2]/2) / 640 * img_width\n",
    "    y2s = (filtered_rows[:, 1] + filtered_rows[:, 3]/2) / 640 * img_height\n",
    "    boxes = np.array([x1s, y1s, x2s, y2s]).T\n",
    "    result = []\n",
    "    while len(boxes)>0:\n",
    "        result.append(boxes[0])\n",
    "        boxes = [box for box in boxes if iou(box, boxes[0])<0.7]\n",
    "    end = time.time()\n",
    "    duration_onnx[i] = end - start"
   ]
  },
  {
   "cell_type": "code",
   "execution_count": 192,
   "metadata": {},
   "outputs": [
    {
     "data": {
      "text/html": [
       "<div>\n",
       "<style scoped>\n",
       "    .dataframe tbody tr th:only-of-type {\n",
       "        vertical-align: middle;\n",
       "    }\n",
       "\n",
       "    .dataframe tbody tr th {\n",
       "        vertical-align: top;\n",
       "    }\n",
       "\n",
       "    .dataframe thead th {\n",
       "        text-align: right;\n",
       "    }\n",
       "</style>\n",
       "<table border=\"1\" class=\"dataframe\">\n",
       "  <thead>\n",
       "    <tr style=\"text-align: right;\">\n",
       "      <th></th>\n",
       "      <th>pt</th>\n",
       "      <th>onnx</th>\n",
       "    </tr>\n",
       "  </thead>\n",
       "  <tbody>\n",
       "    <tr>\n",
       "      <th>count</th>\n",
       "      <td>200.000000</td>\n",
       "      <td>200.000000</td>\n",
       "    </tr>\n",
       "    <tr>\n",
       "      <th>mean</th>\n",
       "      <td>0.260425</td>\n",
       "      <td>0.225460</td>\n",
       "    </tr>\n",
       "    <tr>\n",
       "      <th>std</th>\n",
       "      <td>0.020674</td>\n",
       "      <td>0.024065</td>\n",
       "    </tr>\n",
       "    <tr>\n",
       "      <th>min</th>\n",
       "      <td>0.206111</td>\n",
       "      <td>0.168308</td>\n",
       "    </tr>\n",
       "    <tr>\n",
       "      <th>25%</th>\n",
       "      <td>0.249782</td>\n",
       "      <td>0.206248</td>\n",
       "    </tr>\n",
       "    <tr>\n",
       "      <th>50%</th>\n",
       "      <td>0.264422</td>\n",
       "      <td>0.228366</td>\n",
       "    </tr>\n",
       "    <tr>\n",
       "      <th>75%</th>\n",
       "      <td>0.273562</td>\n",
       "      <td>0.242439</td>\n",
       "    </tr>\n",
       "    <tr>\n",
       "      <th>max</th>\n",
       "      <td>0.315854</td>\n",
       "      <td>0.294009</td>\n",
       "    </tr>\n",
       "  </tbody>\n",
       "</table>\n",
       "</div>"
      ],
      "text/plain": [
       "               pt        onnx\n",
       "count  200.000000  200.000000\n",
       "mean     0.260425    0.225460\n",
       "std      0.020674    0.024065\n",
       "min      0.206111    0.168308\n",
       "25%      0.249782    0.206248\n",
       "50%      0.264422    0.228366\n",
       "75%      0.273562    0.242439\n",
       "max      0.315854    0.294009"
      ]
     },
     "execution_count": 192,
     "metadata": {},
     "output_type": "execute_result"
    }
   ],
   "source": [
    "df_speed_comparison['onnx'] = duration_onnx\n",
    "df_speed_comparison.describe()"
   ]
  },
  {
   "cell_type": "markdown",
   "metadata": {},
   "source": [
    "## ONNX + numpy (impr)"
   ]
  },
  {
   "cell_type": "code",
   "execution_count": null,
   "metadata": {},
   "outputs": [],
   "source": [
    "duration_onnx_impr = [0] * n_iters"
   ]
  },
  {
   "cell_type": "code",
   "execution_count": 193,
   "metadata": {},
   "outputs": [
    {
     "name": "stderr",
     "output_type": "stream",
     "text": [
      "100%|██████████| 200/200 [00:46<00:00,  4.30it/s]"
     ]
    },
    {
     "name": "stdout",
     "output_type": "stream",
     "text": [
      "CPU times: total: 8min 45s\n",
      "Wall time: 46.5 s\n"
     ]
    },
    {
     "name": "stderr",
     "output_type": "stream",
     "text": [
      "\n"
     ]
    }
   ],
   "source": [
    "%%time\n",
    "for i in tqdm(range(n_iters)):\n",
    "    start = time.time()\n",
    "    sample_file = filenames[i]\n",
    "    img = Image.open(\n",
    "        sample_file\n",
    "    )\n",
    "    img_width, img_height = img.size\n",
    "    img_terminal = img.resize((640, 640)).convert(\"RGB\")\n",
    "    img_terminal = (np.array(img_terminal).transpose(2, 0, 1).reshape(1, 3, 640, 640)/255.0).astype(np.float32)\n",
    "    outputs = model_terminal_od_onnx_fixed.run(\n",
    "        [\"output0\"], {\"images\":img_terminal}\n",
    "    )\n",
    "    output = outputs[0][0].transpose()\n",
    "    filtered_rows = output[\n",
    "        output[:, 4:].max(axis=1) > 0.5\n",
    "    ]\n",
    "    filtered_rows = filtered_rows[\n",
    "        filtered_rows[:, 4].argsort()\n",
    "    ]\n",
    "    x1s = (filtered_rows[:, 0] - filtered_rows[:, 2]/2) / 640 * img_width\n",
    "    y1s = (filtered_rows[:, 1] - filtered_rows[:, 3]/2) / 640 * img_height\n",
    "    x2s = (filtered_rows[:, 0] + filtered_rows[:, 2]/2) / 640 * img_width\n",
    "    y2s = (filtered_rows[:, 1] + filtered_rows[:, 3]/2) / 640 * img_height\n",
    "    boxes = np.array([x1s, y1s, x2s, y2s]).T\n",
    "    \n",
    "    result = []\n",
    "    while len(boxes)>0:\n",
    "        result.append(boxes[0])\n",
    "        box2_x1, box2_y1, box2_x2, box2_y2 = boxes[0]\n",
    "        box1_x1 = boxes[:, 0]\n",
    "        box1_y1 = boxes[:, 1]\n",
    "        box1_x2 = boxes[:, 2]\n",
    "        box1_y2 = boxes[:, 3]\n",
    "        x1 = np.maximum(box1_x1, box2_x1)\n",
    "        y1 = np.maximum(box1_y1, box2_y1)\n",
    "        x2 = np.minimum(box1_x2, box2_x2)\n",
    "        y2 = np.minimum(box1_y2, box2_y2)\n",
    "        intersec = (x2-x1)*(y2-y1)\n",
    "        box1_area = (box1_x2-box1_x1)*(box1_y2-box1_y1)\n",
    "        box2_area = (box2_x2-box2_x1)*(box2_y2-box2_y1)\n",
    "        uni = box1_area + box2_area - intersec\n",
    "        metric = intersec / uni\n",
    "        boxes = boxes[metric<0.7]\n",
    "    end = time.time()\n",
    "    duration_onnx_impr[i] = end - start"
   ]
  },
  {
   "cell_type": "code",
   "execution_count": 194,
   "metadata": {},
   "outputs": [
    {
     "data": {
      "text/html": [
       "<div>\n",
       "<style scoped>\n",
       "    .dataframe tbody tr th:only-of-type {\n",
       "        vertical-align: middle;\n",
       "    }\n",
       "\n",
       "    .dataframe tbody tr th {\n",
       "        vertical-align: top;\n",
       "    }\n",
       "\n",
       "    .dataframe thead th {\n",
       "        text-align: right;\n",
       "    }\n",
       "</style>\n",
       "<table border=\"1\" class=\"dataframe\">\n",
       "  <thead>\n",
       "    <tr style=\"text-align: right;\">\n",
       "      <th></th>\n",
       "      <th>pt</th>\n",
       "      <th>onnx</th>\n",
       "      <th>onnx_impr</th>\n",
       "    </tr>\n",
       "  </thead>\n",
       "  <tbody>\n",
       "    <tr>\n",
       "      <th>count</th>\n",
       "      <td>200.000000</td>\n",
       "      <td>200.000000</td>\n",
       "      <td>200.000000</td>\n",
       "    </tr>\n",
       "    <tr>\n",
       "      <th>mean</th>\n",
       "      <td>0.260425</td>\n",
       "      <td>0.225460</td>\n",
       "      <td>0.231182</td>\n",
       "    </tr>\n",
       "    <tr>\n",
       "      <th>std</th>\n",
       "      <td>0.020674</td>\n",
       "      <td>0.024065</td>\n",
       "      <td>0.027059</td>\n",
       "    </tr>\n",
       "    <tr>\n",
       "      <th>min</th>\n",
       "      <td>0.206111</td>\n",
       "      <td>0.168308</td>\n",
       "      <td>0.169050</td>\n",
       "    </tr>\n",
       "    <tr>\n",
       "      <th>25%</th>\n",
       "      <td>0.249782</td>\n",
       "      <td>0.206248</td>\n",
       "      <td>0.211434</td>\n",
       "    </tr>\n",
       "    <tr>\n",
       "      <th>50%</th>\n",
       "      <td>0.264422</td>\n",
       "      <td>0.228366</td>\n",
       "      <td>0.233389</td>\n",
       "    </tr>\n",
       "    <tr>\n",
       "      <th>75%</th>\n",
       "      <td>0.273562</td>\n",
       "      <td>0.242439</td>\n",
       "      <td>0.250211</td>\n",
       "    </tr>\n",
       "    <tr>\n",
       "      <th>max</th>\n",
       "      <td>0.315854</td>\n",
       "      <td>0.294009</td>\n",
       "      <td>0.300204</td>\n",
       "    </tr>\n",
       "  </tbody>\n",
       "</table>\n",
       "</div>"
      ],
      "text/plain": [
       "               pt        onnx   onnx_impr\n",
       "count  200.000000  200.000000  200.000000\n",
       "mean     0.260425    0.225460    0.231182\n",
       "std      0.020674    0.024065    0.027059\n",
       "min      0.206111    0.168308    0.169050\n",
       "25%      0.249782    0.206248    0.211434\n",
       "50%      0.264422    0.228366    0.233389\n",
       "75%      0.273562    0.242439    0.250211\n",
       "max      0.315854    0.294009    0.300204"
      ]
     },
     "execution_count": 194,
     "metadata": {},
     "output_type": "execute_result"
    }
   ],
   "source": [
    "df_speed_comparison['onnx_impr'] = duration_onnx_impr\n",
    "df_speed_comparison.describe()"
   ]
  },
  {
   "cell_type": "markdown",
   "metadata": {},
   "source": [
    "Стандартный инференс через onnx оказался самым быстрым. Попробуем ускорить функции обработки numpy"
   ]
  },
  {
   "cell_type": "markdown",
   "metadata": {},
   "source": [
    "## ONNX + jax"
   ]
  },
  {
   "cell_type": "code",
   "execution_count": 195,
   "metadata": {},
   "outputs": [],
   "source": [
    "import jax.numpy as jnp\n",
    "from jax import jit\n",
    "\n",
    "@jit\n",
    "def get_boxes(filtered_rows, img_width, img_height):\n",
    "    x1s = (filtered_rows[:, 0] - filtered_rows[:, 2]/2) / 640 * img_width\n",
    "    y1s = (filtered_rows[:, 1] - filtered_rows[:, 3]/2) / 640 * img_height\n",
    "    x2s = (filtered_rows[:, 0] + filtered_rows[:, 2]/2) / 640 * img_width\n",
    "    y2s = (filtered_rows[:, 1] + filtered_rows[:, 3]/2) / 640 * img_height\n",
    "    boxes = jnp.array([x1s, y1s, x2s, y2s]).T\n",
    "    return boxes\n",
    "\n",
    "@jit\n",
    "def convert_pil_tonumpy(img):\n",
    "    return (\n",
    "        img.transpose(2, 0, 1).reshape(1, 3, 640, 640)/255.0\n",
    "    ).astype(np.float32)"
   ]
  },
  {
   "cell_type": "code",
   "execution_count": 196,
   "metadata": {},
   "outputs": [],
   "source": [
    "duration_onnx_jax = [0] * n_iters"
   ]
  },
  {
   "cell_type": "code",
   "execution_count": 197,
   "metadata": {},
   "outputs": [
    {
     "name": "stderr",
     "output_type": "stream",
     "text": [
      "100%|██████████| 200/200 [00:47<00:00,  4.18it/s]"
     ]
    },
    {
     "name": "stdout",
     "output_type": "stream",
     "text": [
      "CPU times: total: 8min 55s\n",
      "Wall time: 47.8 s\n"
     ]
    },
    {
     "name": "stderr",
     "output_type": "stream",
     "text": [
      "\n"
     ]
    }
   ],
   "source": [
    "%%time\n",
    "for i in tqdm(range(n_iters)):\n",
    "    start = time.time()\n",
    "    sample_file = filenames[i]\n",
    "    img = Image.open(\n",
    "        sample_file\n",
    "    )\n",
    "    img_width, img_height = img.size\n",
    "    img_terminal = img.resize((640, 640)).convert(\"RGB\")\n",
    "    \n",
    "    img_terminal = (np.array(img_terminal).transpose(2, 0, 1).reshape(1, 3, 640, 640)/255.0).astype(np.float32)\n",
    "    outputs = model_terminal_od_onnx_fixed.run(\n",
    "        [\"output0\"], {\"images\":img_terminal}\n",
    "    )\n",
    "    output = outputs[0][0].transpose()\n",
    "    filtered_rows = output[\n",
    "        output[:, 4:].max(axis=1) > 0.5\n",
    "    ]\n",
    "    filtered_rows = filtered_rows[\n",
    "        filtered_rows[:, 4].argsort()\n",
    "    ]\n",
    "    boxes = get_boxes(filtered_rows, img_width, img_height)\n",
    "    result = []\n",
    "    while len(boxes)>0:\n",
    "        result.append(boxes[0])\n",
    "        boxes = [box for box in boxes if iou(box, boxes[0])<0.7]\n",
    "    end = time.time()\n",
    "    duration_onnx_jax[i] = end - start"
   ]
  },
  {
   "cell_type": "code",
   "execution_count": 198,
   "metadata": {},
   "outputs": [
    {
     "data": {
      "text/html": [
       "<div>\n",
       "<style scoped>\n",
       "    .dataframe tbody tr th:only-of-type {\n",
       "        vertical-align: middle;\n",
       "    }\n",
       "\n",
       "    .dataframe tbody tr th {\n",
       "        vertical-align: top;\n",
       "    }\n",
       "\n",
       "    .dataframe thead th {\n",
       "        text-align: right;\n",
       "    }\n",
       "</style>\n",
       "<table border=\"1\" class=\"dataframe\">\n",
       "  <thead>\n",
       "    <tr style=\"text-align: right;\">\n",
       "      <th></th>\n",
       "      <th>pt</th>\n",
       "      <th>onnx</th>\n",
       "      <th>onnx_impr</th>\n",
       "      <th>onnx_jax</th>\n",
       "    </tr>\n",
       "  </thead>\n",
       "  <tbody>\n",
       "    <tr>\n",
       "      <th>count</th>\n",
       "      <td>200.000000</td>\n",
       "      <td>200.000000</td>\n",
       "      <td>200.000000</td>\n",
       "      <td>200.000000</td>\n",
       "    </tr>\n",
       "    <tr>\n",
       "      <th>mean</th>\n",
       "      <td>0.260425</td>\n",
       "      <td>0.225460</td>\n",
       "      <td>0.231182</td>\n",
       "      <td>0.238068</td>\n",
       "    </tr>\n",
       "    <tr>\n",
       "      <th>std</th>\n",
       "      <td>0.020674</td>\n",
       "      <td>0.024065</td>\n",
       "      <td>0.027059</td>\n",
       "      <td>0.026977</td>\n",
       "    </tr>\n",
       "    <tr>\n",
       "      <th>min</th>\n",
       "      <td>0.206111</td>\n",
       "      <td>0.168308</td>\n",
       "      <td>0.169050</td>\n",
       "      <td>0.173427</td>\n",
       "    </tr>\n",
       "    <tr>\n",
       "      <th>25%</th>\n",
       "      <td>0.249782</td>\n",
       "      <td>0.206248</td>\n",
       "      <td>0.211434</td>\n",
       "      <td>0.216849</td>\n",
       "    </tr>\n",
       "    <tr>\n",
       "      <th>50%</th>\n",
       "      <td>0.264422</td>\n",
       "      <td>0.228366</td>\n",
       "      <td>0.233389</td>\n",
       "      <td>0.235754</td>\n",
       "    </tr>\n",
       "    <tr>\n",
       "      <th>75%</th>\n",
       "      <td>0.273562</td>\n",
       "      <td>0.242439</td>\n",
       "      <td>0.250211</td>\n",
       "      <td>0.257273</td>\n",
       "    </tr>\n",
       "    <tr>\n",
       "      <th>max</th>\n",
       "      <td>0.315854</td>\n",
       "      <td>0.294009</td>\n",
       "      <td>0.300204</td>\n",
       "      <td>0.316618</td>\n",
       "    </tr>\n",
       "  </tbody>\n",
       "</table>\n",
       "</div>"
      ],
      "text/plain": [
       "               pt        onnx   onnx_impr    onnx_jax\n",
       "count  200.000000  200.000000  200.000000  200.000000\n",
       "mean     0.260425    0.225460    0.231182    0.238068\n",
       "std      0.020674    0.024065    0.027059    0.026977\n",
       "min      0.206111    0.168308    0.169050    0.173427\n",
       "25%      0.249782    0.206248    0.211434    0.216849\n",
       "50%      0.264422    0.228366    0.233389    0.235754\n",
       "75%      0.273562    0.242439    0.250211    0.257273\n",
       "max      0.315854    0.294009    0.300204    0.316618"
      ]
     },
     "execution_count": 198,
     "metadata": {},
     "output_type": "execute_result"
    }
   ],
   "source": [
    "df_speed_comparison['onnx_jax'] = duration_onnx_jax\n",
    "df_speed_comparison.describe()"
   ]
  },
  {
   "cell_type": "markdown",
   "metadata": {},
   "source": [
    "## ONNX + jax + jax image processing"
   ]
  },
  {
   "cell_type": "code",
   "execution_count": 200,
   "metadata": {},
   "outputs": [],
   "source": [
    "duration_onnx_jax_img_preproc = [0] * n_iters"
   ]
  },
  {
   "cell_type": "code",
   "execution_count": 201,
   "metadata": {},
   "outputs": [
    {
     "name": "stderr",
     "output_type": "stream",
     "text": [
      "100%|██████████| 200/200 [00:44<00:00,  4.48it/s]"
     ]
    },
    {
     "name": "stdout",
     "output_type": "stream",
     "text": [
      "CPU times: total: 8min 27s\n",
      "Wall time: 44.6 s\n"
     ]
    },
    {
     "name": "stderr",
     "output_type": "stream",
     "text": [
      "\n"
     ]
    }
   ],
   "source": [
    "%%time\n",
    "for i in tqdm(range(n_iters)):\n",
    "    start = time.time()\n",
    "    sample_file = filenames[i]\n",
    "    img = Image.open(\n",
    "        sample_file\n",
    "    )\n",
    "    img_width, img_height = img.size\n",
    "    img_terminal = img.resize((640, 640)).convert(\"RGB\")\n",
    "    img_terminal = jnp.array(img_terminal)\n",
    "    img_terminal = convert_pil_tonumpy(img_terminal)\n",
    "    outputs = model_terminal_od_onnx_fixed.run(\n",
    "        [\"output0\"], {\"images\":np.array(img_terminal)}\n",
    "    )\n",
    "    output = outputs[0][0].transpose()\n",
    "    filtered_rows = output[\n",
    "        output[:, 4:].max(axis=1) > 0.5\n",
    "    ]\n",
    "    filtered_rows = filtered_rows[\n",
    "        filtered_rows[:, 4].argsort()\n",
    "    ]\n",
    "    boxes = get_boxes(filtered_rows, img_width, img_height)\n",
    "    result = []\n",
    "    while len(boxes)>0:\n",
    "        result.append(boxes[0])\n",
    "        boxes = [box for box in boxes if iou(box, boxes[0])<0.7]\n",
    "    end = time.time()\n",
    "    duration_onnx_jax_img_preproc[i] = end - start"
   ]
  },
  {
   "cell_type": "code",
   "execution_count": 202,
   "metadata": {},
   "outputs": [
    {
     "data": {
      "text/html": [
       "<div>\n",
       "<style scoped>\n",
       "    .dataframe tbody tr th:only-of-type {\n",
       "        vertical-align: middle;\n",
       "    }\n",
       "\n",
       "    .dataframe tbody tr th {\n",
       "        vertical-align: top;\n",
       "    }\n",
       "\n",
       "    .dataframe thead th {\n",
       "        text-align: right;\n",
       "    }\n",
       "</style>\n",
       "<table border=\"1\" class=\"dataframe\">\n",
       "  <thead>\n",
       "    <tr style=\"text-align: right;\">\n",
       "      <th></th>\n",
       "      <th>pt</th>\n",
       "      <th>onnx</th>\n",
       "      <th>onnx_impr</th>\n",
       "      <th>onnx_jax</th>\n",
       "      <th>onnx_jax_img_prepoc</th>\n",
       "    </tr>\n",
       "  </thead>\n",
       "  <tbody>\n",
       "    <tr>\n",
       "      <th>count</th>\n",
       "      <td>200.000000</td>\n",
       "      <td>200.000000</td>\n",
       "      <td>200.000000</td>\n",
       "      <td>200.000000</td>\n",
       "      <td>200.000000</td>\n",
       "    </tr>\n",
       "    <tr>\n",
       "      <th>mean</th>\n",
       "      <td>0.260425</td>\n",
       "      <td>0.225460</td>\n",
       "      <td>0.231182</td>\n",
       "      <td>0.238068</td>\n",
       "      <td>0.222130</td>\n",
       "    </tr>\n",
       "    <tr>\n",
       "      <th>std</th>\n",
       "      <td>0.020674</td>\n",
       "      <td>0.024065</td>\n",
       "      <td>0.027059</td>\n",
       "      <td>0.026977</td>\n",
       "      <td>0.023743</td>\n",
       "    </tr>\n",
       "    <tr>\n",
       "      <th>min</th>\n",
       "      <td>0.206111</td>\n",
       "      <td>0.168308</td>\n",
       "      <td>0.169050</td>\n",
       "      <td>0.173427</td>\n",
       "      <td>0.169524</td>\n",
       "    </tr>\n",
       "    <tr>\n",
       "      <th>25%</th>\n",
       "      <td>0.249782</td>\n",
       "      <td>0.206248</td>\n",
       "      <td>0.211434</td>\n",
       "      <td>0.216849</td>\n",
       "      <td>0.200513</td>\n",
       "    </tr>\n",
       "    <tr>\n",
       "      <th>50%</th>\n",
       "      <td>0.264422</td>\n",
       "      <td>0.228366</td>\n",
       "      <td>0.233389</td>\n",
       "      <td>0.235754</td>\n",
       "      <td>0.217443</td>\n",
       "    </tr>\n",
       "    <tr>\n",
       "      <th>75%</th>\n",
       "      <td>0.273562</td>\n",
       "      <td>0.242439</td>\n",
       "      <td>0.250211</td>\n",
       "      <td>0.257273</td>\n",
       "      <td>0.237611</td>\n",
       "    </tr>\n",
       "    <tr>\n",
       "      <th>max</th>\n",
       "      <td>0.315854</td>\n",
       "      <td>0.294009</td>\n",
       "      <td>0.300204</td>\n",
       "      <td>0.316618</td>\n",
       "      <td>0.290610</td>\n",
       "    </tr>\n",
       "  </tbody>\n",
       "</table>\n",
       "</div>"
      ],
      "text/plain": [
       "               pt        onnx   onnx_impr    onnx_jax  onnx_jax_img_prepoc\n",
       "count  200.000000  200.000000  200.000000  200.000000           200.000000\n",
       "mean     0.260425    0.225460    0.231182    0.238068             0.222130\n",
       "std      0.020674    0.024065    0.027059    0.026977             0.023743\n",
       "min      0.206111    0.168308    0.169050    0.173427             0.169524\n",
       "25%      0.249782    0.206248    0.211434    0.216849             0.200513\n",
       "50%      0.264422    0.228366    0.233389    0.235754             0.217443\n",
       "75%      0.273562    0.242439    0.250211    0.257273             0.237611\n",
       "max      0.315854    0.294009    0.300204    0.316618             0.290610"
      ]
     },
     "execution_count": 202,
     "metadata": {},
     "output_type": "execute_result"
    }
   ],
   "source": [
    "df_speed_comparison['onnx_jax_img_prepoc'] = duration_onnx_jax_img_preproc\n",
    "df_speed_comparison.describe()"
   ]
  },
  {
   "cell_type": "markdown",
   "metadata": {},
   "source": [
    "Jaxlib не ставится на сигму :("
   ]
  },
  {
   "cell_type": "markdown",
   "metadata": {},
   "source": [
    "## Numba"
   ]
  },
  {
   "cell_type": "code",
   "execution_count": 203,
   "metadata": {},
   "outputs": [],
   "source": [
    "numba = [0] * n_iters"
   ]
  },
  {
   "cell_type": "code",
   "execution_count": 204,
   "metadata": {},
   "outputs": [],
   "source": [
    "from numba import njit\n",
    "\n",
    "@njit\n",
    "def get_boxes(filtered_rows, img_width, img_height):\n",
    "    x1s = (filtered_rows[:, 0] - filtered_rows[:, 2]/2) / 640 * img_width\n",
    "    y1s = (filtered_rows[:, 1] - filtered_rows[:, 3]/2) / 640 * img_height\n",
    "    x2s = (filtered_rows[:, 0] + filtered_rows[:, 2]/2) / 640 * img_width\n",
    "    y2s = (filtered_rows[:, 1] + filtered_rows[:, 3]/2) / 640 * img_height\n",
    "    return x1s, y1s, x2s, y2s\n",
    "\n",
    "@njit\n",
    "def convert_pil_tonumpy(img):\n",
    "    return (img/255.0).astype(np.float32)"
   ]
  },
  {
   "cell_type": "code",
   "execution_count": 205,
   "metadata": {},
   "outputs": [
    {
     "name": "stderr",
     "output_type": "stream",
     "text": [
      "100%|██████████| 200/200 [00:47<00:00,  4.21it/s]"
     ]
    },
    {
     "name": "stdout",
     "output_type": "stream",
     "text": [
      "CPU times: total: 8min 53s\n",
      "Wall time: 47.5 s\n"
     ]
    },
    {
     "name": "stderr",
     "output_type": "stream",
     "text": [
      "\n"
     ]
    }
   ],
   "source": [
    "%%time\n",
    "for i in tqdm(range(n_iters)):\n",
    "    start = time.time()\n",
    "    sample_file = filenames[i]\n",
    "    img = Image.open(\n",
    "        sample_file\n",
    "    )\n",
    "    img_width, img_height = img.size\n",
    "    img_terminal = img.resize((640, 640)).convert(\"RGB\")\n",
    "    img_terminal = np.array(img_terminal).transpose(2, 0, 1).reshape(1, 3, 640, 640)\n",
    "    img_terminal = convert_pil_tonumpy(img_terminal)\n",
    "    outputs = model_terminal_od_onnx_fixed.run(\n",
    "        [\"output0\"], {\"images\": img_terminal}\n",
    "    )\n",
    "    output = outputs[0][0].transpose()\n",
    "    filtered_rows = output[\n",
    "        output[:, 4:].max(axis=1) > 0.5\n",
    "    ]\n",
    "    filtered_rows = filtered_rows[\n",
    "        filtered_rows[:, 4].argsort()\n",
    "    ]\n",
    "    x1s, y1s, x2s, y2s = get_boxes(filtered_rows, img_width, img_height)\n",
    "    boxes = np.array([x1s, y1s, x2s, y2s]).T\n",
    "    result = []\n",
    "    while len(boxes)>0:\n",
    "        result.append(boxes[0])\n",
    "        boxes = [box for box in boxes if iou(box, boxes[0])<0.7]\n",
    "    end = time.time()\n",
    "    numba[i] = end - start"
   ]
  },
  {
   "cell_type": "code",
   "execution_count": 206,
   "metadata": {},
   "outputs": [
    {
     "data": {
      "text/html": [
       "<div>\n",
       "<style scoped>\n",
       "    .dataframe tbody tr th:only-of-type {\n",
       "        vertical-align: middle;\n",
       "    }\n",
       "\n",
       "    .dataframe tbody tr th {\n",
       "        vertical-align: top;\n",
       "    }\n",
       "\n",
       "    .dataframe thead th {\n",
       "        text-align: right;\n",
       "    }\n",
       "</style>\n",
       "<table border=\"1\" class=\"dataframe\">\n",
       "  <thead>\n",
       "    <tr style=\"text-align: right;\">\n",
       "      <th></th>\n",
       "      <th>pt</th>\n",
       "      <th>onnx</th>\n",
       "      <th>onnx_impr</th>\n",
       "      <th>onnx_jax</th>\n",
       "      <th>onnx_jax_img_prepoc</th>\n",
       "      <th>numba</th>\n",
       "    </tr>\n",
       "  </thead>\n",
       "  <tbody>\n",
       "    <tr>\n",
       "      <th>count</th>\n",
       "      <td>200.000000</td>\n",
       "      <td>200.000000</td>\n",
       "      <td>200.000000</td>\n",
       "      <td>200.000000</td>\n",
       "      <td>200.000000</td>\n",
       "      <td>200.000000</td>\n",
       "    </tr>\n",
       "    <tr>\n",
       "      <th>mean</th>\n",
       "      <td>0.260425</td>\n",
       "      <td>0.225460</td>\n",
       "      <td>0.231182</td>\n",
       "      <td>0.238068</td>\n",
       "      <td>0.222130</td>\n",
       "      <td>0.235822</td>\n",
       "    </tr>\n",
       "    <tr>\n",
       "      <th>std</th>\n",
       "      <td>0.020674</td>\n",
       "      <td>0.024065</td>\n",
       "      <td>0.027059</td>\n",
       "      <td>0.026977</td>\n",
       "      <td>0.023743</td>\n",
       "      <td>0.038839</td>\n",
       "    </tr>\n",
       "    <tr>\n",
       "      <th>min</th>\n",
       "      <td>0.206111</td>\n",
       "      <td>0.168308</td>\n",
       "      <td>0.169050</td>\n",
       "      <td>0.173427</td>\n",
       "      <td>0.169524</td>\n",
       "      <td>0.166474</td>\n",
       "    </tr>\n",
       "    <tr>\n",
       "      <th>25%</th>\n",
       "      <td>0.249782</td>\n",
       "      <td>0.206248</td>\n",
       "      <td>0.211434</td>\n",
       "      <td>0.216849</td>\n",
       "      <td>0.200513</td>\n",
       "      <td>0.216788</td>\n",
       "    </tr>\n",
       "    <tr>\n",
       "      <th>50%</th>\n",
       "      <td>0.264422</td>\n",
       "      <td>0.228366</td>\n",
       "      <td>0.233389</td>\n",
       "      <td>0.235754</td>\n",
       "      <td>0.217443</td>\n",
       "      <td>0.233446</td>\n",
       "    </tr>\n",
       "    <tr>\n",
       "      <th>75%</th>\n",
       "      <td>0.273562</td>\n",
       "      <td>0.242439</td>\n",
       "      <td>0.250211</td>\n",
       "      <td>0.257273</td>\n",
       "      <td>0.237611</td>\n",
       "      <td>0.250046</td>\n",
       "    </tr>\n",
       "    <tr>\n",
       "      <th>max</th>\n",
       "      <td>0.315854</td>\n",
       "      <td>0.294009</td>\n",
       "      <td>0.300204</td>\n",
       "      <td>0.316618</td>\n",
       "      <td>0.290610</td>\n",
       "      <td>0.667930</td>\n",
       "    </tr>\n",
       "  </tbody>\n",
       "</table>\n",
       "</div>"
      ],
      "text/plain": [
       "               pt        onnx   onnx_impr    onnx_jax  onnx_jax_img_prepoc  \\\n",
       "count  200.000000  200.000000  200.000000  200.000000           200.000000   \n",
       "mean     0.260425    0.225460    0.231182    0.238068             0.222130   \n",
       "std      0.020674    0.024065    0.027059    0.026977             0.023743   \n",
       "min      0.206111    0.168308    0.169050    0.173427             0.169524   \n",
       "25%      0.249782    0.206248    0.211434    0.216849             0.200513   \n",
       "50%      0.264422    0.228366    0.233389    0.235754             0.217443   \n",
       "75%      0.273562    0.242439    0.250211    0.257273             0.237611   \n",
       "max      0.315854    0.294009    0.300204    0.316618             0.290610   \n",
       "\n",
       "            numba  \n",
       "count  200.000000  \n",
       "mean     0.235822  \n",
       "std      0.038839  \n",
       "min      0.166474  \n",
       "25%      0.216788  \n",
       "50%      0.233446  \n",
       "75%      0.250046  \n",
       "max      0.667930  "
      ]
     },
     "execution_count": 206,
     "metadata": {},
     "output_type": "execute_result"
    }
   ],
   "source": [
    "df_speed_comparison['numba'] = numba\n",
    "df_speed_comparison.describe()"
   ]
  },
  {
   "cell_type": "markdown",
   "metadata": {},
   "source": [
    "## Numba + Numba IOU"
   ]
  },
  {
   "cell_type": "code",
   "execution_count": 207,
   "metadata": {},
   "outputs": [],
   "source": [
    "numba_iou = [0] * n_iters"
   ]
  },
  {
   "cell_type": "code",
   "execution_count": 208,
   "metadata": {},
   "outputs": [],
   "source": [
    "@njit\n",
    "def get_metric(boxes):\n",
    "    box2_x1, box2_y1, box2_x2, box2_y2 = boxes[0]\n",
    "    box1_x1 = boxes[:, 0]\n",
    "    box1_y1 = boxes[:, 1]\n",
    "    box1_x2 = boxes[:, 2]\n",
    "    box1_y2 = boxes[:, 3]\n",
    "    x1 = np.maximum(box1_x1, box2_x1)\n",
    "    y1 = np.maximum(box1_y1, box2_y1)\n",
    "    x2 = np.minimum(box1_x2, box2_x2)\n",
    "    y2 = np.minimum(box1_y2, box2_y2)\n",
    "    intersec = (x2-x1)*(y2-y1)\n",
    "    box1_area = (box1_x2-box1_x1)*(box1_y2-box1_y1)\n",
    "    box2_area = (box2_x2-box2_x1)*(box2_y2-box2_y1)\n",
    "    uni = box1_area + box2_area - intersec\n",
    "    metric = intersec / uni\n",
    "    return metric"
   ]
  },
  {
   "cell_type": "code",
   "execution_count": 209,
   "metadata": {},
   "outputs": [
    {
     "name": "stderr",
     "output_type": "stream",
     "text": [
      "100%|██████████| 200/200 [00:47<00:00,  4.19it/s]"
     ]
    },
    {
     "name": "stdout",
     "output_type": "stream",
     "text": [
      "CPU times: total: 9min 1s\n",
      "Wall time: 47.7 s\n"
     ]
    },
    {
     "name": "stderr",
     "output_type": "stream",
     "text": [
      "\n"
     ]
    }
   ],
   "source": [
    "%%time\n",
    "for i in tqdm(range(n_iters)):\n",
    "    start = time.time()\n",
    "    sample_file = filenames[i]\n",
    "    img = Image.open(\n",
    "        sample_file\n",
    "    )\n",
    "    img_width, img_height = img.size\n",
    "    img_terminal = img.resize((640, 640)).convert(\"RGB\")\n",
    "    img_terminal = (np.array(img_terminal).transpose(2, 0, 1).reshape(1, 3, 640, 640)/255.0).astype(np.float32)\n",
    "    outputs = model_terminal_od_onnx_fixed.run(\n",
    "        [\"output0\"], {\"images\":img_terminal}\n",
    "    )\n",
    "    output = outputs[0][0].transpose()\n",
    "    filtered_rows = output[\n",
    "        output[:, 4:].max(axis=1) > 0.5\n",
    "    ]\n",
    "    filtered_rows = filtered_rows[\n",
    "        filtered_rows[:, 4].argsort()\n",
    "    ]\n",
    "    x1s = (filtered_rows[:, 0] - filtered_rows[:, 2]/2) / 640 * img_width\n",
    "    y1s = (filtered_rows[:, 1] - filtered_rows[:, 3]/2) / 640 * img_height\n",
    "    x2s = (filtered_rows[:, 0] + filtered_rows[:, 2]/2) / 640 * img_width\n",
    "    y2s = (filtered_rows[:, 1] + filtered_rows[:, 3]/2) / 640 * img_height\n",
    "    boxes = np.array([x1s, y1s, x2s, y2s]).T\n",
    "    result = []\n",
    "    while len(boxes)>0:\n",
    "        result.append(boxes[0])\n",
    "        metric = get_metric(boxes)\n",
    "        boxes = boxes[metric<0.7]\n",
    "    end = time.time()\n",
    "    numba_iou[i] = end - start"
   ]
  },
  {
   "cell_type": "code",
   "execution_count": 210,
   "metadata": {},
   "outputs": [
    {
     "data": {
      "text/html": [
       "<div>\n",
       "<style scoped>\n",
       "    .dataframe tbody tr th:only-of-type {\n",
       "        vertical-align: middle;\n",
       "    }\n",
       "\n",
       "    .dataframe tbody tr th {\n",
       "        vertical-align: top;\n",
       "    }\n",
       "\n",
       "    .dataframe thead th {\n",
       "        text-align: right;\n",
       "    }\n",
       "</style>\n",
       "<table border=\"1\" class=\"dataframe\">\n",
       "  <thead>\n",
       "    <tr style=\"text-align: right;\">\n",
       "      <th></th>\n",
       "      <th>pt</th>\n",
       "      <th>onnx</th>\n",
       "      <th>onnx_impr</th>\n",
       "      <th>onnx_jax</th>\n",
       "      <th>onnx_jax_img_prepoc</th>\n",
       "      <th>numba</th>\n",
       "      <th>numba_iou</th>\n",
       "    </tr>\n",
       "  </thead>\n",
       "  <tbody>\n",
       "    <tr>\n",
       "      <th>count</th>\n",
       "      <td>200.000000</td>\n",
       "      <td>200.000000</td>\n",
       "      <td>200.000000</td>\n",
       "      <td>200.000000</td>\n",
       "      <td>200.000000</td>\n",
       "      <td>200.000000</td>\n",
       "      <td>200.000000</td>\n",
       "    </tr>\n",
       "    <tr>\n",
       "      <th>mean</th>\n",
       "      <td>0.260425</td>\n",
       "      <td>0.225460</td>\n",
       "      <td>0.231182</td>\n",
       "      <td>0.238068</td>\n",
       "      <td>0.222130</td>\n",
       "      <td>0.235822</td>\n",
       "      <td>0.237853</td>\n",
       "    </tr>\n",
       "    <tr>\n",
       "      <th>std</th>\n",
       "      <td>0.020674</td>\n",
       "      <td>0.024065</td>\n",
       "      <td>0.027059</td>\n",
       "      <td>0.026977</td>\n",
       "      <td>0.023743</td>\n",
       "      <td>0.038839</td>\n",
       "      <td>0.049245</td>\n",
       "    </tr>\n",
       "    <tr>\n",
       "      <th>min</th>\n",
       "      <td>0.206111</td>\n",
       "      <td>0.168308</td>\n",
       "      <td>0.169050</td>\n",
       "      <td>0.173427</td>\n",
       "      <td>0.169524</td>\n",
       "      <td>0.166474</td>\n",
       "      <td>0.166616</td>\n",
       "    </tr>\n",
       "    <tr>\n",
       "      <th>25%</th>\n",
       "      <td>0.249782</td>\n",
       "      <td>0.206248</td>\n",
       "      <td>0.211434</td>\n",
       "      <td>0.216849</td>\n",
       "      <td>0.200513</td>\n",
       "      <td>0.216788</td>\n",
       "      <td>0.213131</td>\n",
       "    </tr>\n",
       "    <tr>\n",
       "      <th>50%</th>\n",
       "      <td>0.264422</td>\n",
       "      <td>0.228366</td>\n",
       "      <td>0.233389</td>\n",
       "      <td>0.235754</td>\n",
       "      <td>0.217443</td>\n",
       "      <td>0.233446</td>\n",
       "      <td>0.235530</td>\n",
       "    </tr>\n",
       "    <tr>\n",
       "      <th>75%</th>\n",
       "      <td>0.273562</td>\n",
       "      <td>0.242439</td>\n",
       "      <td>0.250211</td>\n",
       "      <td>0.257273</td>\n",
       "      <td>0.237611</td>\n",
       "      <td>0.250046</td>\n",
       "      <td>0.254107</td>\n",
       "    </tr>\n",
       "    <tr>\n",
       "      <th>max</th>\n",
       "      <td>0.315854</td>\n",
       "      <td>0.294009</td>\n",
       "      <td>0.300204</td>\n",
       "      <td>0.316618</td>\n",
       "      <td>0.290610</td>\n",
       "      <td>0.667930</td>\n",
       "      <td>0.659166</td>\n",
       "    </tr>\n",
       "  </tbody>\n",
       "</table>\n",
       "</div>"
      ],
      "text/plain": [
       "               pt        onnx   onnx_impr    onnx_jax  onnx_jax_img_prepoc  \\\n",
       "count  200.000000  200.000000  200.000000  200.000000           200.000000   \n",
       "mean     0.260425    0.225460    0.231182    0.238068             0.222130   \n",
       "std      0.020674    0.024065    0.027059    0.026977             0.023743   \n",
       "min      0.206111    0.168308    0.169050    0.173427             0.169524   \n",
       "25%      0.249782    0.206248    0.211434    0.216849             0.200513   \n",
       "50%      0.264422    0.228366    0.233389    0.235754             0.217443   \n",
       "75%      0.273562    0.242439    0.250211    0.257273             0.237611   \n",
       "max      0.315854    0.294009    0.300204    0.316618             0.290610   \n",
       "\n",
       "            numba   numba_iou  \n",
       "count  200.000000  200.000000  \n",
       "mean     0.235822    0.237853  \n",
       "std      0.038839    0.049245  \n",
       "min      0.166474    0.166616  \n",
       "25%      0.216788    0.213131  \n",
       "50%      0.233446    0.235530  \n",
       "75%      0.250046    0.254107  \n",
       "max      0.667930    0.659166  "
      ]
     },
     "execution_count": 210,
     "metadata": {},
     "output_type": "execute_result"
    }
   ],
   "source": [
    "df_speed_comparison['numba_iou'] = numba_iou\n",
    "df_speed_comparison.describe()"
   ]
  },
  {
   "cell_type": "markdown",
   "metadata": {},
   "source": [
    "Стало хуже, лучшее время показывает вариант Numba"
   ]
  },
  {
   "cell_type": "markdown",
   "metadata": {},
   "source": [
    "Добавим обработку картинки через Numba"
   ]
  },
  {
   "cell_type": "code",
   "execution_count": 213,
   "metadata": {},
   "outputs": [],
   "source": [
    "# from PIL import ImageDraw\n",
    "\n",
    "# img = Image.open(sample_file)\n",
    "# draw = ImageDraw.Draw(img)\n",
    "\n",
    "# for box in result:\n",
    "#     x1,y1,x2,y2 = box\n",
    "#     draw.rectangle((x1,y1,x2,y2),None,\"#00ff00\")\n",
    "# img"
   ]
  }
 ],
 "metadata": {
  "kernelspec": {
   "display_name": "Python 3",
   "language": "python",
   "name": "python3"
  },
  "language_info": {
   "codemirror_mode": {
    "name": "ipython",
    "version": 3
   },
   "file_extension": ".py",
   "mimetype": "text/x-python",
   "name": "python",
   "nbconvert_exporter": "python",
   "pygments_lexer": "ipython3",
   "version": "3.10.11"
  }
 },
 "nbformat": 4,
 "nbformat_minor": 2
}
