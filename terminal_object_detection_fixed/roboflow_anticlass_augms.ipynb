{
 "cells": [
  {
   "cell_type": "markdown",
   "metadata": {},
   "source": [
    "Обработка аугментаций из RoboFlow и формирование аугментаций с антиклассами"
   ]
  },
  {
   "cell_type": "code",
   "execution_count": 33,
   "metadata": {},
   "outputs": [],
   "source": [
    "import pandas as pd\n",
    "from pathlib import Path\n",
    "import os\n",
    "import cv2\n",
    "import numpy as np\n",
    "import albumentations as A\n",
    "from PIL import Image, ImageFile\n",
    "from tqdm import tqdm"
   ]
  },
  {
   "cell_type": "code",
   "execution_count": 13,
   "metadata": {},
   "outputs": [],
   "source": [
    "ImageFile.LOAD_TRUNCATED_IMAGES = True"
   ]
  },
  {
   "cell_type": "markdown",
   "metadata": {},
   "source": [
    "# Обработка аугментаций с новыми терминалами"
   ]
  },
  {
   "cell_type": "markdown",
   "metadata": {},
   "source": [
    "Замена id 0 на 2"
   ]
  },
  {
   "cell_type": "code",
   "execution_count": 2,
   "metadata": {},
   "outputs": [],
   "source": [
    "path_yolo_annot = Path(r'..\\data\\terminal_object_detection_data\\yolo_annot\\new_terminals_augm')"
   ]
  },
  {
   "cell_type": "code",
   "execution_count": 5,
   "metadata": {},
   "outputs": [],
   "source": [
    "def replace_ids_with_2(file_path):\n",
    "    with open(file_path, 'r') as file:\n",
    "        lines = file.readlines()\n",
    "\n",
    "    new_lines = []\n",
    "    for line in lines:\n",
    "        data = line.split()\n",
    "        if len(data) > 0:\n",
    "            # Replace the id (class label) with \"2\"\n",
    "            data[0] = \"2\"\n",
    "            new_line = ' '.join(data)\n",
    "            new_lines.append(new_line)\n",
    "\n",
    "    with open(file_path, 'w') as file:\n",
    "        file.writelines(new_lines)"
   ]
  },
  {
   "cell_type": "code",
   "execution_count": 6,
   "metadata": {},
   "outputs": [],
   "source": [
    "for filename in os.listdir(path_yolo_annot):\n",
    "    labelname = path_yolo_annot / filename\n",
    "    replace_ids_with_2(labelname)"
   ]
  },
  {
   "cell_type": "markdown",
   "metadata": {},
   "source": [
    "# Формирование аугментаций с антиклассами"
   ]
  },
  {
   "cell_type": "code",
   "execution_count": 8,
   "metadata": {},
   "outputs": [],
   "source": [
    "path_photos = Path(r'..\\data\\terminal_object_detection_data\\photos')"
   ]
  },
  {
   "cell_type": "code",
   "execution_count": 9,
   "metadata": {},
   "outputs": [
    {
     "data": {
      "text/plain": [
       "['new_terminals',\n",
       " 'new_terminals_augm',\n",
       " 'other',\n",
       " 'pc_screens',\n",
       " 'rack_new_terminal',\n",
       " 'receipts',\n",
       " 'stickers',\n",
       " 'terminals',\n",
       " 'terminals_augm',\n",
       " 'terminals_receipt',\n",
       " 'terminals_side_view',\n",
       " 'wrong_photos_of_terminals']"
      ]
     },
     "execution_count": 9,
     "metadata": {},
     "output_type": "execute_result"
    }
   ],
   "source": [
    "os.listdir(path_photos)"
   ]
  },
  {
   "cell_type": "code",
   "execution_count": 10,
   "metadata": {},
   "outputs": [],
   "source": [
    "anticlass_folders = [\n",
    "    'other',\n",
    "    'pc_screens',\n",
    "    'rack_new_terminal',\n",
    "    'receipts',\n",
    "    'stickers',\n",
    "    'terminals_side_view'\n",
    "]"
   ]
  },
  {
   "cell_type": "code",
   "execution_count": 35,
   "metadata": {},
   "outputs": [],
   "source": [
    "trans_contrast = A.RandomBrightnessContrast(\n",
    "        always_apply=True,\n",
    "        contrast_limit=(-.6, -.6),\n",
    "        p=1\n",
    "    )\n",
    "trans_spat = A.Spatter(\n",
    "        always_apply=True, mean=-0.79,\n",
    "        std=13.16, p=1\n",
    "    )\n",
    "\n",
    "trans_clache = A.CLAHE(\n",
    "        always_apply=True,\n",
    "        p=1\n",
    "    )\n",
    "\n",
    "trans_emboss = A.Emboss(\n",
    "    always_apply=True,\n",
    "    p=1\n",
    ")\n",
    "\n",
    "trans_sharp = A.Sharpen(\n",
    "    always_apply=True,\n",
    "    p=1\n",
    ")\n",
    "\n",
    "trans_gauss_noise = A.GaussNoise(\n",
    "    always_apply=True,\n",
    "    p=1\n",
    ")\n",
    "\n",
    "trans_hue_sat = A.HueSaturationValue(\n",
    "    always_apply=True,\n",
    "    hue_shift_limit=(-20, 20),\n",
    "    sat_shift_limit=(-30, 30),\n",
    "    val_shift_limit=(-20, 20),\n",
    "    p=1\n",
    ")\n",
    "\n",
    "trans_color_jitter = A.ColorJitter(\n",
    "    always_apply=True,\n",
    "    brightness=0.2,\n",
    "    contrast=0.2,\n",
    "    saturation=0.2,\n",
    "    hue=0.2,\n",
    "    p=1\n",
    ")\n",
    "\n",
    "trans_random_crop = A.RandomCrop(\n",
    "    always_apply=True,\n",
    "    height=640,\n",
    "    width=640,\n",
    "    p=1\n",
    ")"
   ]
  },
  {
   "cell_type": "code",
   "execution_count": 41,
   "metadata": {},
   "outputs": [
    {
     "name": "stderr",
     "output_type": "stream",
     "text": [
      " file: 100%|██████████| 397/397 [04:44<00:00,  1.40it/s]\n",
      " file: 100%|██████████| 599/599 [05:29<00:00,  1.82it/s]\n",
      " file: 100%|██████████| 96/96 [01:05<00:00,  1.48it/s]\n",
      " file: 100%|██████████| 3604/3604 [32:31<00:00,  1.85it/s]\n",
      " file: 100%|██████████| 190/190 [01:38<00:00,  1.92it/s]\n",
      " file: 100%|██████████| 428/428 [04:00<00:00,  1.78it/s]\n"
     ]
    }
   ],
   "source": [
    "for anticlass_folder in anticlass_folders:\n",
    "    augm_folder = anticlass_folder + '_augm'\n",
    "    image_folder_augm = path_photos /  augm_folder\n",
    "    label_folder_augm = Path(image_folder_augm.__str__().replace('photos', 'yolo_annot'))\n",
    "    if not os.path.exists(image_folder_augm):\n",
    "        os.makedirs(image_folder_augm)\n",
    "    if not os.path.exists(label_folder_augm):\n",
    "        os.makedirs(label_folder_augm)\n",
    "    for image_filename in tqdm(os.listdir(path_photos / anticlass_folder), desc=\" file\"):\n",
    "        full_path_image =  path_photos / anticlass_folder / image_filename\n",
    "        short_filename = full_path_image.__str__().split('\\\\')[-1].split('.')[0]\n",
    "        \n",
    "        image = np.array(Image.open(full_path_image))\n",
    "\n",
    "        image_contr = trans_contrast(image=image)['image']\n",
    "        # image_contr = trans_random_crop(image=image_contr)['image']\n",
    "        im = Image.fromarray(image_contr)\n",
    "        im.save(image_folder_augm / (short_filename + '_contr.jpeg'))\n",
    "        open(label_folder_augm / (short_filename + '_contr.txt'), 'w').close()\n",
    "\n",
    "        image_spat = trans_spat(image=image)['image']\n",
    "        # image_spat = trans_random_crop(image=image_spat)['image']\n",
    "        im = Image.fromarray(image_spat)\n",
    "        im.save(image_folder_augm / (short_filename + '_spat.jpeg'))\n",
    "        open(label_folder_augm / (short_filename + '_spat.txt'), 'w').close()\n",
    "\n",
    "        image_clache = trans_clache(image=image)['image']\n",
    "        # image_clache = trans_random_crop(image=image_clache)['image']\n",
    "        im = Image.fromarray(image_clache)\n",
    "        im.save(image_folder_augm / (short_filename + '_clache.jpeg'))\n",
    "        open(label_folder_augm / (short_filename + '_clache.txt'), 'w').close()        \n",
    "\n",
    "        image_emboss = trans_emboss(image=image)['image']\n",
    "        # image_emboss = trans_random_crop(image=image_emboss)['image']\n",
    "        im = Image.fromarray(image_emboss)\n",
    "        im.save(image_folder_augm / (short_filename + '_emboss.jpeg'))\n",
    "        open(label_folder_augm / (short_filename + '_emboss.txt'), 'w').close() \n",
    "\n",
    "        image_sharp = trans_sharp(image=image)['image']\n",
    "        # image_sharp = trans_random_crop(image=image_sharp)['image']\n",
    "        im = Image.fromarray(image_sharp)\n",
    "        im.save(image_folder_augm / (short_filename + '_sharp.jpeg'))\n",
    "        open(label_folder_augm / (short_filename + '_sharp.txt'), 'w').close() \n",
    "\n",
    "        image_gauss_noise = trans_gauss_noise(image=image)['image']\n",
    "        # image_gauss_noise = trans_random_crop(image=image_gauss_noise)['image']\n",
    "        im = Image.fromarray(image_gauss_noise)\n",
    "        im.save(image_folder_augm / (short_filename + '_gauss_noise.jpeg'))\n",
    "        open(label_folder_augm / (short_filename + '_gauss_noise.txt'), 'w').close() \n",
    "\n",
    "        image_hue_sat = trans_hue_sat(image=image)['image']\n",
    "        # image_hue_sat = trans_random_crop(image=image_hue_sat)['image']\n",
    "        im = Image.fromarray(image_hue_sat)\n",
    "        im.save(image_folder_augm / (short_filename + '_hue_sat.jpeg'))\n",
    "        open(label_folder_augm / (short_filename + '_hue_sat.txt'), 'w').close()\n",
    "\n",
    "        image_color_jitter = trans_color_jitter(image=image)['image']\n",
    "        # image_color_jitter = trans_random_crop(image=image_color_jitter)['image']\n",
    "        im = Image.fromarray(image_color_jitter)\n",
    "        im.save(image_folder_augm / (short_filename + '_color_jitter.jpeg'))\n",
    "        open(label_folder_augm / (short_filename + '_color_jitter.txt'), 'w').close()\n",
    "        "
   ]
  }
 ],
 "metadata": {
  "kernelspec": {
   "display_name": "Python 3",
   "language": "python",
   "name": "python3"
  },
  "language_info": {
   "codemirror_mode": {
    "name": "ipython",
    "version": 3
   },
   "file_extension": ".py",
   "mimetype": "text/x-python",
   "name": "python",
   "nbconvert_exporter": "python",
   "pygments_lexer": "ipython3",
   "version": "3.10.11"
  }
 },
 "nbformat": 4,
 "nbformat_minor": 2
}
