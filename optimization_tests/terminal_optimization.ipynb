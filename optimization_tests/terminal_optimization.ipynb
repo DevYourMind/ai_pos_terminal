{
 "cells": [
  {
   "cell_type": "markdown",
   "metadata": {},
   "source": [
    "# Загрузка библиотек"
   ]
  },
  {
   "cell_type": "code",
   "execution_count": 1,
   "metadata": {},
   "outputs": [],
   "source": [
    "import torch\n",
    "import numpy as np\n",
    "from ultralytics import YOLO\n",
    "import os\n",
    "import time\n",
    "from PIL import Image\n",
    "import onnxruntime as onnx\n",
    "from pathlib import Path\n",
    "from IPython.display import clear_output\n",
    "from tqdm import tqdm\n",
    "import onnxruntime as ort\n",
    "import pandas as pd"
   ]
  },
  {
   "cell_type": "markdown",
   "metadata": {},
   "source": [
    "# Загрузка моделей и данных"
   ]
  },
  {
   "cell_type": "code",
   "execution_count": 2,
   "metadata": {},
   "outputs": [],
   "source": [
    "path_models = Path('models')\n",
    "\n",
    "model_terminal_od_pt = YOLO(path_models / 'model_terminal_od.pt')\n",
    "model_defect_od_pt = YOLO(path_models / 'model_defect_od_crop.pt')"
   ]
  },
  {
   "cell_type": "code",
   "execution_count": 3,
   "metadata": {},
   "outputs": [],
   "source": [
    "model_defect_od_onnx_fixed = ort.InferenceSession(\n",
    "    path_models / 'model_defect_od_crop.onnx', \n",
    "    providers=['CPUExecutionProvider']\n",
    ")\n",
    "model_terminal_od_onnx_fixed = ort.InferenceSession(\n",
    "    path_models / 'model_terminal_od.onnx', \n",
    "    providers=['CPUExecutionProvider']\n",
    ")"
   ]
  },
  {
   "cell_type": "code",
   "execution_count": 4,
   "metadata": {},
   "outputs": [
    {
     "name": "stdout",
     "output_type": "stream",
     "text": [
      "Количество семплов: 273\n"
     ]
    }
   ],
   "source": [
    "path_filenames = Path('samples')\n",
    "filenames = [path_filenames / x for x in os.listdir(path_filenames)]\n",
    "print(f'Количество семплов: {len(filenames)}')"
   ]
  },
  {
   "cell_type": "code",
   "execution_count": 5,
   "metadata": {},
   "outputs": [
    {
     "name": "stderr",
     "output_type": "stream",
     "text": [
      "Loading models\\model_terminal_od.onnx for ONNX Runtime inference...\n",
      "Loading models\\model_defect_od_crop.onnx for ONNX Runtime inference...\n"
     ]
    }
   ],
   "source": [
    "# models heat-up\n",
    "temp = model_terminal_od_pt(filenames[0], imgsz=640, verbose=False)\n",
    "temp = model_defect_od_pt(filenames[0], imgsz=1280, verbose=False)\n",
    "del temp"
   ]
  },
  {
   "cell_type": "markdown",
   "metadata": {},
   "source": [
    "# Options comparison"
   ]
  },
  {
   "cell_type": "code",
   "execution_count": 6,
   "metadata": {},
   "outputs": [],
   "source": [
    "n_iters = 200\n",
    "df_speed_comparison = pd.DataFrame()"
   ]
  },
  {
   "cell_type": "markdown",
   "metadata": {},
   "source": [
    "## Pytorch model inference"
   ]
  },
  {
   "cell_type": "code",
   "execution_count": 7,
   "metadata": {},
   "outputs": [],
   "source": [
    "duration_pt = [0] * n_iters"
   ]
  },
  {
   "cell_type": "code",
   "execution_count": 8,
   "metadata": {},
   "outputs": [
    {
     "name": "stderr",
     "output_type": "stream",
     "text": [
      "100%|██████████| 200/200 [00:55<00:00,  3.64it/s]"
     ]
    },
    {
     "name": "stdout",
     "output_type": "stream",
     "text": [
      "CPU times: total: 18.2 s\n",
      "Wall time: 55 s\n"
     ]
    },
    {
     "name": "stderr",
     "output_type": "stream",
     "text": [
      "\n"
     ]
    }
   ],
   "source": [
    "%%time\n",
    "for i in tqdm(range(n_iters)):\n",
    "    start = time.time()\n",
    "    sample_file = filenames[i]\n",
    "    model_terminal_od_pt(sample_file, imgsz=640, verbose=False)\n",
    "    end = time.time()\n",
    "    duration_pt[i] = end - start"
   ]
  },
  {
   "cell_type": "code",
   "execution_count": 9,
   "metadata": {},
   "outputs": [
    {
     "data": {
      "text/html": [
       "<div>\n",
       "<style scoped>\n",
       "    .dataframe tbody tr th:only-of-type {\n",
       "        vertical-align: middle;\n",
       "    }\n",
       "\n",
       "    .dataframe tbody tr th {\n",
       "        vertical-align: top;\n",
       "    }\n",
       "\n",
       "    .dataframe thead th {\n",
       "        text-align: right;\n",
       "    }\n",
       "</style>\n",
       "<table border=\"1\" class=\"dataframe\">\n",
       "  <thead>\n",
       "    <tr style=\"text-align: right;\">\n",
       "      <th></th>\n",
       "      <th>pt</th>\n",
       "    </tr>\n",
       "  </thead>\n",
       "  <tbody>\n",
       "    <tr>\n",
       "      <th>count</th>\n",
       "      <td>200.000000</td>\n",
       "    </tr>\n",
       "    <tr>\n",
       "      <th>mean</th>\n",
       "      <td>0.274277</td>\n",
       "    </tr>\n",
       "    <tr>\n",
       "      <th>std</th>\n",
       "      <td>0.020276</td>\n",
       "    </tr>\n",
       "    <tr>\n",
       "      <th>min</th>\n",
       "      <td>0.231703</td>\n",
       "    </tr>\n",
       "    <tr>\n",
       "      <th>25%</th>\n",
       "      <td>0.264719</td>\n",
       "    </tr>\n",
       "    <tr>\n",
       "      <th>50%</th>\n",
       "      <td>0.273902</td>\n",
       "    </tr>\n",
       "    <tr>\n",
       "      <th>75%</th>\n",
       "      <td>0.285637</td>\n",
       "    </tr>\n",
       "    <tr>\n",
       "      <th>max</th>\n",
       "      <td>0.333182</td>\n",
       "    </tr>\n",
       "  </tbody>\n",
       "</table>\n",
       "</div>"
      ],
      "text/plain": [
       "               pt\n",
       "count  200.000000\n",
       "mean     0.274277\n",
       "std      0.020276\n",
       "min      0.231703\n",
       "25%      0.264719\n",
       "50%      0.273902\n",
       "75%      0.285637\n",
       "max      0.333182"
      ]
     },
     "execution_count": 9,
     "metadata": {},
     "output_type": "execute_result"
    }
   ],
   "source": [
    "df_speed_comparison['pt'] = duration_pt\n",
    "df_speed_comparison.describe()"
   ]
  },
  {
   "cell_type": "markdown",
   "metadata": {},
   "source": [
    "## ONNX model inference"
   ]
  },
  {
   "cell_type": "code",
   "execution_count": 11,
   "metadata": {},
   "outputs": [],
   "source": [
    "def iou(box1,box2):\n",
    "    return intersection(box1,box2)/union(box1,box2)\n",
    "\n",
    "def union(box1,box2):\n",
    "    box1_x1,box1_y1,box1_x2,box1_y2 = box1[:4]\n",
    "    box2_x1,box2_y1,box2_x2,box2_y2 = box2[:4]\n",
    "    box1_area = (box1_x2-box1_x1)*(box1_y2-box1_y1)\n",
    "    box2_area = (box2_x2-box2_x1)*(box2_y2-box2_y1)\n",
    "    return box1_area + box2_area - intersection(box1,box2)\n",
    "\n",
    "def intersection(box1,box2):\n",
    "    box1_x1,box1_y1,box1_x2,box1_y2 = box1[:4]\n",
    "    box2_x1,box2_y1,box2_x2,box2_y2 = box2[:4]\n",
    "    x1 = max(box1_x1,box2_x1)\n",
    "    y1 = max(box1_y1,box2_y1)\n",
    "    x2 = min(box1_x2,box2_x2)\n",
    "    y2 = min(box1_y2,box2_y2)\n",
    "    return (x2-x1)*(y2-y1)"
   ]
  },
  {
   "cell_type": "code",
   "execution_count": 13,
   "metadata": {},
   "outputs": [],
   "source": [
    "duration_onnx = [0] * n_iters"
   ]
  },
  {
   "cell_type": "code",
   "execution_count": 14,
   "metadata": {},
   "outputs": [
    {
     "name": "stderr",
     "output_type": "stream",
     "text": [
      "100%|██████████| 200/200 [00:47<00:00,  4.21it/s]"
     ]
    },
    {
     "name": "stdout",
     "output_type": "stream",
     "text": [
      "CPU times: total: 9min 24s\n",
      "Wall time: 47.5 s\n"
     ]
    },
    {
     "name": "stderr",
     "output_type": "stream",
     "text": [
      "\n"
     ]
    }
   ],
   "source": [
    "%%time\n",
    "for i in tqdm(range(n_iters)):\n",
    "    start = time.time()\n",
    "    sample_file = filenames[i]\n",
    "    img = Image.open(\n",
    "        sample_file\n",
    "    )\n",
    "    img_width, img_height = img.size\n",
    "    img_terminal = img.resize((640, 640)).convert(\"RGB\")\n",
    "    img_terminal = (np.array(img_terminal).transpose(2, 0, 1).reshape(1, 3, 640, 640)/255.0).astype(np.float32)\n",
    "\n",
    "    outputs = model_terminal_od_onnx_fixed.run(\n",
    "        [\"output0\"], {\"images\":img_terminal}\n",
    "    )\n",
    "    output = outputs[0][0].transpose()\n",
    "    filtered_rows = output[\n",
    "        output[:, 4:].max(axis=1) > 0.5\n",
    "    ]\n",
    "    filtered_rows = filtered_rows[\n",
    "        filtered_rows[:, 4].argsort()\n",
    "    ]\n",
    "    x1s = (filtered_rows[:, 0] - filtered_rows[:, 2]/2) / 640 * img_width\n",
    "    y1s = (filtered_rows[:, 1] - filtered_rows[:, 3]/2) / 640 * img_height\n",
    "    x2s = (filtered_rows[:, 0] + filtered_rows[:, 2]/2) / 640 * img_width\n",
    "    y2s = (filtered_rows[:, 1] + filtered_rows[:, 3]/2) / 640 * img_height\n",
    "    boxes = np.array([x1s, y1s, x2s, y2s]).T\n",
    "    result = []\n",
    "    while len(boxes)>0:\n",
    "        result.append(boxes[0])\n",
    "        boxes = [box for box in boxes if iou(box, boxes[0])<0.7]\n",
    "    end = time.time()\n",
    "    duration_onnx[i] = end - start"
   ]
  },
  {
   "cell_type": "code",
   "execution_count": 15,
   "metadata": {},
   "outputs": [
    {
     "data": {
      "text/html": [
       "<div>\n",
       "<style scoped>\n",
       "    .dataframe tbody tr th:only-of-type {\n",
       "        vertical-align: middle;\n",
       "    }\n",
       "\n",
       "    .dataframe tbody tr th {\n",
       "        vertical-align: top;\n",
       "    }\n",
       "\n",
       "    .dataframe thead th {\n",
       "        text-align: right;\n",
       "    }\n",
       "</style>\n",
       "<table border=\"1\" class=\"dataframe\">\n",
       "  <thead>\n",
       "    <tr style=\"text-align: right;\">\n",
       "      <th></th>\n",
       "      <th>pt</th>\n",
       "      <th>onnx</th>\n",
       "    </tr>\n",
       "  </thead>\n",
       "  <tbody>\n",
       "    <tr>\n",
       "      <th>count</th>\n",
       "      <td>200.000000</td>\n",
       "      <td>200.000000</td>\n",
       "    </tr>\n",
       "    <tr>\n",
       "      <th>mean</th>\n",
       "      <td>0.274277</td>\n",
       "      <td>0.236410</td>\n",
       "    </tr>\n",
       "    <tr>\n",
       "      <th>std</th>\n",
       "      <td>0.020276</td>\n",
       "      <td>0.027227</td>\n",
       "    </tr>\n",
       "    <tr>\n",
       "      <th>min</th>\n",
       "      <td>0.231703</td>\n",
       "      <td>0.166630</td>\n",
       "    </tr>\n",
       "    <tr>\n",
       "      <th>25%</th>\n",
       "      <td>0.264719</td>\n",
       "      <td>0.216892</td>\n",
       "    </tr>\n",
       "    <tr>\n",
       "      <th>50%</th>\n",
       "      <td>0.273902</td>\n",
       "      <td>0.236424</td>\n",
       "    </tr>\n",
       "    <tr>\n",
       "      <th>75%</th>\n",
       "      <td>0.285637</td>\n",
       "      <td>0.250223</td>\n",
       "    </tr>\n",
       "    <tr>\n",
       "      <th>max</th>\n",
       "      <td>0.333182</td>\n",
       "      <td>0.452277</td>\n",
       "    </tr>\n",
       "  </tbody>\n",
       "</table>\n",
       "</div>"
      ],
      "text/plain": [
       "               pt        onnx\n",
       "count  200.000000  200.000000\n",
       "mean     0.274277    0.236410\n",
       "std      0.020276    0.027227\n",
       "min      0.231703    0.166630\n",
       "25%      0.264719    0.216892\n",
       "50%      0.273902    0.236424\n",
       "75%      0.285637    0.250223\n",
       "max      0.333182    0.452277"
      ]
     },
     "execution_count": 15,
     "metadata": {},
     "output_type": "execute_result"
    }
   ],
   "source": [
    "df_speed_comparison['onnx'] = duration_onnx\n",
    "df_speed_comparison.describe()"
   ]
  },
  {
   "cell_type": "markdown",
   "metadata": {},
   "source": [
    "## ONNX + numpy (impr, boxes)"
   ]
  },
  {
   "cell_type": "code",
   "execution_count": 16,
   "metadata": {},
   "outputs": [],
   "source": [
    "duration_onnx_impr = [0] * n_iters"
   ]
  },
  {
   "cell_type": "code",
   "execution_count": 17,
   "metadata": {},
   "outputs": [
    {
     "name": "stderr",
     "output_type": "stream",
     "text": [
      "100%|██████████| 200/200 [00:48<00:00,  4.13it/s]"
     ]
    },
    {
     "name": "stdout",
     "output_type": "stream",
     "text": [
      "CPU times: total: 9min 23s\n",
      "Wall time: 48.4 s\n"
     ]
    },
    {
     "name": "stderr",
     "output_type": "stream",
     "text": [
      "\n"
     ]
    }
   ],
   "source": [
    "%%time\n",
    "for i in tqdm(range(n_iters)):\n",
    "    start = time.time()\n",
    "    sample_file = filenames[i]\n",
    "    img = Image.open(\n",
    "        sample_file\n",
    "    )\n",
    "    img_width, img_height = img.size\n",
    "    img_terminal = img.resize((640, 640)).convert(\"RGB\")\n",
    "    img_terminal = (np.array(img_terminal).transpose(2, 0, 1).reshape(1, 3, 640, 640)/255.0).astype(np.float32)\n",
    "    outputs = model_terminal_od_onnx_fixed.run(\n",
    "        [\"output0\"], {\"images\":img_terminal}\n",
    "    )\n",
    "    output = outputs[0][0].transpose()\n",
    "    filtered_rows = output[\n",
    "        output[:, 4:].max(axis=1) > 0.5\n",
    "    ]\n",
    "    filtered_rows = filtered_rows[\n",
    "        filtered_rows[:, 4].argsort()\n",
    "    ]\n",
    "    x1s = (filtered_rows[:, 0] - filtered_rows[:, 2]/2) / 640 * img_width\n",
    "    y1s = (filtered_rows[:, 1] - filtered_rows[:, 3]/2) / 640 * img_height\n",
    "    x2s = (filtered_rows[:, 0] + filtered_rows[:, 2]/2) / 640 * img_width\n",
    "    y2s = (filtered_rows[:, 1] + filtered_rows[:, 3]/2) / 640 * img_height\n",
    "    boxes = np.array([x1s, y1s, x2s, y2s]).T\n",
    "    \n",
    "    result = []\n",
    "    while len(boxes)>0:\n",
    "        result.append(boxes[0])\n",
    "        box2_x1, box2_y1, box2_x2, box2_y2 = boxes[0]\n",
    "        box1_x1 = boxes[:, 0]\n",
    "        box1_y1 = boxes[:, 1]\n",
    "        box1_x2 = boxes[:, 2]\n",
    "        box1_y2 = boxes[:, 3]\n",
    "        x1 = np.maximum(box1_x1, box2_x1)\n",
    "        y1 = np.maximum(box1_y1, box2_y1)\n",
    "        x2 = np.minimum(box1_x2, box2_x2)\n",
    "        y2 = np.minimum(box1_y2, box2_y2)\n",
    "        intersec = (x2-x1)*(y2-y1)\n",
    "        box1_area = (box1_x2-box1_x1)*(box1_y2-box1_y1)\n",
    "        box2_area = (box2_x2-box2_x1)*(box2_y2-box2_y1)\n",
    "        uni = box1_area + box2_area - intersec\n",
    "        metric = intersec / uni\n",
    "        boxes = boxes[metric<0.7]\n",
    "    end = time.time()\n",
    "    duration_onnx_impr[i] = end - start"
   ]
  },
  {
   "cell_type": "code",
   "execution_count": 18,
   "metadata": {},
   "outputs": [
    {
     "data": {
      "text/html": [
       "<div>\n",
       "<style scoped>\n",
       "    .dataframe tbody tr th:only-of-type {\n",
       "        vertical-align: middle;\n",
       "    }\n",
       "\n",
       "    .dataframe tbody tr th {\n",
       "        vertical-align: top;\n",
       "    }\n",
       "\n",
       "    .dataframe thead th {\n",
       "        text-align: right;\n",
       "    }\n",
       "</style>\n",
       "<table border=\"1\" class=\"dataframe\">\n",
       "  <thead>\n",
       "    <tr style=\"text-align: right;\">\n",
       "      <th></th>\n",
       "      <th>pt</th>\n",
       "      <th>onnx</th>\n",
       "      <th>onnx_impr</th>\n",
       "    </tr>\n",
       "  </thead>\n",
       "  <tbody>\n",
       "    <tr>\n",
       "      <th>count</th>\n",
       "      <td>200.000000</td>\n",
       "      <td>200.000000</td>\n",
       "      <td>200.000000</td>\n",
       "    </tr>\n",
       "    <tr>\n",
       "      <th>mean</th>\n",
       "      <td>0.274277</td>\n",
       "      <td>0.236410</td>\n",
       "      <td>0.240396</td>\n",
       "    </tr>\n",
       "    <tr>\n",
       "      <th>std</th>\n",
       "      <td>0.020276</td>\n",
       "      <td>0.027227</td>\n",
       "      <td>0.022078</td>\n",
       "    </tr>\n",
       "    <tr>\n",
       "      <th>min</th>\n",
       "      <td>0.231703</td>\n",
       "      <td>0.166630</td>\n",
       "      <td>0.174530</td>\n",
       "    </tr>\n",
       "    <tr>\n",
       "      <th>25%</th>\n",
       "      <td>0.264719</td>\n",
       "      <td>0.216892</td>\n",
       "      <td>0.224300</td>\n",
       "    </tr>\n",
       "    <tr>\n",
       "      <th>50%</th>\n",
       "      <td>0.273902</td>\n",
       "      <td>0.236424</td>\n",
       "      <td>0.246208</td>\n",
       "    </tr>\n",
       "    <tr>\n",
       "      <th>75%</th>\n",
       "      <td>0.285637</td>\n",
       "      <td>0.250223</td>\n",
       "      <td>0.254021</td>\n",
       "    </tr>\n",
       "    <tr>\n",
       "      <th>max</th>\n",
       "      <td>0.333182</td>\n",
       "      <td>0.452277</td>\n",
       "      <td>0.315783</td>\n",
       "    </tr>\n",
       "  </tbody>\n",
       "</table>\n",
       "</div>"
      ],
      "text/plain": [
       "               pt        onnx   onnx_impr\n",
       "count  200.000000  200.000000  200.000000\n",
       "mean     0.274277    0.236410    0.240396\n",
       "std      0.020276    0.027227    0.022078\n",
       "min      0.231703    0.166630    0.174530\n",
       "25%      0.264719    0.216892    0.224300\n",
       "50%      0.273902    0.236424    0.246208\n",
       "75%      0.285637    0.250223    0.254021\n",
       "max      0.333182    0.452277    0.315783"
      ]
     },
     "execution_count": 18,
     "metadata": {},
     "output_type": "execute_result"
    }
   ],
   "source": [
    "df_speed_comparison['onnx_impr'] = duration_onnx_impr\n",
    "df_speed_comparison.describe()"
   ]
  },
  {
   "cell_type": "markdown",
   "metadata": {},
   "source": [
    "Стандартный инференс через onnx оказался самым быстрым. Попробуем ускорить функции обработки numpy"
   ]
  },
  {
   "cell_type": "markdown",
   "metadata": {},
   "source": [
    "## ONNX + jax"
   ]
  },
  {
   "cell_type": "code",
   "execution_count": 19,
   "metadata": {},
   "outputs": [],
   "source": [
    "import jax.numpy as jnp\n",
    "from jax import jit\n",
    "\n",
    "@jit\n",
    "def get_boxes(filtered_rows, img_width, img_height):\n",
    "    x1s = (filtered_rows[:, 0] - filtered_rows[:, 2]/2) / 640 * img_width\n",
    "    y1s = (filtered_rows[:, 1] - filtered_rows[:, 3]/2) / 640 * img_height\n",
    "    x2s = (filtered_rows[:, 0] + filtered_rows[:, 2]/2) / 640 * img_width\n",
    "    y2s = (filtered_rows[:, 1] + filtered_rows[:, 3]/2) / 640 * img_height\n",
    "    boxes = jnp.array([x1s, y1s, x2s, y2s]).T\n",
    "    return boxes\n",
    "\n",
    "@jit\n",
    "def convert_pil_tonumpy(img):\n",
    "    return (\n",
    "        img.transpose(2, 0, 1).reshape(1, 3, 640, 640)/255.0\n",
    "    ).astype(np.float32)"
   ]
  },
  {
   "cell_type": "code",
   "execution_count": 20,
   "metadata": {},
   "outputs": [],
   "source": [
    "duration_onnx_jax = [0] * n_iters"
   ]
  },
  {
   "cell_type": "code",
   "execution_count": 21,
   "metadata": {},
   "outputs": [
    {
     "name": "stderr",
     "output_type": "stream",
     "text": [
      "100%|██████████| 200/200 [00:50<00:00,  3.98it/s]"
     ]
    },
    {
     "name": "stdout",
     "output_type": "stream",
     "text": [
      "CPU times: total: 9min\n",
      "Wall time: 50.2 s\n"
     ]
    },
    {
     "name": "stderr",
     "output_type": "stream",
     "text": [
      "\n"
     ]
    }
   ],
   "source": [
    "%%time\n",
    "for i in tqdm(range(n_iters)):\n",
    "    start = time.time()\n",
    "    sample_file = filenames[i]\n",
    "    img = Image.open(\n",
    "        sample_file\n",
    "    )\n",
    "    img_width, img_height = img.size\n",
    "    img_terminal = img.resize((640, 640)).convert(\"RGB\")\n",
    "    \n",
    "    img_terminal = (np.array(img_terminal).transpose(2, 0, 1).reshape(1, 3, 640, 640)/255.0).astype(np.float32)\n",
    "    outputs = model_terminal_od_onnx_fixed.run(\n",
    "        [\"output0\"], {\"images\":img_terminal}\n",
    "    )\n",
    "    output = outputs[0][0].transpose()\n",
    "    filtered_rows = output[\n",
    "        output[:, 4:].max(axis=1) > 0.5\n",
    "    ]\n",
    "    filtered_rows = filtered_rows[\n",
    "        filtered_rows[:, 4].argsort()\n",
    "    ]\n",
    "    boxes = get_boxes(filtered_rows, img_width, img_height)\n",
    "    result = []\n",
    "    while len(boxes)>0:\n",
    "        result.append(boxes[0])\n",
    "        boxes = [box for box in boxes if iou(box, boxes[0])<0.7]\n",
    "    end = time.time()\n",
    "    duration_onnx_jax[i] = end - start"
   ]
  },
  {
   "cell_type": "code",
   "execution_count": 22,
   "metadata": {},
   "outputs": [
    {
     "data": {
      "text/html": [
       "<div>\n",
       "<style scoped>\n",
       "    .dataframe tbody tr th:only-of-type {\n",
       "        vertical-align: middle;\n",
       "    }\n",
       "\n",
       "    .dataframe tbody tr th {\n",
       "        vertical-align: top;\n",
       "    }\n",
       "\n",
       "    .dataframe thead th {\n",
       "        text-align: right;\n",
       "    }\n",
       "</style>\n",
       "<table border=\"1\" class=\"dataframe\">\n",
       "  <thead>\n",
       "    <tr style=\"text-align: right;\">\n",
       "      <th></th>\n",
       "      <th>pt</th>\n",
       "      <th>onnx</th>\n",
       "      <th>onnx_impr</th>\n",
       "      <th>onnx_jax</th>\n",
       "    </tr>\n",
       "  </thead>\n",
       "  <tbody>\n",
       "    <tr>\n",
       "      <th>count</th>\n",
       "      <td>200.000000</td>\n",
       "      <td>200.000000</td>\n",
       "      <td>200.000000</td>\n",
       "      <td>200.000000</td>\n",
       "    </tr>\n",
       "    <tr>\n",
       "      <th>mean</th>\n",
       "      <td>0.274277</td>\n",
       "      <td>0.236410</td>\n",
       "      <td>0.240396</td>\n",
       "      <td>0.249841</td>\n",
       "    </tr>\n",
       "    <tr>\n",
       "      <th>std</th>\n",
       "      <td>0.020276</td>\n",
       "      <td>0.027227</td>\n",
       "      <td>0.022078</td>\n",
       "      <td>0.030698</td>\n",
       "    </tr>\n",
       "    <tr>\n",
       "      <th>min</th>\n",
       "      <td>0.231703</td>\n",
       "      <td>0.166630</td>\n",
       "      <td>0.174530</td>\n",
       "      <td>0.182125</td>\n",
       "    </tr>\n",
       "    <tr>\n",
       "      <th>25%</th>\n",
       "      <td>0.264719</td>\n",
       "      <td>0.216892</td>\n",
       "      <td>0.224300</td>\n",
       "      <td>0.232339</td>\n",
       "    </tr>\n",
       "    <tr>\n",
       "      <th>50%</th>\n",
       "      <td>0.273902</td>\n",
       "      <td>0.236424</td>\n",
       "      <td>0.246208</td>\n",
       "      <td>0.252049</td>\n",
       "    </tr>\n",
       "    <tr>\n",
       "      <th>75%</th>\n",
       "      <td>0.285637</td>\n",
       "      <td>0.250223</td>\n",
       "      <td>0.254021</td>\n",
       "      <td>0.266373</td>\n",
       "    </tr>\n",
       "    <tr>\n",
       "      <th>max</th>\n",
       "      <td>0.333182</td>\n",
       "      <td>0.452277</td>\n",
       "      <td>0.315783</td>\n",
       "      <td>0.383943</td>\n",
       "    </tr>\n",
       "  </tbody>\n",
       "</table>\n",
       "</div>"
      ],
      "text/plain": [
       "               pt        onnx   onnx_impr    onnx_jax\n",
       "count  200.000000  200.000000  200.000000  200.000000\n",
       "mean     0.274277    0.236410    0.240396    0.249841\n",
       "std      0.020276    0.027227    0.022078    0.030698\n",
       "min      0.231703    0.166630    0.174530    0.182125\n",
       "25%      0.264719    0.216892    0.224300    0.232339\n",
       "50%      0.273902    0.236424    0.246208    0.252049\n",
       "75%      0.285637    0.250223    0.254021    0.266373\n",
       "max      0.333182    0.452277    0.315783    0.383943"
      ]
     },
     "execution_count": 22,
     "metadata": {},
     "output_type": "execute_result"
    }
   ],
   "source": [
    "df_speed_comparison['onnx_jax'] = duration_onnx_jax\n",
    "df_speed_comparison.describe()"
   ]
  },
  {
   "cell_type": "markdown",
   "metadata": {},
   "source": [
    "## ONNX + jax + jax image processing"
   ]
  },
  {
   "cell_type": "code",
   "execution_count": 23,
   "metadata": {},
   "outputs": [],
   "source": [
    "duration_onnx_jax_img_preproc = [0] * n_iters"
   ]
  },
  {
   "cell_type": "code",
   "execution_count": 24,
   "metadata": {},
   "outputs": [
    {
     "name": "stderr",
     "output_type": "stream",
     "text": [
      "100%|██████████| 200/200 [00:46<00:00,  4.34it/s]"
     ]
    },
    {
     "name": "stdout",
     "output_type": "stream",
     "text": [
      "CPU times: total: 8min 32s\n",
      "Wall time: 46.1 s\n"
     ]
    },
    {
     "name": "stderr",
     "output_type": "stream",
     "text": [
      "\n"
     ]
    }
   ],
   "source": [
    "%%time\n",
    "for i in tqdm(range(n_iters)):\n",
    "    start = time.time()\n",
    "    sample_file = filenames[i]\n",
    "    img = Image.open(\n",
    "        sample_file\n",
    "    )\n",
    "    img_width, img_height = img.size\n",
    "    img_terminal = img.resize((640, 640)).convert(\"RGB\")\n",
    "    img_terminal = jnp.array(img_terminal)\n",
    "    img_terminal = convert_pil_tonumpy(img_terminal)\n",
    "    outputs = model_terminal_od_onnx_fixed.run(\n",
    "        [\"output0\"], {\"images\":np.array(img_terminal)}\n",
    "    )\n",
    "    output = outputs[0][0].transpose()\n",
    "    filtered_rows = output[\n",
    "        output[:, 4:].max(axis=1) > 0.5\n",
    "    ]\n",
    "    filtered_rows = filtered_rows[\n",
    "        filtered_rows[:, 4].argsort()\n",
    "    ]\n",
    "    boxes = get_boxes(filtered_rows, img_width, img_height)\n",
    "    result = []\n",
    "    while len(boxes)>0:\n",
    "        result.append(boxes[0])\n",
    "        boxes = [box for box in boxes if iou(box, boxes[0])<0.7]\n",
    "    end = time.time()\n",
    "    duration_onnx_jax_img_preproc[i] = end - start"
   ]
  },
  {
   "cell_type": "code",
   "execution_count": 25,
   "metadata": {},
   "outputs": [
    {
     "data": {
      "text/html": [
       "<div>\n",
       "<style scoped>\n",
       "    .dataframe tbody tr th:only-of-type {\n",
       "        vertical-align: middle;\n",
       "    }\n",
       "\n",
       "    .dataframe tbody tr th {\n",
       "        vertical-align: top;\n",
       "    }\n",
       "\n",
       "    .dataframe thead th {\n",
       "        text-align: right;\n",
       "    }\n",
       "</style>\n",
       "<table border=\"1\" class=\"dataframe\">\n",
       "  <thead>\n",
       "    <tr style=\"text-align: right;\">\n",
       "      <th></th>\n",
       "      <th>pt</th>\n",
       "      <th>onnx</th>\n",
       "      <th>onnx_impr</th>\n",
       "      <th>onnx_jax</th>\n",
       "      <th>onnx_jax_img_prepoc</th>\n",
       "    </tr>\n",
       "  </thead>\n",
       "  <tbody>\n",
       "    <tr>\n",
       "      <th>count</th>\n",
       "      <td>200.000000</td>\n",
       "      <td>200.000000</td>\n",
       "      <td>200.000000</td>\n",
       "      <td>200.000000</td>\n",
       "      <td>200.000000</td>\n",
       "    </tr>\n",
       "    <tr>\n",
       "      <th>mean</th>\n",
       "      <td>0.274277</td>\n",
       "      <td>0.236410</td>\n",
       "      <td>0.240396</td>\n",
       "      <td>0.249841</td>\n",
       "      <td>0.229232</td>\n",
       "    </tr>\n",
       "    <tr>\n",
       "      <th>std</th>\n",
       "      <td>0.020276</td>\n",
       "      <td>0.027227</td>\n",
       "      <td>0.022078</td>\n",
       "      <td>0.030698</td>\n",
       "      <td>0.025059</td>\n",
       "    </tr>\n",
       "    <tr>\n",
       "      <th>min</th>\n",
       "      <td>0.231703</td>\n",
       "      <td>0.166630</td>\n",
       "      <td>0.174530</td>\n",
       "      <td>0.182125</td>\n",
       "      <td>0.182420</td>\n",
       "    </tr>\n",
       "    <tr>\n",
       "      <th>25%</th>\n",
       "      <td>0.264719</td>\n",
       "      <td>0.216892</td>\n",
       "      <td>0.224300</td>\n",
       "      <td>0.232339</td>\n",
       "      <td>0.211945</td>\n",
       "    </tr>\n",
       "    <tr>\n",
       "      <th>50%</th>\n",
       "      <td>0.273902</td>\n",
       "      <td>0.236424</td>\n",
       "      <td>0.246208</td>\n",
       "      <td>0.252049</td>\n",
       "      <td>0.231616</td>\n",
       "    </tr>\n",
       "    <tr>\n",
       "      <th>75%</th>\n",
       "      <td>0.285637</td>\n",
       "      <td>0.250223</td>\n",
       "      <td>0.254021</td>\n",
       "      <td>0.266373</td>\n",
       "      <td>0.249049</td>\n",
       "    </tr>\n",
       "    <tr>\n",
       "      <th>max</th>\n",
       "      <td>0.333182</td>\n",
       "      <td>0.452277</td>\n",
       "      <td>0.315783</td>\n",
       "      <td>0.383943</td>\n",
       "      <td>0.297797</td>\n",
       "    </tr>\n",
       "  </tbody>\n",
       "</table>\n",
       "</div>"
      ],
      "text/plain": [
       "               pt        onnx   onnx_impr    onnx_jax  onnx_jax_img_prepoc\n",
       "count  200.000000  200.000000  200.000000  200.000000           200.000000\n",
       "mean     0.274277    0.236410    0.240396    0.249841             0.229232\n",
       "std      0.020276    0.027227    0.022078    0.030698             0.025059\n",
       "min      0.231703    0.166630    0.174530    0.182125             0.182420\n",
       "25%      0.264719    0.216892    0.224300    0.232339             0.211945\n",
       "50%      0.273902    0.236424    0.246208    0.252049             0.231616\n",
       "75%      0.285637    0.250223    0.254021    0.266373             0.249049\n",
       "max      0.333182    0.452277    0.315783    0.383943             0.297797"
      ]
     },
     "execution_count": 25,
     "metadata": {},
     "output_type": "execute_result"
    }
   ],
   "source": [
    "df_speed_comparison['onnx_jax_img_prepoc'] = duration_onnx_jax_img_preproc\n",
    "df_speed_comparison.describe()"
   ]
  },
  {
   "cell_type": "markdown",
   "metadata": {},
   "source": [
    "Jaxlib не ставится на сигму :("
   ]
  },
  {
   "cell_type": "markdown",
   "metadata": {},
   "source": [
    "## Numba"
   ]
  },
  {
   "cell_type": "code",
   "execution_count": 26,
   "metadata": {},
   "outputs": [],
   "source": [
    "numba = [0] * n_iters"
   ]
  },
  {
   "cell_type": "code",
   "execution_count": 27,
   "metadata": {},
   "outputs": [],
   "source": [
    "from numba import njit\n",
    "\n",
    "@njit\n",
    "def get_boxes(filtered_rows, img_width, img_height):\n",
    "    x1s = (filtered_rows[:, 0] - filtered_rows[:, 2]/2) / 640 * img_width\n",
    "    y1s = (filtered_rows[:, 1] - filtered_rows[:, 3]/2) / 640 * img_height\n",
    "    x2s = (filtered_rows[:, 0] + filtered_rows[:, 2]/2) / 640 * img_width\n",
    "    y2s = (filtered_rows[:, 1] + filtered_rows[:, 3]/2) / 640 * img_height\n",
    "    return x1s, y1s, x2s, y2s\n",
    "\n",
    "@njit\n",
    "def convert_pil_tonumpy(img):\n",
    "    return (img/255.0).astype(np.float32)"
   ]
  },
  {
   "cell_type": "code",
   "execution_count": 28,
   "metadata": {},
   "outputs": [
    {
     "name": "stderr",
     "output_type": "stream",
     "text": [
      "100%|██████████| 200/200 [00:48<00:00,  4.08it/s]"
     ]
    },
    {
     "name": "stdout",
     "output_type": "stream",
     "text": [
      "CPU times: total: 9min 27s\n",
      "Wall time: 49 s\n"
     ]
    },
    {
     "name": "stderr",
     "output_type": "stream",
     "text": [
      "\n"
     ]
    }
   ],
   "source": [
    "%%time\n",
    "for i in tqdm(range(n_iters)):\n",
    "    start = time.time()\n",
    "    sample_file = filenames[i]\n",
    "    img = Image.open(\n",
    "        sample_file\n",
    "    )\n",
    "    img_width, img_height = img.size\n",
    "    img_terminal = img.resize((640, 640)).convert(\"RGB\")\n",
    "    img_terminal = np.array(img_terminal).transpose(2, 0, 1).reshape(1, 3, 640, 640)\n",
    "    img_terminal = convert_pil_tonumpy(img_terminal)\n",
    "    outputs = model_terminal_od_onnx_fixed.run(\n",
    "        [\"output0\"], {\"images\": img_terminal}\n",
    "    )\n",
    "    output = outputs[0][0].transpose()\n",
    "    filtered_rows = output[\n",
    "        output[:, 4:].max(axis=1) > 0.5\n",
    "    ]\n",
    "    filtered_rows = filtered_rows[\n",
    "        filtered_rows[:, 4].argsort()\n",
    "    ]\n",
    "    x1s, y1s, x2s, y2s = get_boxes(filtered_rows, img_width, img_height)\n",
    "    boxes = np.array([x1s, y1s, x2s, y2s]).T\n",
    "    result = []\n",
    "    while len(boxes)>0:\n",
    "        result.append(boxes[0])\n",
    "        boxes = [box for box in boxes if iou(box, boxes[0])<0.7]\n",
    "    end = time.time()\n",
    "    numba[i] = end - start"
   ]
  },
  {
   "cell_type": "code",
   "execution_count": 29,
   "metadata": {},
   "outputs": [
    {
     "data": {
      "text/html": [
       "<div>\n",
       "<style scoped>\n",
       "    .dataframe tbody tr th:only-of-type {\n",
       "        vertical-align: middle;\n",
       "    }\n",
       "\n",
       "    .dataframe tbody tr th {\n",
       "        vertical-align: top;\n",
       "    }\n",
       "\n",
       "    .dataframe thead th {\n",
       "        text-align: right;\n",
       "    }\n",
       "</style>\n",
       "<table border=\"1\" class=\"dataframe\">\n",
       "  <thead>\n",
       "    <tr style=\"text-align: right;\">\n",
       "      <th></th>\n",
       "      <th>pt</th>\n",
       "      <th>onnx</th>\n",
       "      <th>onnx_impr</th>\n",
       "      <th>onnx_jax</th>\n",
       "      <th>onnx_jax_img_prepoc</th>\n",
       "      <th>numba</th>\n",
       "    </tr>\n",
       "  </thead>\n",
       "  <tbody>\n",
       "    <tr>\n",
       "      <th>count</th>\n",
       "      <td>200.000000</td>\n",
       "      <td>200.000000</td>\n",
       "      <td>200.000000</td>\n",
       "      <td>200.000000</td>\n",
       "      <td>200.000000</td>\n",
       "      <td>200.000000</td>\n",
       "    </tr>\n",
       "    <tr>\n",
       "      <th>mean</th>\n",
       "      <td>0.274277</td>\n",
       "      <td>0.236410</td>\n",
       "      <td>0.240396</td>\n",
       "      <td>0.249841</td>\n",
       "      <td>0.229232</td>\n",
       "      <td>0.244020</td>\n",
       "    </tr>\n",
       "    <tr>\n",
       "      <th>std</th>\n",
       "      <td>0.020276</td>\n",
       "      <td>0.027227</td>\n",
       "      <td>0.022078</td>\n",
       "      <td>0.030698</td>\n",
       "      <td>0.025059</td>\n",
       "      <td>0.067842</td>\n",
       "    </tr>\n",
       "    <tr>\n",
       "      <th>min</th>\n",
       "      <td>0.231703</td>\n",
       "      <td>0.166630</td>\n",
       "      <td>0.174530</td>\n",
       "      <td>0.182125</td>\n",
       "      <td>0.182420</td>\n",
       "      <td>0.167603</td>\n",
       "    </tr>\n",
       "    <tr>\n",
       "      <th>25%</th>\n",
       "      <td>0.264719</td>\n",
       "      <td>0.216892</td>\n",
       "      <td>0.224300</td>\n",
       "      <td>0.232339</td>\n",
       "      <td>0.211945</td>\n",
       "      <td>0.216746</td>\n",
       "    </tr>\n",
       "    <tr>\n",
       "      <th>50%</th>\n",
       "      <td>0.273902</td>\n",
       "      <td>0.236424</td>\n",
       "      <td>0.246208</td>\n",
       "      <td>0.252049</td>\n",
       "      <td>0.231616</td>\n",
       "      <td>0.234115</td>\n",
       "    </tr>\n",
       "    <tr>\n",
       "      <th>75%</th>\n",
       "      <td>0.285637</td>\n",
       "      <td>0.250223</td>\n",
       "      <td>0.254021</td>\n",
       "      <td>0.266373</td>\n",
       "      <td>0.249049</td>\n",
       "      <td>0.254091</td>\n",
       "    </tr>\n",
       "    <tr>\n",
       "      <th>max</th>\n",
       "      <td>0.333182</td>\n",
       "      <td>0.452277</td>\n",
       "      <td>0.315783</td>\n",
       "      <td>0.383943</td>\n",
       "      <td>0.297797</td>\n",
       "      <td>0.995256</td>\n",
       "    </tr>\n",
       "  </tbody>\n",
       "</table>\n",
       "</div>"
      ],
      "text/plain": [
       "               pt        onnx   onnx_impr    onnx_jax  onnx_jax_img_prepoc  \\\n",
       "count  200.000000  200.000000  200.000000  200.000000           200.000000   \n",
       "mean     0.274277    0.236410    0.240396    0.249841             0.229232   \n",
       "std      0.020276    0.027227    0.022078    0.030698             0.025059   \n",
       "min      0.231703    0.166630    0.174530    0.182125             0.182420   \n",
       "25%      0.264719    0.216892    0.224300    0.232339             0.211945   \n",
       "50%      0.273902    0.236424    0.246208    0.252049             0.231616   \n",
       "75%      0.285637    0.250223    0.254021    0.266373             0.249049   \n",
       "max      0.333182    0.452277    0.315783    0.383943             0.297797   \n",
       "\n",
       "            numba  \n",
       "count  200.000000  \n",
       "mean     0.244020  \n",
       "std      0.067842  \n",
       "min      0.167603  \n",
       "25%      0.216746  \n",
       "50%      0.234115  \n",
       "75%      0.254091  \n",
       "max      0.995256  "
      ]
     },
     "execution_count": 29,
     "metadata": {},
     "output_type": "execute_result"
    }
   ],
   "source": [
    "df_speed_comparison['numba'] = numba\n",
    "df_speed_comparison.describe()"
   ]
  },
  {
   "cell_type": "markdown",
   "metadata": {},
   "source": [
    "## Numba + Numba IOU"
   ]
  },
  {
   "cell_type": "code",
   "execution_count": 30,
   "metadata": {},
   "outputs": [],
   "source": [
    "numba_iou = [0] * n_iters"
   ]
  },
  {
   "cell_type": "code",
   "execution_count": 31,
   "metadata": {},
   "outputs": [],
   "source": [
    "@njit\n",
    "def get_metric(boxes):\n",
    "    box2_x1, box2_y1, box2_x2, box2_y2 = boxes[0]\n",
    "    box1_x1 = boxes[:, 0]\n",
    "    box1_y1 = boxes[:, 1]\n",
    "    box1_x2 = boxes[:, 2]\n",
    "    box1_y2 = boxes[:, 3]\n",
    "    x1 = np.maximum(box1_x1, box2_x1)\n",
    "    y1 = np.maximum(box1_y1, box2_y1)\n",
    "    x2 = np.minimum(box1_x2, box2_x2)\n",
    "    y2 = np.minimum(box1_y2, box2_y2)\n",
    "    intersec = (x2-x1)*(y2-y1)\n",
    "    box1_area = (box1_x2-box1_x1)*(box1_y2-box1_y1)\n",
    "    box2_area = (box2_x2-box2_x1)*(box2_y2-box2_y1)\n",
    "    uni = box1_area + box2_area - intersec\n",
    "    metric = intersec / uni\n",
    "    return metric"
   ]
  },
  {
   "cell_type": "code",
   "execution_count": 32,
   "metadata": {},
   "outputs": [
    {
     "name": "stderr",
     "output_type": "stream",
     "text": [
      "100%|██████████| 200/200 [00:48<00:00,  4.09it/s]"
     ]
    },
    {
     "name": "stdout",
     "output_type": "stream",
     "text": [
      "CPU times: total: 9min 8s\n",
      "Wall time: 48.9 s\n"
     ]
    },
    {
     "name": "stderr",
     "output_type": "stream",
     "text": [
      "\n"
     ]
    }
   ],
   "source": [
    "%%time\n",
    "for i in tqdm(range(n_iters)):\n",
    "    start = time.time()\n",
    "    sample_file = filenames[i]\n",
    "    img = Image.open(\n",
    "        sample_file\n",
    "    )\n",
    "    img_width, img_height = img.size\n",
    "    img_terminal = img.resize((640, 640)).convert(\"RGB\")\n",
    "    img_terminal = (np.array(img_terminal).transpose(2, 0, 1).reshape(1, 3, 640, 640)/255.0).astype(np.float32)\n",
    "    outputs = model_terminal_od_onnx_fixed.run(\n",
    "        [\"output0\"], {\"images\":img_terminal}\n",
    "    )\n",
    "    output = outputs[0][0].transpose()\n",
    "    filtered_rows = output[\n",
    "        output[:, 4:].max(axis=1) > 0.5\n",
    "    ]\n",
    "    filtered_rows = filtered_rows[\n",
    "        filtered_rows[:, 4].argsort()\n",
    "    ]\n",
    "    x1s = (filtered_rows[:, 0] - filtered_rows[:, 2]/2) / 640 * img_width\n",
    "    y1s = (filtered_rows[:, 1] - filtered_rows[:, 3]/2) / 640 * img_height\n",
    "    x2s = (filtered_rows[:, 0] + filtered_rows[:, 2]/2) / 640 * img_width\n",
    "    y2s = (filtered_rows[:, 1] + filtered_rows[:, 3]/2) / 640 * img_height\n",
    "    boxes = np.array([x1s, y1s, x2s, y2s]).T\n",
    "    result = []\n",
    "    while len(boxes)>0:\n",
    "        result.append(boxes[0])\n",
    "        metric = get_metric(boxes)\n",
    "        boxes = boxes[metric<0.7]\n",
    "    end = time.time()\n",
    "    numba_iou[i] = end - start"
   ]
  },
  {
   "cell_type": "code",
   "execution_count": 33,
   "metadata": {},
   "outputs": [
    {
     "data": {
      "text/html": [
       "<div>\n",
       "<style scoped>\n",
       "    .dataframe tbody tr th:only-of-type {\n",
       "        vertical-align: middle;\n",
       "    }\n",
       "\n",
       "    .dataframe tbody tr th {\n",
       "        vertical-align: top;\n",
       "    }\n",
       "\n",
       "    .dataframe thead th {\n",
       "        text-align: right;\n",
       "    }\n",
       "</style>\n",
       "<table border=\"1\" class=\"dataframe\">\n",
       "  <thead>\n",
       "    <tr style=\"text-align: right;\">\n",
       "      <th></th>\n",
       "      <th>pt</th>\n",
       "      <th>onnx</th>\n",
       "      <th>onnx_impr</th>\n",
       "      <th>onnx_jax</th>\n",
       "      <th>onnx_jax_img_prepoc</th>\n",
       "      <th>numba</th>\n",
       "      <th>numba_iou</th>\n",
       "    </tr>\n",
       "  </thead>\n",
       "  <tbody>\n",
       "    <tr>\n",
       "      <th>count</th>\n",
       "      <td>200.000000</td>\n",
       "      <td>200.000000</td>\n",
       "      <td>200.000000</td>\n",
       "      <td>200.000000</td>\n",
       "      <td>200.000000</td>\n",
       "      <td>200.000000</td>\n",
       "      <td>200.000000</td>\n",
       "    </tr>\n",
       "    <tr>\n",
       "      <th>mean</th>\n",
       "      <td>0.274277</td>\n",
       "      <td>0.236410</td>\n",
       "      <td>0.240396</td>\n",
       "      <td>0.249841</td>\n",
       "      <td>0.229232</td>\n",
       "      <td>0.244020</td>\n",
       "      <td>0.243303</td>\n",
       "    </tr>\n",
       "    <tr>\n",
       "      <th>std</th>\n",
       "      <td>0.020276</td>\n",
       "      <td>0.027227</td>\n",
       "      <td>0.022078</td>\n",
       "      <td>0.030698</td>\n",
       "      <td>0.025059</td>\n",
       "      <td>0.067842</td>\n",
       "      <td>0.051673</td>\n",
       "    </tr>\n",
       "    <tr>\n",
       "      <th>min</th>\n",
       "      <td>0.231703</td>\n",
       "      <td>0.166630</td>\n",
       "      <td>0.174530</td>\n",
       "      <td>0.182125</td>\n",
       "      <td>0.182420</td>\n",
       "      <td>0.167603</td>\n",
       "      <td>0.166496</td>\n",
       "    </tr>\n",
       "    <tr>\n",
       "      <th>25%</th>\n",
       "      <td>0.264719</td>\n",
       "      <td>0.216892</td>\n",
       "      <td>0.224300</td>\n",
       "      <td>0.232339</td>\n",
       "      <td>0.211945</td>\n",
       "      <td>0.216746</td>\n",
       "      <td>0.217221</td>\n",
       "    </tr>\n",
       "    <tr>\n",
       "      <th>50%</th>\n",
       "      <td>0.273902</td>\n",
       "      <td>0.236424</td>\n",
       "      <td>0.246208</td>\n",
       "      <td>0.252049</td>\n",
       "      <td>0.231616</td>\n",
       "      <td>0.234115</td>\n",
       "      <td>0.245026</td>\n",
       "    </tr>\n",
       "    <tr>\n",
       "      <th>75%</th>\n",
       "      <td>0.285637</td>\n",
       "      <td>0.250223</td>\n",
       "      <td>0.254021</td>\n",
       "      <td>0.266373</td>\n",
       "      <td>0.249049</td>\n",
       "      <td>0.254091</td>\n",
       "      <td>0.255152</td>\n",
       "    </tr>\n",
       "    <tr>\n",
       "      <th>max</th>\n",
       "      <td>0.333182</td>\n",
       "      <td>0.452277</td>\n",
       "      <td>0.315783</td>\n",
       "      <td>0.383943</td>\n",
       "      <td>0.297797</td>\n",
       "      <td>0.995256</td>\n",
       "      <td>0.748493</td>\n",
       "    </tr>\n",
       "  </tbody>\n",
       "</table>\n",
       "</div>"
      ],
      "text/plain": [
       "               pt        onnx   onnx_impr    onnx_jax  onnx_jax_img_prepoc  \\\n",
       "count  200.000000  200.000000  200.000000  200.000000           200.000000   \n",
       "mean     0.274277    0.236410    0.240396    0.249841             0.229232   \n",
       "std      0.020276    0.027227    0.022078    0.030698             0.025059   \n",
       "min      0.231703    0.166630    0.174530    0.182125             0.182420   \n",
       "25%      0.264719    0.216892    0.224300    0.232339             0.211945   \n",
       "50%      0.273902    0.236424    0.246208    0.252049             0.231616   \n",
       "75%      0.285637    0.250223    0.254021    0.266373             0.249049   \n",
       "max      0.333182    0.452277    0.315783    0.383943             0.297797   \n",
       "\n",
       "            numba   numba_iou  \n",
       "count  200.000000  200.000000  \n",
       "mean     0.244020    0.243303  \n",
       "std      0.067842    0.051673  \n",
       "min      0.167603    0.166496  \n",
       "25%      0.216746    0.217221  \n",
       "50%      0.234115    0.245026  \n",
       "75%      0.254091    0.255152  \n",
       "max      0.995256    0.748493  "
      ]
     },
     "execution_count": 33,
     "metadata": {},
     "output_type": "execute_result"
    }
   ],
   "source": [
    "df_speed_comparison['numba_iou'] = numba_iou\n",
    "df_speed_comparison.describe()"
   ]
  },
  {
   "cell_type": "code",
   "execution_count": 39,
   "metadata": {},
   "outputs": [
    {
     "name": "stdout",
     "output_type": "stream",
     "text": [
      "Уменьшение времени в процентах: 13.8061%\n"
     ]
    }
   ],
   "source": [
    "print(f'Уменьшение времени в процентах: {100 - (0.236410 / 0.274277 * 100):.4f}%')"
   ]
  },
  {
   "cell_type": "markdown",
   "metadata": {},
   "source": [
    "Стало хуже, лучшее время показывает вариант ONNX"
   ]
  },
  {
   "cell_type": "code",
   "execution_count": 32,
   "metadata": {},
   "outputs": [],
   "source": [
    "# from PIL import ImageDraw\n",
    "\n",
    "# img = Image.open(sample_file)\n",
    "# draw = ImageDraw.Draw(img)\n",
    "\n",
    "# for box in result:\n",
    "#     x1,y1,x2,y2 = box\n",
    "#     draw.rectangle((x1,y1,x2,y2),None,\"#00ff00\")\n",
    "# img"
   ]
  }
 ],
 "metadata": {
  "kernelspec": {
   "display_name": "Python 3",
   "language": "python",
   "name": "python3"
  },
  "language_info": {
   "codemirror_mode": {
    "name": "ipython",
    "version": 3
   },
   "file_extension": ".py",
   "mimetype": "text/x-python",
   "name": "python",
   "nbconvert_exporter": "python",
   "pygments_lexer": "ipython3",
   "version": "3.10.11"
  }
 },
 "nbformat": 4,
 "nbformat_minor": 2
}
